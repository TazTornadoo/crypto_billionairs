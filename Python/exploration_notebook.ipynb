{
 "cells": [
  {
   "cell_type": "code",
   "execution_count": 122,
   "metadata": {},
   "outputs": [],
   "source": [
    "from data_storage import create_connection\n",
    "import pandas as pd\n",
    "import matplotlib.pyplot as plt\n",
    "import numpy as np\n",
    "from stockstats import StockDataFrame\n",
    "#from pandas_profiling import ProfileReport"
   ]
  },
  {
   "cell_type": "code",
   "execution_count": 123,
   "metadata": {},
   "outputs": [],
   "source": [
    "connection = create_connection(\"../database/crypto_billionairs.db\")"
   ]
  },
  {
   "cell_type": "code",
   "execution_count": 124,
   "metadata": {},
   "outputs": [],
   "source": [
    "df = pd.read_sql_query('select * from ETHUSDT_5m_complete_history', connection)"
   ]
  },
  {
   "cell_type": "code",
   "execution_count": 125,
   "metadata": {},
   "outputs": [
    {
     "data": {
      "text/html": [
       "<div>\n",
       "<style scoped>\n",
       "    .dataframe tbody tr th:only-of-type {\n",
       "        vertical-align: middle;\n",
       "    }\n",
       "\n",
       "    .dataframe tbody tr th {\n",
       "        vertical-align: top;\n",
       "    }\n",
       "\n",
       "    .dataframe thead th {\n",
       "        text-align: right;\n",
       "    }\n",
       "</style>\n",
       "<table border=\"1\" class=\"dataframe\">\n",
       "  <thead>\n",
       "    <tr style=\"text-align: right;\">\n",
       "      <th></th>\n",
       "      <th>open time</th>\n",
       "      <th>open</th>\n",
       "      <th>high</th>\n",
       "      <th>low</th>\n",
       "      <th>close</th>\n",
       "      <th>volume</th>\n",
       "      <th>close_time</th>\n",
       "      <th>quote_asset_volume</th>\n",
       "      <th>number_of_trades</th>\n",
       "      <th>taker_buy_base_asset_volume</th>\n",
       "      <th>taker_buy_quote_asset_volume</th>\n",
       "      <th>ignore</th>\n",
       "    </tr>\n",
       "  </thead>\n",
       "  <tbody>\n",
       "    <tr>\n",
       "      <th>0</th>\n",
       "      <td>1614556800000</td>\n",
       "      <td>1418.67</td>\n",
       "      <td>1428.17</td>\n",
       "      <td>1413.67</td>\n",
       "      <td>1414.77</td>\n",
       "      <td>4215.99347</td>\n",
       "      <td>1614557099999</td>\n",
       "      <td>5.995735e+06</td>\n",
       "      <td>4823</td>\n",
       "      <td>2090.04231</td>\n",
       "      <td>2.971696e+06</td>\n",
       "      <td>0</td>\n",
       "    </tr>\n",
       "    <tr>\n",
       "      <th>1</th>\n",
       "      <td>1614557100000</td>\n",
       "      <td>1414.77</td>\n",
       "      <td>1419.19</td>\n",
       "      <td>1409.91</td>\n",
       "      <td>1418.00</td>\n",
       "      <td>3775.48739</td>\n",
       "      <td>1614557399999</td>\n",
       "      <td>5.336616e+06</td>\n",
       "      <td>3855</td>\n",
       "      <td>2122.55630</td>\n",
       "      <td>2.999792e+06</td>\n",
       "      <td>0</td>\n",
       "    </tr>\n",
       "    <tr>\n",
       "      <th>2</th>\n",
       "      <td>1614557400000</td>\n",
       "      <td>1418.25</td>\n",
       "      <td>1422.00</td>\n",
       "      <td>1413.43</td>\n",
       "      <td>1421.99</td>\n",
       "      <td>2609.36133</td>\n",
       "      <td>1614557699999</td>\n",
       "      <td>3.696866e+06</td>\n",
       "      <td>2616</td>\n",
       "      <td>1341.07103</td>\n",
       "      <td>1.899618e+06</td>\n",
       "      <td>0</td>\n",
       "    </tr>\n",
       "    <tr>\n",
       "      <th>3</th>\n",
       "      <td>1614557700000</td>\n",
       "      <td>1422.00</td>\n",
       "      <td>1445.68</td>\n",
       "      <td>1421.58</td>\n",
       "      <td>1444.94</td>\n",
       "      <td>10711.71757</td>\n",
       "      <td>1614557999999</td>\n",
       "      <td>1.540127e+07</td>\n",
       "      <td>8424</td>\n",
       "      <td>5923.97507</td>\n",
       "      <td>8.518624e+06</td>\n",
       "      <td>0</td>\n",
       "    </tr>\n",
       "    <tr>\n",
       "      <th>4</th>\n",
       "      <td>1614558000000</td>\n",
       "      <td>1444.37</td>\n",
       "      <td>1448.59</td>\n",
       "      <td>1437.58</td>\n",
       "      <td>1442.60</td>\n",
       "      <td>4730.57675</td>\n",
       "      <td>1614558299999</td>\n",
       "      <td>6.828998e+06</td>\n",
       "      <td>4915</td>\n",
       "      <td>1962.46672</td>\n",
       "      <td>2.833183e+06</td>\n",
       "      <td>0</td>\n",
       "    </tr>\n",
       "  </tbody>\n",
       "</table>\n",
       "</div>"
      ],
      "text/plain": [
       "       open time     open     high      low    close       volume  \\\n",
       "0  1614556800000  1418.67  1428.17  1413.67  1414.77   4215.99347   \n",
       "1  1614557100000  1414.77  1419.19  1409.91  1418.00   3775.48739   \n",
       "2  1614557400000  1418.25  1422.00  1413.43  1421.99   2609.36133   \n",
       "3  1614557700000  1422.00  1445.68  1421.58  1444.94  10711.71757   \n",
       "4  1614558000000  1444.37  1448.59  1437.58  1442.60   4730.57675   \n",
       "\n",
       "      close_time  quote_asset_volume  number_of_trades  \\\n",
       "0  1614557099999        5.995735e+06              4823   \n",
       "1  1614557399999        5.336616e+06              3855   \n",
       "2  1614557699999        3.696866e+06              2616   \n",
       "3  1614557999999        1.540127e+07              8424   \n",
       "4  1614558299999        6.828998e+06              4915   \n",
       "\n",
       "   taker_buy_base_asset_volume  taker_buy_quote_asset_volume  ignore  \n",
       "0                   2090.04231                  2.971696e+06       0  \n",
       "1                   2122.55630                  2.999792e+06       0  \n",
       "2                   1341.07103                  1.899618e+06       0  \n",
       "3                   5923.97507                  8.518624e+06       0  \n",
       "4                   1962.46672                  2.833183e+06       0  "
      ]
     },
     "execution_count": 125,
     "metadata": {},
     "output_type": "execute_result"
    }
   ],
   "source": [
    "df.head()"
   ]
  },
  {
   "cell_type": "code",
   "execution_count": 126,
   "metadata": {},
   "outputs": [],
   "source": [
    "df[\"return\"] = df['close'].pct_change() + 1 "
   ]
  },
  {
   "cell_type": "code",
   "execution_count": 127,
   "metadata": {},
   "outputs": [],
   "source": [
    "#prof = ProfileReport(df)\n",
    "#prof.to_file(output_file='data_profile.html')"
   ]
  },
  {
   "cell_type": "code",
   "execution_count": 128,
   "metadata": {},
   "outputs": [
    {
     "name": "stderr",
     "output_type": "stream",
     "text": [
      "No handles with labels found to put in legend.\n"
     ]
    },
    {
     "data": {
      "image/png": "[encoded data removed]",
      "text/plain": [
       "<Figure size 432x288 with 1 Axes>"
      ]
     },
     "metadata": {
      "needs_background": "light"
     },
     "output_type": "display_data"
    }
   ],
   "source": [
    "# Plot indexed returns.\n",
    "plt.plot(np.cumprod(df[\"return\"]))\n",
    "plt.legend()\n",
    "plt.show()"
   ]
  },
  {
   "cell_type": "code",
   "execution_count": 129,
   "metadata": {},
   "outputs": [
    {
     "data": {
      "text/html": [
       "<div>\n",
       "<style scoped>\n",
       "    .dataframe tbody tr th:only-of-type {\n",
       "        vertical-align: middle;\n",
       "    }\n",
       "\n",
       "    .dataframe tbody tr th {\n",
       "        vertical-align: top;\n",
       "    }\n",
       "\n",
       "    .dataframe thead th {\n",
       "        text-align: right;\n",
       "    }\n",
       "</style>\n",
       "<table border=\"1\" class=\"dataframe\">\n",
       "  <thead>\n",
       "    <tr style=\"text-align: right;\">\n",
       "      <th></th>\n",
       "      <th>open time</th>\n",
       "      <th>open</th>\n",
       "      <th>high</th>\n",
       "      <th>low</th>\n",
       "      <th>close</th>\n",
       "      <th>volume</th>\n",
       "      <th>close_time</th>\n",
       "      <th>quote_asset_volume</th>\n",
       "      <th>number_of_trades</th>\n",
       "      <th>taker_buy_base_asset_volume</th>\n",
       "      <th>taker_buy_quote_asset_volume</th>\n",
       "      <th>ignore</th>\n",
       "      <th>return</th>\n",
       "    </tr>\n",
       "  </thead>\n",
       "  <tbody>\n",
       "    <tr>\n",
       "      <th>0</th>\n",
       "      <td>1614556800000</td>\n",
       "      <td>1418.67</td>\n",
       "      <td>1428.17</td>\n",
       "      <td>1413.67</td>\n",
       "      <td>1414.77</td>\n",
       "      <td>4215.99347</td>\n",
       "      <td>1614557099999</td>\n",
       "      <td>5.995735e+06</td>\n",
       "      <td>4823</td>\n",
       "      <td>2090.04231</td>\n",
       "      <td>2.971696e+06</td>\n",
       "      <td>0</td>\n",
       "      <td>NaN</td>\n",
       "    </tr>\n",
       "    <tr>\n",
       "      <th>1</th>\n",
       "      <td>1614557100000</td>\n",
       "      <td>1414.77</td>\n",
       "      <td>1419.19</td>\n",
       "      <td>1409.91</td>\n",
       "      <td>1418.00</td>\n",
       "      <td>3775.48739</td>\n",
       "      <td>1614557399999</td>\n",
       "      <td>5.336616e+06</td>\n",
       "      <td>3855</td>\n",
       "      <td>2122.55630</td>\n",
       "      <td>2.999792e+06</td>\n",
       "      <td>0</td>\n",
       "      <td>1.002283</td>\n",
       "    </tr>\n",
       "    <tr>\n",
       "      <th>2</th>\n",
       "      <td>1614557400000</td>\n",
       "      <td>1418.25</td>\n",
       "      <td>1422.00</td>\n",
       "      <td>1413.43</td>\n",
       "      <td>1421.99</td>\n",
       "      <td>2609.36133</td>\n",
       "      <td>1614557699999</td>\n",
       "      <td>3.696866e+06</td>\n",
       "      <td>2616</td>\n",
       "      <td>1341.07103</td>\n",
       "      <td>1.899618e+06</td>\n",
       "      <td>0</td>\n",
       "      <td>1.002814</td>\n",
       "    </tr>\n",
       "    <tr>\n",
       "      <th>3</th>\n",
       "      <td>1614557700000</td>\n",
       "      <td>1422.00</td>\n",
       "      <td>1445.68</td>\n",
       "      <td>1421.58</td>\n",
       "      <td>1444.94</td>\n",
       "      <td>10711.71757</td>\n",
       "      <td>1614557999999</td>\n",
       "      <td>1.540127e+07</td>\n",
       "      <td>8424</td>\n",
       "      <td>5923.97507</td>\n",
       "      <td>8.518624e+06</td>\n",
       "      <td>0</td>\n",
       "      <td>1.016139</td>\n",
       "    </tr>\n",
       "    <tr>\n",
       "      <th>4</th>\n",
       "      <td>1614558000000</td>\n",
       "      <td>1444.37</td>\n",
       "      <td>1448.59</td>\n",
       "      <td>1437.58</td>\n",
       "      <td>1442.60</td>\n",
       "      <td>4730.57675</td>\n",
       "      <td>1614558299999</td>\n",
       "      <td>6.828998e+06</td>\n",
       "      <td>4915</td>\n",
       "      <td>1962.46672</td>\n",
       "      <td>2.833183e+06</td>\n",
       "      <td>0</td>\n",
       "      <td>0.998381</td>\n",
       "    </tr>\n",
       "  </tbody>\n",
       "</table>\n",
       "</div>"
      ],
      "text/plain": [
       "       open time     open     high      low    close       volume  \\\n",
       "0  1614556800000  1418.67  1428.17  1413.67  1414.77   4215.99347   \n",
       "1  1614557100000  1414.77  1419.19  1409.91  1418.00   3775.48739   \n",
       "2  1614557400000  1418.25  1422.00  1413.43  1421.99   2609.36133   \n",
       "3  1614557700000  1422.00  1445.68  1421.58  1444.94  10711.71757   \n",
       "4  1614558000000  1444.37  1448.59  1437.58  1442.60   4730.57675   \n",
       "\n",
       "      close_time  quote_asset_volume  number_of_trades  \\\n",
       "0  1614557099999        5.995735e+06              4823   \n",
       "1  1614557399999        5.336616e+06              3855   \n",
       "2  1614557699999        3.696866e+06              2616   \n",
       "3  1614557999999        1.540127e+07              8424   \n",
       "4  1614558299999        6.828998e+06              4915   \n",
       "\n",
       "   taker_buy_base_asset_volume  taker_buy_quote_asset_volume  ignore    return  \n",
       "0                   2090.04231                  2.971696e+06       0       NaN  \n",
       "1                   2122.55630                  2.999792e+06       0  1.002283  \n",
       "2                   1341.07103                  1.899618e+06       0  1.002814  \n",
       "3                   5923.97507                  8.518624e+06       0  1.016139  \n",
       "4                   1962.46672                  2.833183e+06       0  0.998381  "
      ]
     },
     "execution_count": 129,
     "metadata": {},
     "output_type": "execute_result"
    }
   ],
   "source": [
    "df.head()"
   ]
  },
  {
   "cell_type": "code",
   "execution_count": 130,
   "metadata": {},
   "outputs": [],
   "source": [
    "df_ti = pd.DataFrame()\n",
    "df_ti[\"open_time\"] = df[\"open time\"]\n",
    "df_ti[\"open\"] = df[\"open\"]\n",
    "df_ti[\"close\"] = df[\"close\"]\n",
    "df_ti[\"high\"] = df[\"high\"]\n",
    "df_ti[\"low\"] = df[\"low\"]\n",
    "df_ti[\"volume\"] = df[\"volume\"]\n",
    "df_ti[\"amount\"] = df[\"quote_asset_volume\"]"
   ]
  },
  {
   "cell_type": "code",
   "execution_count": 131,
   "metadata": {},
   "outputs": [],
   "source": [
    "stock = StockDataFrame.retype(df_ti)"
   ]
  },
  {
   "cell_type": "code",
   "execution_count": 132,
   "metadata": {},
   "outputs": [],
   "source": [
    "df[\"stochastic_oscillator\"] = stock.get(\"kdjk\")\n",
    "df[\"relative_strength_index\"] = stock.get(\"rsi_30\")"
   ]
  },
  {
   "cell_type": "markdown",
   "metadata": {},
   "source": [
    "### Different momentum analysis"
   ]
  },
  {
   "cell_type": "code",
   "execution_count": 133,
   "metadata": {},
   "outputs": [],
   "source": [
    "def momentum(df, lag):\n",
    "    return df.pct_change(periods=lag)"
   ]
  },
  {
   "cell_type": "code",
   "execution_count": 134,
   "metadata": {},
   "outputs": [],
   "source": [
    "# 1 Hour Momentum\n",
    "df[\"momentum1\"] = momentum(df[\"close\"], 12)\n",
    "# 2 Hour Momentum\n",
    "df[\"momentum2\"] = momentum(df[\"close\"], 24)\n",
    "# 4 Hour Momentum\n",
    "df[\"momentum4\"] = momentum(df[\"close\"], 48)\n",
    "# 8 Hour Momentum\n",
    "df[\"momentum8\"] = momentum(df[\"close\"], 96)\n",
    "# 12 Hour Momentum\n",
    "df[\"momentum12\"] = momentum(df[\"close\"], 144)\n",
    "# 1 Day Momentum\n",
    "df[\"momentum24\"] = momentum(df[\"close\"], 288)\n",
    "# 2 Day Momentum\n",
    "df[\"momentum48\"] = momentum(df[\"close\"], 576)\n",
    "# 4 Day Momentum\n",
    "df[\"momentum96\"] = momentum(df[\"close\"], 1152)\n",
    "# 1 Week Momentum\n",
    "df[\"momentum168\"] = momentum(df[\"close\"], 2016)"
   ]
  },
  {
   "cell_type": "code",
   "execution_count": 135,
   "metadata": {},
   "outputs": [
    {
     "data": {
      "image/png": "[encoded data removed]",
      "text/plain": [
       "<Figure size 432x288 with 1 Axes>"
      ]
     },
     "metadata": {
      "needs_background": "light"
     },
     "output_type": "display_data"
    }
   ],
   "source": [
    "plt.plot(df[\"momentum1\"])\n",
    "plt.show()"
   ]
  },
  {
   "cell_type": "code",
   "execution_count": 136,
   "metadata": {},
   "outputs": [
    {
     "data": {
      "image/png": "[encoded data removed]",
      "text/plain": [
       "<Figure size 432x288 with 1 Axes>"
      ]
     },
     "metadata": {
      "needs_background": "light"
     },
     "output_type": "display_data"
    }
   ],
   "source": [
    "plt.plot(df[\"momentum2\"])\n",
    "plt.show()"
   ]
  },
  {
   "cell_type": "code",
   "execution_count": 137,
   "metadata": {},
   "outputs": [
    {
     "data": {
      "image/png": "[encoded data removed]",
      "text/plain": [
       "<Figure size 432x288 with 1 Axes>"
      ]
     },
     "metadata": {
      "needs_background": "light"
     },
     "output_type": "display_data"
    }
   ],
   "source": [
    "plt.plot(df[\"momentum4\"])\n",
    "plt.show()"
   ]
  },
  {
   "cell_type": "code",
   "execution_count": 138,
   "metadata": {},
   "outputs": [
    {
     "data": {
      "image/png": "[encoded data removed]",
      "text/plain": [
       "<Figure size 432x288 with 1 Axes>"
      ]
     },
     "metadata": {
      "needs_background": "light"
     },
     "output_type": "display_data"
    }
   ],
   "source": [
    "plt.plot(df[\"momentum8\"])\n",
    "plt.show()"
   ]
  },
  {
   "cell_type": "code",
   "execution_count": 139,
   "metadata": {},
   "outputs": [
    {
     "data": {
      "image/png": "[encoded data removed]",
      "text/plain": [
       "<Figure size 432x288 with 1 Axes>"
      ]
     },
     "metadata": {
      "needs_background": "light"
     },
     "output_type": "display_data"
    }
   ],
   "source": [
    "plt.plot(df[\"momentum12\"])\n",
    "plt.show()"
   ]
  },
  {
   "cell_type": "code",
   "execution_count": 140,
   "metadata": {},
   "outputs": [
    {
     "data": {
      "image/png": "[encoded data removed]",
      "text/plain": [
       "<Figure size 432x288 with 1 Axes>"
      ]
     },
     "metadata": {
      "needs_background": "light"
     },
     "output_type": "display_data"
    }
   ],
   "source": [
    "plt.plot(df[\"momentum24\"])\n",
    "plt.show()"
   ]
  },
  {
   "cell_type": "code",
   "execution_count": 141,
   "metadata": {},
   "outputs": [
    {
     "data": {
      "image/png": "[encoded data removed]",
      "text/plain": [
       "<Figure size 432x288 with 1 Axes>"
      ]
     },
     "metadata": {
      "needs_background": "light"
     },
     "output_type": "display_data"
    }
   ],
   "source": [
    "plt.plot(df[\"momentum48\"])\n",
    "plt.show()"
   ]
  },
  {
   "cell_type": "code",
   "execution_count": 142,
   "metadata": {},
   "outputs": [
    {
     "data": {
      "image/png": "[encoded data removed]",
      "text/plain": [
       "<Figure size 432x288 with 1 Axes>"
      ]
     },
     "metadata": {
      "needs_background": "light"
     },
     "output_type": "display_data"
    }
   ],
   "source": [
    "plt.plot(df[\"momentum96\"])\n",
    "plt.show()"
   ]
  },
  {
   "cell_type": "code",
   "execution_count": 143,
   "metadata": {},
   "outputs": [
    {
     "data": {
      "image/png": "[encoded data removed]",
      "text/plain": [
       "<Figure size 432x288 with 1 Axes>"
      ]
     },
     "metadata": {
      "needs_background": "light"
     },
     "output_type": "display_data"
    }
   ],
   "source": [
    "plt.plot(df[\"momentum168\"])\n",
    "plt.show()"
   ]
  },
  {
   "cell_type": "markdown",
   "metadata": {},
   "source": [
    "### Stochastic Oscialltor and Relative Strength Index as baseline"
   ]
  },
  {
   "cell_type": "markdown",
   "metadata": {},
   "source": [
    "#### Generating Buying Signals"
   ]
  },
  {
   "cell_type": "code",
   "execution_count": 146,
   "metadata": {},
   "outputs": [],
   "source": [
    "df[\"so_group\"] = df[\"stochastic_oscillator\"].astype(str).str[0]\n",
    "df[\"rsi_group\"] = df[\"relative_strength_index\"].astype(str).str[0]"
   ]
  },
  {
   "cell_type": "code",
   "execution_count": 147,
   "metadata": {},
   "outputs": [
    {
     "data": {
      "text/html": [
       "<div>\n",
       "<style scoped>\n",
       "    .dataframe tbody tr th:only-of-type {\n",
       "        vertical-align: middle;\n",
       "    }\n",
       "\n",
       "    .dataframe tbody tr th {\n",
       "        vertical-align: top;\n",
       "    }\n",
       "\n",
       "    .dataframe thead th {\n",
       "        text-align: right;\n",
       "    }\n",
       "</style>\n",
       "<table border=\"1\" class=\"dataframe\">\n",
       "  <thead>\n",
       "    <tr style=\"text-align: right;\">\n",
       "      <th>rsi_group</th>\n",
       "      <th>1</th>\n",
       "      <th>2</th>\n",
       "      <th>3</th>\n",
       "      <th>4</th>\n",
       "      <th>5</th>\n",
       "      <th>6</th>\n",
       "      <th>7</th>\n",
       "      <th>8</th>\n",
       "      <th>9</th>\n",
       "      <th>n</th>\n",
       "    </tr>\n",
       "    <tr>\n",
       "      <th>so_group</th>\n",
       "      <th></th>\n",
       "      <th></th>\n",
       "      <th></th>\n",
       "      <th></th>\n",
       "      <th></th>\n",
       "      <th></th>\n",
       "      <th></th>\n",
       "      <th></th>\n",
       "      <th></th>\n",
       "      <th></th>\n",
       "    </tr>\n",
       "  </thead>\n",
       "  <tbody>\n",
       "    <tr>\n",
       "      <th>1</th>\n",
       "      <td>11</td>\n",
       "      <td>434</td>\n",
       "      <td>2743</td>\n",
       "      <td>4374</td>\n",
       "      <td>980</td>\n",
       "      <td>30</td>\n",
       "      <td>0</td>\n",
       "      <td>0</td>\n",
       "      <td>0</td>\n",
       "      <td>0</td>\n",
       "    </tr>\n",
       "    <tr>\n",
       "      <th>2</th>\n",
       "      <td>3</td>\n",
       "      <td>173</td>\n",
       "      <td>2563</td>\n",
       "      <td>8368</td>\n",
       "      <td>3469</td>\n",
       "      <td>198</td>\n",
       "      <td>0</td>\n",
       "      <td>0</td>\n",
       "      <td>0</td>\n",
       "      <td>0</td>\n",
       "    </tr>\n",
       "    <tr>\n",
       "      <th>3</th>\n",
       "      <td>1</td>\n",
       "      <td>57</td>\n",
       "      <td>1565</td>\n",
       "      <td>7610</td>\n",
       "      <td>5122</td>\n",
       "      <td>427</td>\n",
       "      <td>0</td>\n",
       "      <td>0</td>\n",
       "      <td>0</td>\n",
       "      <td>1</td>\n",
       "    </tr>\n",
       "    <tr>\n",
       "      <th>4</th>\n",
       "      <td>1</td>\n",
       "      <td>15</td>\n",
       "      <td>823</td>\n",
       "      <td>6031</td>\n",
       "      <td>5897</td>\n",
       "      <td>671</td>\n",
       "      <td>14</td>\n",
       "      <td>0</td>\n",
       "      <td>0</td>\n",
       "      <td>0</td>\n",
       "    </tr>\n",
       "    <tr>\n",
       "      <th>5</th>\n",
       "      <td>0</td>\n",
       "      <td>8</td>\n",
       "      <td>579</td>\n",
       "      <td>5421</td>\n",
       "      <td>6820</td>\n",
       "      <td>1017</td>\n",
       "      <td>30</td>\n",
       "      <td>0</td>\n",
       "      <td>0</td>\n",
       "      <td>0</td>\n",
       "    </tr>\n",
       "    <tr>\n",
       "      <th>6</th>\n",
       "      <td>2</td>\n",
       "      <td>15</td>\n",
       "      <td>396</td>\n",
       "      <td>4710</td>\n",
       "      <td>8529</td>\n",
       "      <td>1731</td>\n",
       "      <td>75</td>\n",
       "      <td>0</td>\n",
       "      <td>0</td>\n",
       "      <td>0</td>\n",
       "    </tr>\n",
       "    <tr>\n",
       "      <th>7</th>\n",
       "      <td>0</td>\n",
       "      <td>19</td>\n",
       "      <td>210</td>\n",
       "      <td>3698</td>\n",
       "      <td>9188</td>\n",
       "      <td>2790</td>\n",
       "      <td>230</td>\n",
       "      <td>2</td>\n",
       "      <td>1</td>\n",
       "      <td>0</td>\n",
       "    </tr>\n",
       "    <tr>\n",
       "      <th>8</th>\n",
       "      <td>1</td>\n",
       "      <td>26</td>\n",
       "      <td>125</td>\n",
       "      <td>1608</td>\n",
       "      <td>5987</td>\n",
       "      <td>3217</td>\n",
       "      <td>606</td>\n",
       "      <td>8</td>\n",
       "      <td>0</td>\n",
       "      <td>0</td>\n",
       "    </tr>\n",
       "    <tr>\n",
       "      <th>9</th>\n",
       "      <td>2</td>\n",
       "      <td>33</td>\n",
       "      <td>148</td>\n",
       "      <td>187</td>\n",
       "      <td>583</td>\n",
       "      <td>588</td>\n",
       "      <td>232</td>\n",
       "      <td>7</td>\n",
       "      <td>0</td>\n",
       "      <td>0</td>\n",
       "    </tr>\n",
       "  </tbody>\n",
       "</table>\n",
       "</div>"
      ],
      "text/plain": [
       "rsi_group   1    2     3     4     5     6    7  8  9  n\n",
       "so_group                                                \n",
       "1          11  434  2743  4374   980    30    0  0  0  0\n",
       "2           3  173  2563  8368  3469   198    0  0  0  0\n",
       "3           1   57  1565  7610  5122   427    0  0  0  1\n",
       "4           1   15   823  6031  5897   671   14  0  0  0\n",
       "5           0    8   579  5421  6820  1017   30  0  0  0\n",
       "6           2   15   396  4710  8529  1731   75  0  0  0\n",
       "7           0   19   210  3698  9188  2790  230  2  1  0\n",
       "8           1   26   125  1608  5987  3217  606  8  0  0\n",
       "9           2   33   148   187   583   588  232  7  0  0"
      ]
     },
     "execution_count": 147,
     "metadata": {},
     "output_type": "execute_result"
    }
   ],
   "source": [
    "pd.crosstab(df[\"so_group\"], df[\"rsi_group\"])"
   ]
  },
  {
   "cell_type": "code",
   "execution_count": 148,
   "metadata": {},
   "outputs": [],
   "source": [
    "df[\"technical_indicators\"] = df[\"so_group\"] + \"/\" + df[\"rsi_group\"]"
   ]
  },
  {
   "cell_type": "code",
   "execution_count": 536,
   "metadata": {},
   "outputs": [
    {
     "data": {
      "text/html": [
       "<div>\n",
       "<style scoped>\n",
       "    .dataframe tbody tr th:only-of-type {\n",
       "        vertical-align: middle;\n",
       "    }\n",
       "\n",
       "    .dataframe tbody tr th {\n",
       "        vertical-align: top;\n",
       "    }\n",
       "\n",
       "    .dataframe thead th {\n",
       "        text-align: right;\n",
       "    }\n",
       "</style>\n",
       "<table border=\"1\" class=\"dataframe\">\n",
       "  <thead>\n",
       "    <tr style=\"text-align: right;\">\n",
       "      <th></th>\n",
       "      <th>momentum168</th>\n",
       "    </tr>\n",
       "    <tr>\n",
       "      <th>technical_indicators</th>\n",
       "      <th></th>\n",
       "    </tr>\n",
       "  </thead>\n",
       "  <tbody>\n",
       "    <tr>\n",
       "      <th>1/1</th>\n",
       "      <td>0.106590</td>\n",
       "    </tr>\n",
       "    <tr>\n",
       "      <th>1/2</th>\n",
       "      <td>NaN</td>\n",
       "    </tr>\n",
       "    <tr>\n",
       "      <th>1/3</th>\n",
       "      <td>NaN</td>\n",
       "    </tr>\n",
       "    <tr>\n",
       "      <th>1/4</th>\n",
       "      <td>NaN</td>\n",
       "    </tr>\n",
       "    <tr>\n",
       "      <th>1/5</th>\n",
       "      <td>NaN</td>\n",
       "    </tr>\n",
       "    <tr>\n",
       "      <th>1/6</th>\n",
       "      <td>NaN</td>\n",
       "    </tr>\n",
       "    <tr>\n",
       "      <th>2/1</th>\n",
       "      <td>0.120484</td>\n",
       "    </tr>\n",
       "    <tr>\n",
       "      <th>2/2</th>\n",
       "      <td>NaN</td>\n",
       "    </tr>\n",
       "    <tr>\n",
       "      <th>2/3</th>\n",
       "      <td>NaN</td>\n",
       "    </tr>\n",
       "    <tr>\n",
       "      <th>2/4</th>\n",
       "      <td>NaN</td>\n",
       "    </tr>\n",
       "    <tr>\n",
       "      <th>2/5</th>\n",
       "      <td>NaN</td>\n",
       "    </tr>\n",
       "    <tr>\n",
       "      <th>2/6</th>\n",
       "      <td>NaN</td>\n",
       "    </tr>\n",
       "    <tr>\n",
       "      <th>3/1</th>\n",
       "      <td>0.223547</td>\n",
       "    </tr>\n",
       "    <tr>\n",
       "      <th>3/2</th>\n",
       "      <td>NaN</td>\n",
       "    </tr>\n",
       "    <tr>\n",
       "      <th>3/3</th>\n",
       "      <td>NaN</td>\n",
       "    </tr>\n",
       "    <tr>\n",
       "      <th>3/4</th>\n",
       "      <td>NaN</td>\n",
       "    </tr>\n",
       "    <tr>\n",
       "      <th>3/5</th>\n",
       "      <td>NaN</td>\n",
       "    </tr>\n",
       "    <tr>\n",
       "      <th>3/6</th>\n",
       "      <td>NaN</td>\n",
       "    </tr>\n",
       "    <tr>\n",
       "      <th>3/n</th>\n",
       "      <td>0.225450</td>\n",
       "    </tr>\n",
       "    <tr>\n",
       "      <th>4/1</th>\n",
       "      <td>0.218145</td>\n",
       "    </tr>\n",
       "    <tr>\n",
       "      <th>4/2</th>\n",
       "      <td>NaN</td>\n",
       "    </tr>\n",
       "    <tr>\n",
       "      <th>4/3</th>\n",
       "      <td>NaN</td>\n",
       "    </tr>\n",
       "    <tr>\n",
       "      <th>4/4</th>\n",
       "      <td>NaN</td>\n",
       "    </tr>\n",
       "    <tr>\n",
       "      <th>4/5</th>\n",
       "      <td>NaN</td>\n",
       "    </tr>\n",
       "    <tr>\n",
       "      <th>4/6</th>\n",
       "      <td>NaN</td>\n",
       "    </tr>\n",
       "    <tr>\n",
       "      <th>4/7</th>\n",
       "      <td>NaN</td>\n",
       "    </tr>\n",
       "    <tr>\n",
       "      <th>5/2</th>\n",
       "      <td>NaN</td>\n",
       "    </tr>\n",
       "    <tr>\n",
       "      <th>5/3</th>\n",
       "      <td>NaN</td>\n",
       "    </tr>\n",
       "    <tr>\n",
       "      <th>5/4</th>\n",
       "      <td>NaN</td>\n",
       "    </tr>\n",
       "    <tr>\n",
       "      <th>5/5</th>\n",
       "      <td>NaN</td>\n",
       "    </tr>\n",
       "    <tr>\n",
       "      <th>5/6</th>\n",
       "      <td>NaN</td>\n",
       "    </tr>\n",
       "    <tr>\n",
       "      <th>5/7</th>\n",
       "      <td>0.124693</td>\n",
       "    </tr>\n",
       "    <tr>\n",
       "      <th>6/1</th>\n",
       "      <td>0.205434</td>\n",
       "    </tr>\n",
       "    <tr>\n",
       "      <th>6/2</th>\n",
       "      <td>NaN</td>\n",
       "    </tr>\n",
       "    <tr>\n",
       "      <th>6/3</th>\n",
       "      <td>NaN</td>\n",
       "    </tr>\n",
       "    <tr>\n",
       "      <th>6/4</th>\n",
       "      <td>NaN</td>\n",
       "    </tr>\n",
       "    <tr>\n",
       "      <th>6/5</th>\n",
       "      <td>NaN</td>\n",
       "    </tr>\n",
       "    <tr>\n",
       "      <th>6/6</th>\n",
       "      <td>NaN</td>\n",
       "    </tr>\n",
       "    <tr>\n",
       "      <th>6/7</th>\n",
       "      <td>NaN</td>\n",
       "    </tr>\n",
       "    <tr>\n",
       "      <th>7/2</th>\n",
       "      <td>NaN</td>\n",
       "    </tr>\n",
       "    <tr>\n",
       "      <th>7/3</th>\n",
       "      <td>NaN</td>\n",
       "    </tr>\n",
       "    <tr>\n",
       "      <th>7/4</th>\n",
       "      <td>NaN</td>\n",
       "    </tr>\n",
       "    <tr>\n",
       "      <th>7/5</th>\n",
       "      <td>NaN</td>\n",
       "    </tr>\n",
       "    <tr>\n",
       "      <th>7/6</th>\n",
       "      <td>NaN</td>\n",
       "    </tr>\n",
       "    <tr>\n",
       "      <th>7/7</th>\n",
       "      <td>NaN</td>\n",
       "    </tr>\n",
       "    <tr>\n",
       "      <th>7/8</th>\n",
       "      <td>0.202789</td>\n",
       "    </tr>\n",
       "    <tr>\n",
       "      <th>7/9</th>\n",
       "      <td>0.203868</td>\n",
       "    </tr>\n",
       "    <tr>\n",
       "      <th>8/1</th>\n",
       "      <td>0.135422</td>\n",
       "    </tr>\n",
       "    <tr>\n",
       "      <th>8/2</th>\n",
       "      <td>NaN</td>\n",
       "    </tr>\n",
       "    <tr>\n",
       "      <th>8/3</th>\n",
       "      <td>NaN</td>\n",
       "    </tr>\n",
       "    <tr>\n",
       "      <th>8/4</th>\n",
       "      <td>NaN</td>\n",
       "    </tr>\n",
       "    <tr>\n",
       "      <th>8/5</th>\n",
       "      <td>NaN</td>\n",
       "    </tr>\n",
       "    <tr>\n",
       "      <th>8/6</th>\n",
       "      <td>NaN</td>\n",
       "    </tr>\n",
       "    <tr>\n",
       "      <th>8/7</th>\n",
       "      <td>NaN</td>\n",
       "    </tr>\n",
       "    <tr>\n",
       "      <th>8/8</th>\n",
       "      <td>NaN</td>\n",
       "    </tr>\n",
       "    <tr>\n",
       "      <th>9/1</th>\n",
       "      <td>NaN</td>\n",
       "    </tr>\n",
       "    <tr>\n",
       "      <th>9/2</th>\n",
       "      <td>NaN</td>\n",
       "    </tr>\n",
       "    <tr>\n",
       "      <th>9/3</th>\n",
       "      <td>NaN</td>\n",
       "    </tr>\n",
       "    <tr>\n",
       "      <th>9/4</th>\n",
       "      <td>NaN</td>\n",
       "    </tr>\n",
       "    <tr>\n",
       "      <th>9/5</th>\n",
       "      <td>NaN</td>\n",
       "    </tr>\n",
       "    <tr>\n",
       "      <th>9/6</th>\n",
       "      <td>NaN</td>\n",
       "    </tr>\n",
       "    <tr>\n",
       "      <th>9/7</th>\n",
       "      <td>NaN</td>\n",
       "    </tr>\n",
       "    <tr>\n",
       "      <th>9/8</th>\n",
       "      <td>0.191172</td>\n",
       "    </tr>\n",
       "  </tbody>\n",
       "</table>\n",
       "</div>"
      ],
      "text/plain": [
       "                      momentum168\n",
       "technical_indicators             \n",
       "1/1                      0.106590\n",
       "1/2                           NaN\n",
       "1/3                           NaN\n",
       "1/4                           NaN\n",
       "1/5                           NaN\n",
       "1/6                           NaN\n",
       "2/1                      0.120484\n",
       "2/2                           NaN\n",
       "2/3                           NaN\n",
       "2/4                           NaN\n",
       "2/5                           NaN\n",
       "2/6                           NaN\n",
       "3/1                      0.223547\n",
       "3/2                           NaN\n",
       "3/3                           NaN\n",
       "3/4                           NaN\n",
       "3/5                           NaN\n",
       "3/6                           NaN\n",
       "3/n                      0.225450\n",
       "4/1                      0.218145\n",
       "4/2                           NaN\n",
       "4/3                           NaN\n",
       "4/4                           NaN\n",
       "4/5                           NaN\n",
       "4/6                           NaN\n",
       "4/7                           NaN\n",
       "5/2                           NaN\n",
       "5/3                           NaN\n",
       "5/4                           NaN\n",
       "5/5                           NaN\n",
       "5/6                           NaN\n",
       "5/7                      0.124693\n",
       "6/1                      0.205434\n",
       "6/2                           NaN\n",
       "6/3                           NaN\n",
       "6/4                           NaN\n",
       "6/5                           NaN\n",
       "6/6                           NaN\n",
       "6/7                           NaN\n",
       "7/2                           NaN\n",
       "7/3                           NaN\n",
       "7/4                           NaN\n",
       "7/5                           NaN\n",
       "7/6                           NaN\n",
       "7/7                           NaN\n",
       "7/8                      0.202789\n",
       "7/9                      0.203868\n",
       "8/1                      0.135422\n",
       "8/2                           NaN\n",
       "8/3                           NaN\n",
       "8/4                           NaN\n",
       "8/5                           NaN\n",
       "8/6                           NaN\n",
       "8/7                           NaN\n",
       "8/8                           NaN\n",
       "9/1                           NaN\n",
       "9/2                           NaN\n",
       "9/3                           NaN\n",
       "9/4                           NaN\n",
       "9/5                           NaN\n",
       "9/6                           NaN\n",
       "9/7                           NaN\n",
       "9/8                      0.191172"
      ]
     },
     "metadata": {},
     "output_type": "display_data"
    }
   ],
   "source": [
    "df_momentum168 = pd.DataFrame()\n",
    "df_momentum168[\"technical_indicators\"] = df[\"technical_indicators\"].shift(2016)\n",
    "df_momentum168[\"momentum168\"] = df[\"momentum168\"]\n",
    "with pd.option_context('display.max_rows', None, 'display.max_columns', None):  # more options can be specified also\n",
    "    display(df_momentum168.groupby(\"technical_indicators\").median().where(df_momentum168.groupby(\"technical_indicators\").median() >= 0.1))"
   ]
  },
  {
   "cell_type": "markdown",
   "metadata": {},
   "source": [
    "#### Generating selling Signals"
   ]
  },
  {
   "cell_type": "code",
   "execution_count": 334,
   "metadata": {},
   "outputs": [],
   "source": [
    "#Here we tried to set a sell signal if the return to the previous 7 days is below -12%\n",
    "df_momentum168 = pd.DataFrame()\n",
    "df_momentum168[\"technical_indicators\"] = df[\"technical_indicators\"].shift(2016)\n",
    "df_momentum168[\"momentum168\"] = df[\"momentum168\"]\n",
    "sell_signals_raw = df.index.where(df[\"momentum168\"] < - 0.12).to_list()\n",
    "sell_signals = [int(x) for x in sell_signals_raw if str(x) != \"nan\"]"
   ]
  },
  {
   "cell_type": "code",
   "execution_count": 377,
   "metadata": {},
   "outputs": [],
   "source": [
    "#lets try the same with 4 days\n",
    "df_momentum96 = pd.DataFrame()\n",
    "df_momentum96[\"technical_indicators\"] = df[\"technical_indicators\"].shift(1152)\n",
    "df_momentum96[\"momentum96\"] = df[\"momentum96\"]\n",
    "sell_signals_raw = df.index.where(df[\"momentum168\"] < - 0.1).to_list()\n",
    "sell_signals = [int(x) for x in sell_signals_raw if str(x) != \"nan\"]"
   ]
  },
  {
   "cell_type": "code",
   "execution_count": 565,
   "metadata": {},
   "outputs": [],
   "source": [
    "# df_momentum168 = pd.DataFrame()\n",
    "# df_momentum168[\"technical_indicators\"] = df[\"technical_indicators\"].shift(2016)\n",
    "# df_momentum168[\"momentum168\"] = df[\"momentum168\"]\n",
    "# with pd.option_context('display.max_rows', None, 'display.max_columns', None):  # more options can be specified also\n",
    "#     display(df_momentum168.groupby(\"technical_indicators\").median().where(df_momentum168.groupby(\"technical_indicators\").median() < 0))"
   ]
  },
  {
   "cell_type": "markdown",
   "metadata": {},
   "source": [
    "### RSI Only Analysis"
   ]
  },
  {
   "cell_type": "code",
   "execution_count": 379,
   "metadata": {},
   "outputs": [
    {
     "data": {
      "text/html": [
       "<div>\n",
       "<style scoped>\n",
       "    .dataframe tbody tr th:only-of-type {\n",
       "        vertical-align: middle;\n",
       "    }\n",
       "\n",
       "    .dataframe tbody tr th {\n",
       "        vertical-align: top;\n",
       "    }\n",
       "\n",
       "    .dataframe thead th {\n",
       "        text-align: right;\n",
       "    }\n",
       "</style>\n",
       "<table border=\"1\" class=\"dataframe\">\n",
       "  <thead>\n",
       "    <tr style=\"text-align: right;\">\n",
       "      <th></th>\n",
       "      <th>momentum168</th>\n",
       "    </tr>\n",
       "    <tr>\n",
       "      <th>rsi_group</th>\n",
       "      <th></th>\n",
       "    </tr>\n",
       "  </thead>\n",
       "  <tbody>\n",
       "    <tr>\n",
       "      <th>1</th>\n",
       "      <td>0.139349</td>\n",
       "    </tr>\n",
       "    <tr>\n",
       "      <th>2</th>\n",
       "      <td>0.019212</td>\n",
       "    </tr>\n",
       "    <tr>\n",
       "      <th>3</th>\n",
       "      <td>0.014206</td>\n",
       "    </tr>\n",
       "    <tr>\n",
       "      <th>4</th>\n",
       "      <td>0.018827</td>\n",
       "    </tr>\n",
       "    <tr>\n",
       "      <th>5</th>\n",
       "      <td>0.017866</td>\n",
       "    </tr>\n",
       "    <tr>\n",
       "      <th>6</th>\n",
       "      <td>0.026243</td>\n",
       "    </tr>\n",
       "    <tr>\n",
       "      <th>7</th>\n",
       "      <td>0.038999</td>\n",
       "    </tr>\n",
       "    <tr>\n",
       "      <th>8</th>\n",
       "      <td>0.078714</td>\n",
       "    </tr>\n",
       "    <tr>\n",
       "      <th>9</th>\n",
       "      <td>0.203868</td>\n",
       "    </tr>\n",
       "    <tr>\n",
       "      <th>n</th>\n",
       "      <td>0.225450</td>\n",
       "    </tr>\n",
       "  </tbody>\n",
       "</table>\n",
       "</div>"
      ],
      "text/plain": [
       "           momentum168\n",
       "rsi_group             \n",
       "1             0.139349\n",
       "2             0.019212\n",
       "3             0.014206\n",
       "4             0.018827\n",
       "5             0.017866\n",
       "6             0.026243\n",
       "7             0.038999\n",
       "8             0.078714\n",
       "9             0.203868\n",
       "n             0.225450"
      ]
     },
     "execution_count": 379,
     "metadata": {},
     "output_type": "execute_result"
    }
   ],
   "source": [
    "df_momentum168 = pd.DataFrame()\n",
    "df_momentum168[\"rsi_group\"] = df[\"rsi_group\"].shift(2016)\n",
    "df_momentum168[\"momentum168\"] = df[\"momentum168\"]\n",
    "df_momentum168.groupby(\"rsi_group\").mean()"
   ]
  },
  {
   "cell_type": "markdown",
   "metadata": {},
   "source": [
    "### Backtesting (Long-Only) - Calculate the returns by applying basic rules"
   ]
  },
  {
   "cell_type": "code",
   "execution_count": 380,
   "metadata": {},
   "outputs": [
    {
     "data": {
      "text/html": [
       "<div>\n",
       "<style scoped>\n",
       "    .dataframe tbody tr th:only-of-type {\n",
       "        vertical-align: middle;\n",
       "    }\n",
       "\n",
       "    .dataframe tbody tr th {\n",
       "        vertical-align: top;\n",
       "    }\n",
       "\n",
       "    .dataframe thead th {\n",
       "        text-align: right;\n",
       "    }\n",
       "</style>\n",
       "<table border=\"1\" class=\"dataframe\">\n",
       "  <thead>\n",
       "    <tr style=\"text-align: right;\">\n",
       "      <th></th>\n",
       "      <th>open time</th>\n",
       "      <th>open</th>\n",
       "      <th>high</th>\n",
       "      <th>low</th>\n",
       "      <th>close</th>\n",
       "      <th>volume</th>\n",
       "      <th>close_time</th>\n",
       "      <th>quote_asset_volume</th>\n",
       "      <th>number_of_trades</th>\n",
       "      <th>taker_buy_base_asset_volume</th>\n",
       "      <th>...</th>\n",
       "      <th>momentum12</th>\n",
       "      <th>momentum24</th>\n",
       "      <th>momentum48</th>\n",
       "      <th>momentum96</th>\n",
       "      <th>momentum168</th>\n",
       "      <th>so_group</th>\n",
       "      <th>rsi_group</th>\n",
       "      <th>technical_indicators</th>\n",
       "      <th>buy_indicator</th>\n",
       "      <th>sell_indicator</th>\n",
       "    </tr>\n",
       "  </thead>\n",
       "  <tbody>\n",
       "    <tr>\n",
       "      <th>0</th>\n",
       "      <td>1614556800000</td>\n",
       "      <td>1418.67</td>\n",
       "      <td>1428.17</td>\n",
       "      <td>1413.67</td>\n",
       "      <td>1414.77</td>\n",
       "      <td>4215.99347</td>\n",
       "      <td>1614557099999</td>\n",
       "      <td>5.995735e+06</td>\n",
       "      <td>4823</td>\n",
       "      <td>2090.04231</td>\n",
       "      <td>...</td>\n",
       "      <td>NaN</td>\n",
       "      <td>NaN</td>\n",
       "      <td>NaN</td>\n",
       "      <td>NaN</td>\n",
       "      <td>NaN</td>\n",
       "      <td>3</td>\n",
       "      <td>n</td>\n",
       "      <td>3/n</td>\n",
       "      <td>0</td>\n",
       "      <td>0</td>\n",
       "    </tr>\n",
       "    <tr>\n",
       "      <th>1</th>\n",
       "      <td>1614557100000</td>\n",
       "      <td>1414.77</td>\n",
       "      <td>1419.19</td>\n",
       "      <td>1409.91</td>\n",
       "      <td>1418.00</td>\n",
       "      <td>3775.48739</td>\n",
       "      <td>1614557399999</td>\n",
       "      <td>5.336616e+06</td>\n",
       "      <td>3855</td>\n",
       "      <td>2122.55630</td>\n",
       "      <td>...</td>\n",
       "      <td>NaN</td>\n",
       "      <td>NaN</td>\n",
       "      <td>NaN</td>\n",
       "      <td>NaN</td>\n",
       "      <td>NaN</td>\n",
       "      <td>3</td>\n",
       "      <td>1</td>\n",
       "      <td>3/1</td>\n",
       "      <td>1</td>\n",
       "      <td>0</td>\n",
       "    </tr>\n",
       "    <tr>\n",
       "      <th>2</th>\n",
       "      <td>1614557400000</td>\n",
       "      <td>1418.25</td>\n",
       "      <td>1422.00</td>\n",
       "      <td>1413.43</td>\n",
       "      <td>1421.99</td>\n",
       "      <td>2609.36133</td>\n",
       "      <td>1614557699999</td>\n",
       "      <td>3.696866e+06</td>\n",
       "      <td>2616</td>\n",
       "      <td>1341.07103</td>\n",
       "      <td>...</td>\n",
       "      <td>NaN</td>\n",
       "      <td>NaN</td>\n",
       "      <td>NaN</td>\n",
       "      <td>NaN</td>\n",
       "      <td>NaN</td>\n",
       "      <td>4</td>\n",
       "      <td>1</td>\n",
       "      <td>4/1</td>\n",
       "      <td>1</td>\n",
       "      <td>0</td>\n",
       "    </tr>\n",
       "    <tr>\n",
       "      <th>3</th>\n",
       "      <td>1614557700000</td>\n",
       "      <td>1422.00</td>\n",
       "      <td>1445.68</td>\n",
       "      <td>1421.58</td>\n",
       "      <td>1444.94</td>\n",
       "      <td>10711.71757</td>\n",
       "      <td>1614557999999</td>\n",
       "      <td>1.540127e+07</td>\n",
       "      <td>8424</td>\n",
       "      <td>5923.97507</td>\n",
       "      <td>...</td>\n",
       "      <td>NaN</td>\n",
       "      <td>NaN</td>\n",
       "      <td>NaN</td>\n",
       "      <td>NaN</td>\n",
       "      <td>NaN</td>\n",
       "      <td>6</td>\n",
       "      <td>1</td>\n",
       "      <td>6/1</td>\n",
       "      <td>1</td>\n",
       "      <td>0</td>\n",
       "    </tr>\n",
       "    <tr>\n",
       "      <th>4</th>\n",
       "      <td>1614558000000</td>\n",
       "      <td>1444.37</td>\n",
       "      <td>1448.59</td>\n",
       "      <td>1437.58</td>\n",
       "      <td>1442.60</td>\n",
       "      <td>4730.57675</td>\n",
       "      <td>1614558299999</td>\n",
       "      <td>6.828998e+06</td>\n",
       "      <td>4915</td>\n",
       "      <td>1962.46672</td>\n",
       "      <td>...</td>\n",
       "      <td>NaN</td>\n",
       "      <td>NaN</td>\n",
       "      <td>NaN</td>\n",
       "      <td>NaN</td>\n",
       "      <td>NaN</td>\n",
       "      <td>7</td>\n",
       "      <td>9</td>\n",
       "      <td>7/9</td>\n",
       "      <td>1</td>\n",
       "      <td>0</td>\n",
       "    </tr>\n",
       "  </tbody>\n",
       "</table>\n",
       "<p>5 rows × 29 columns</p>\n",
       "</div>"
      ],
      "text/plain": [
       "       open time     open     high      low    close       volume  \\\n",
       "0  1614556800000  1418.67  1428.17  1413.67  1414.77   4215.99347   \n",
       "1  1614557100000  1414.77  1419.19  1409.91  1418.00   3775.48739   \n",
       "2  1614557400000  1418.25  1422.00  1413.43  1421.99   2609.36133   \n",
       "3  1614557700000  1422.00  1445.68  1421.58  1444.94  10711.71757   \n",
       "4  1614558000000  1444.37  1448.59  1437.58  1442.60   4730.57675   \n",
       "\n",
       "      close_time  quote_asset_volume  number_of_trades  \\\n",
       "0  1614557099999        5.995735e+06              4823   \n",
       "1  1614557399999        5.336616e+06              3855   \n",
       "2  1614557699999        3.696866e+06              2616   \n",
       "3  1614557999999        1.540127e+07              8424   \n",
       "4  1614558299999        6.828998e+06              4915   \n",
       "\n",
       "   taker_buy_base_asset_volume  ...  momentum12  momentum24  momentum48  \\\n",
       "0                   2090.04231  ...         NaN         NaN         NaN   \n",
       "1                   2122.55630  ...         NaN         NaN         NaN   \n",
       "2                   1341.07103  ...         NaN         NaN         NaN   \n",
       "3                   5923.97507  ...         NaN         NaN         NaN   \n",
       "4                   1962.46672  ...         NaN         NaN         NaN   \n",
       "\n",
       "   momentum96  momentum168  so_group  rsi_group  technical_indicators  \\\n",
       "0         NaN          NaN         3          n                   3/n   \n",
       "1         NaN          NaN         3          1                   3/1   \n",
       "2         NaN          NaN         4          1                   4/1   \n",
       "3         NaN          NaN         6          1                   6/1   \n",
       "4         NaN          NaN         7          9                   7/9   \n",
       "\n",
       "   buy_indicator  sell_indicator  \n",
       "0              0               0  \n",
       "1              1               0  \n",
       "2              1               0  \n",
       "3              1               0  \n",
       "4              1               0  \n",
       "\n",
       "[5 rows x 29 columns]"
      ]
     },
     "execution_count": 380,
     "metadata": {},
     "output_type": "execute_result"
    }
   ],
   "source": [
    "df.head()"
   ]
  },
  {
   "cell_type": "code",
   "execution_count": 556,
   "metadata": {},
   "outputs": [],
   "source": [
    "#lets build an example of 1 week momentum and see when our indicators appear\n",
    "df[\"buy_indicator\"] = 0\n",
    "df.loc[df[\"technical_indicators\"] == \"1/1\", 'buy_indicator'] = 1\n",
    "df.loc[df[\"technical_indicators\"] == \"2/1\", 'buy_indicator'] = 1\n",
    "df.loc[df[\"technical_indicators\"] == \"3/1\", 'buy_indicator'] = 1\n",
    "df.loc[df[\"technical_indicators\"] == \"4/1\", 'buy_indicator'] = 1\n",
    "df.loc[df[\"technical_indicators\"] == \"5/7\", 'buy_indicator'] = 1\n",
    "df.loc[df[\"technical_indicators\"] == \"6/1\", 'buy_indicator'] = 1\n",
    "df.loc[df[\"technical_indicators\"] == \"7/8\", 'buy_indicator'] = 1\n",
    "df.loc[df[\"technical_indicators\"] == \"7/9\", 'buy_indicator'] = 1\n",
    "df.loc[df[\"technical_indicators\"] == \"8/1\", 'buy_indicator'] = 1\n",
    "df.loc[df[\"technical_indicators\"] == \"9/8\", 'buy_indicator'] = 1"
   ]
  },
  {
   "cell_type": "code",
   "execution_count": 557,
   "metadata": {},
   "outputs": [],
   "source": [
    "df[\"sell_indicator\"] = 0\n",
    "df.loc[df[\"technical_indicators\"].shift(2016) == \"1/1\", 'sell_indicator'] = 1\n",
    "df.loc[df[\"technical_indicators\"].shift(2016) == \"2/1\", 'sell_indicator'] = 1\n",
    "df.loc[df[\"technical_indicators\"].shift(2016) == \"3/1\", 'sell_indicator'] = 1\n",
    "df.loc[df[\"technical_indicators\"].shift(2016) == \"4/1\", 'sell_indicator'] = 1\n",
    "df.loc[df[\"technical_indicators\"].shift(2016) == \"5/7\", 'sell_indicator'] = 1\n",
    "df.loc[df[\"technical_indicators\"].shift(2016) == \"6/1\", 'sell_indicator'] = 1\n",
    "df.loc[df[\"technical_indicators\"].shift(2016) == \"7/8\", 'sell_indicator'] = 1\n",
    "df.loc[df[\"technical_indicators\"].shift(2016) == \"7/9\", 'sell_indicator'] = 1\n",
    "df.loc[df[\"technical_indicators\"].shift(2016) == \"8/1\", 'sell_indicator'] = 1\n",
    "df.loc[df[\"technical_indicators\"].shift(2016) == \"9/8\", 'sell_indicator'] = 1\n"
   ]
  },
  {
   "cell_type": "code",
   "execution_count": 558,
   "metadata": {},
   "outputs": [],
   "source": [
    "buy_colors = []\n",
    "for value in df[\"buy_indicator\"]:\n",
    "    if value == 1:\n",
    "        buy_colors.append(\"r\")\n",
    "    else:\n",
    "        buy_colors.append(\"None\")"
   ]
  },
  {
   "cell_type": "code",
   "execution_count": 559,
   "metadata": {},
   "outputs": [],
   "source": [
    "sell_colors = []\n",
    "for value in df[\"sell_indicator\"]:\n",
    "    if value == 1:\n",
    "        sell_colors.append(\"g\")\n",
    "    else:\n",
    "        sell_colors.append(\"None\")"
   ]
  },
  {
   "cell_type": "code",
   "execution_count": 560,
   "metadata": {},
   "outputs": [
    {
     "data": {
      "image/png": "[encoded data removed]",
      "text/plain": [
       "<Figure size 432x288 with 1 Axes>"
      ]
     },
     "metadata": {
      "needs_background": "light"
     },
     "output_type": "display_data"
    },
    {
     "data": {
      "image/png": "[encoded data removed]",
      "text/plain": [
       "<Figure size 432x288 with 1 Axes>"
      ]
     },
     "metadata": {
      "needs_background": "light"
     },
     "output_type": "display_data"
    },
    {
     "data": {
      "image/png": "[encoded data removed]",
      "text/plain": [
       "<Figure size 432x288 with 1 Axes>"
      ]
     },
     "metadata": {
      "needs_background": "light"
     },
     "output_type": "display_data"
    }
   ],
   "source": [
    "plt.scatter(list(range(len(df))), np.cumprod(df[\"return\"]), c=buy_colors)\n",
    "plt.show()\n",
    "plt.scatter(list(range(len(df))), np.cumprod(df[\"return\"]), c=sell_colors)\n",
    "plt.show()\n",
    "plt.scatter(list(range(len(df))), np.cumprod(df[\"return\"]), c=buy_colors)\n",
    "plt.scatter(list(range(len(df))), np.cumprod(df[\"return\"]), c=sell_colors)\n",
    "plt.plot(np.cumprod(df[\"return\"]))\n",
    "plt.show()"
   ]
  },
  {
   "cell_type": "code",
   "execution_count": 561,
   "metadata": {},
   "outputs": [],
   "source": [
    "def calculate_cumulated_return(df, start_sum):\n",
    "\n",
    "    money = start_sum\n",
    "    money_history = []\n",
    "    sell_index = 0\n",
    "\n",
    "    for index, row in df[['close', 'buy_indicator', 'sell_indicator']].iterrows():\n",
    "        \n",
    "\n",
    "        if row[\"buy_indicator\"] == 1 and money != 0 and index > sell_index:\n",
    "            assets = money / row[\"close\"]\n",
    "            money = 0\n",
    "            buy_index = index\n",
    "            sell_index = buy_index + 2015\n",
    "\n",
    "        if sell_index == index and money == 0: \n",
    "            money = assets * df[\"close\"][sell_index]\n",
    "            money_history.append(money / start_sum)\n",
    "            assets = 0\n",
    "\n",
    "        \n",
    "        if len(df) - 1 == index and assets != 0:\n",
    "            money = assets * row[\"close\"]\n",
    "            money_history.append(money / start_sum)\n",
    "            assets = 0\n",
    "\n",
    "    return money / start_sum, money_history\n",
    "\n",
    "result, hist = calculate_cumulated_return(df, 1000000)"
   ]
  },
  {
   "cell_type": "code",
   "execution_count": 562,
   "metadata": {},
   "outputs": [
    {
     "name": "stdout",
     "output_type": "stream",
     "text": [
      "6.928957443629086\n"
     ]
    }
   ],
   "source": [
    "print(max(hist))"
   ]
  },
  {
   "cell_type": "code",
   "execution_count": 563,
   "metadata": {},
   "outputs": [
    {
     "name": "stdout",
     "output_type": "stream",
     "text": [
      "6.928957443629086\n"
     ]
    }
   ],
   "source": [
    "print(result)"
   ]
  },
  {
   "cell_type": "code",
   "execution_count": 564,
   "metadata": {},
   "outputs": [
    {
     "data": {
      "image/png": "[encoded data removed]",
      "text/plain": [
       "<Figure size 432x288 with 1 Axes>"
      ]
     },
     "metadata": {
      "needs_background": "light"
     },
     "output_type": "display_data"
    }
   ],
   "source": [
    "plt.scatter(list(range(len(hist))), hist)\n",
    "plt.show()"
   ]
  },
  {
   "cell_type": "code",
   "execution_count": 566,
   "metadata": {},
   "outputs": [
    {
     "name": "stderr",
     "output_type": "stream",
     "text": [
      "C:\\Users\\janfa\\Anaconda3\\lib\\site-packages\\pandas\\core\\generic.py:2653: UserWarning: The spaces in these column names will not be changed. In pandas versions < 0.14, spaces were converted to underscores.\n",
      "  sql.to_sql(\n"
     ]
    }
   ],
   "source": [
    "df.to_sql(\"ETHUSDT_5m_complete_history_long\", connection)"
   ]
  },
  {
   "cell_type": "code",
   "execution_count": 390,
   "metadata": {},
   "outputs": [],
   "source": [
    "#sharp ratio, sortino ratio, maximum drawdown, carl mar ratio \n",
    "\n",
    "#last value predictor"
   ]
  },
  {
   "cell_type": "markdown",
   "metadata": {},
   "source": [
    "#### Backtesting (Long-Short) - Calculate the return applying basic rules"
   ]
  },
  {
   "cell_type": "code",
   "execution_count": 577,
   "metadata": {},
   "outputs": [],
   "source": [
    "#lets build an example of 1 week momentum and see when our indicators appear\n",
    "df[\"buy_indicator\"] = 0\n",
    "buy_indicators = [\"1/1\", \"2/1\", \"3/1\", \"4/1\", \"5/7\", \"6/1\", \"7/8\", \"7/9\", \"8/1\", \"9/8\"]\n",
    "for buy_indicator in buy_indicators:\n",
    "    df.loc[df[\"technical_indicators\"] == buy_indicator, 'buy_indicator'] = 1"
   ]
  },
  {
   "cell_type": "code",
   "execution_count": 578,
   "metadata": {},
   "outputs": [],
   "source": [
    "# df[\"sell_indicator\"] = 0\n",
    "# sell_indicators = [\"5/1\", \"6/1\", \"7/1\", \"0/2\", \"0/3\", \"9/8\", \"0/3\"]\n",
    "                   \n",
    "# for sell_indicator in sell_indicators:\n",
    "#     df.loc[df[\"technical_indicators\"].shift(288) == sell_indicator, 'sell_indicator'] = 1"
   ]
  },
  {
   "cell_type": "code",
   "execution_count": 579,
   "metadata": {},
   "outputs": [],
   "source": [
    "#lets try the same with 2 days\n",
    "df_momentum48 = pd.DataFrame()\n",
    "df_momentum48[\"technical_indicators\"] = df[\"technical_indicators\"].shift(576)\n",
    "df_momentum48[\"momentum48\"] = df[\"momentum48\"]\n",
    "sell_signals_raw = df.index.where(df[\"momentum48\"] < - 0.105).to_list()\n",
    "sell_signals = [int(x) for x in sell_signals_raw if str(x) != \"nan\"]"
   ]
  },
  {
   "cell_type": "code",
   "execution_count": 580,
   "metadata": {},
   "outputs": [],
   "source": [
    "df[\"sell_indicator\"] = 0\n",
    "df[\"sell_indicator\"].iloc[sell_signals] = 1"
   ]
  },
  {
   "cell_type": "code",
   "execution_count": 581,
   "metadata": {},
   "outputs": [],
   "source": [
    "buy_colors = []\n",
    "for value in df[\"buy_indicator\"]:\n",
    "    if value == 1:\n",
    "        buy_colors.append(\"r\")\n",
    "    else:\n",
    "        buy_colors.append(\"None\")"
   ]
  },
  {
   "cell_type": "code",
   "execution_count": 582,
   "metadata": {},
   "outputs": [],
   "source": [
    "sell_colors = []\n",
    "for value in df[\"sell_indicator\"]:\n",
    "    if value == 1:\n",
    "        sell_colors.append(\"g\")\n",
    "    else:\n",
    "        sell_colors.append(\"None\")"
   ]
  },
  {
   "cell_type": "code",
   "execution_count": 583,
   "metadata": {},
   "outputs": [
    {
     "data": {
      "image/png": "[encoded data removed]",
      "text/plain": [
       "<Figure size 432x288 with 1 Axes>"
      ]
     },
     "metadata": {
      "needs_background": "light"
     },
     "output_type": "display_data"
    },
    {
     "data": {
      "image/png": "[encoded data removed]",
      "text/plain": [
       "<Figure size 432x288 with 1 Axes>"
      ]
     },
     "metadata": {
      "needs_background": "light"
     },
     "output_type": "display_data"
    },
    {
     "data": {
      "image/png": "[encoded data removed]",
      "text/plain": [
       "<Figure size 432x288 with 1 Axes>"
      ]
     },
     "metadata": {
      "needs_background": "light"
     },
     "output_type": "display_data"
    }
   ],
   "source": [
    "plt.scatter(list(range(len(df))), np.cumprod(df[\"return\"]), c=buy_colors)\n",
    "plt.show()\n",
    "plt.scatter(list(range(len(df))), np.cumprod(df[\"return\"]), c=sell_colors)\n",
    "plt.show()\n",
    "plt.scatter(list(range(len(df))), np.cumprod(df[\"return\"]), c=buy_colors)\n",
    "plt.plot(np.cumprod(df[\"return\"]))\n",
    "plt.show()"
   ]
  },
  {
   "cell_type": "code",
   "execution_count": 584,
   "metadata": {},
   "outputs": [],
   "source": [
    "def calculate_cumulated_return(df, start_sum):\n",
    "\n",
    "    money = start_sum\n",
    "    money_history = []\n",
    "\n",
    "    for index, row in df[['close', 'buy_indicator', 'sell_indicator']].iterrows():\n",
    "        \n",
    "\n",
    "        if row[\"buy_indicator\"] == 1 and money != 0:\n",
    "            assets = money / row[\"close\"]\n",
    "            money = 0\n",
    "            \n",
    "\n",
    "        if row[\"sell_indicator\"] == 1 and money == 0: \n",
    "            money = assets * row[\"close\"]\n",
    "            money_history.append(money / start_sum)\n",
    "            assets = 0\n",
    "\n",
    "        \n",
    "        if len(df) - 1 == index and assets != 0:\n",
    "            money = assets * row[\"close\"]\n",
    "            money_history.append(money / start_sum)\n",
    "            assets = 0\n",
    "\n",
    "    return money / start_sum, money_history\n",
    "\n",
    "result, hist = calculate_cumulated_return(df, 1000000)"
   ]
  },
  {
   "cell_type": "code",
   "execution_count": 585,
   "metadata": {},
   "outputs": [
    {
     "name": "stdout",
     "output_type": "stream",
     "text": [
      "3.465805839016292\n"
     ]
    }
   ],
   "source": [
    "print(max(hist))"
   ]
  },
  {
   "cell_type": "code",
   "execution_count": 586,
   "metadata": {},
   "outputs": [
    {
     "name": "stdout",
     "output_type": "stream",
     "text": [
      "3.465805839016292\n"
     ]
    }
   ],
   "source": [
    "print(result)"
   ]
  },
  {
   "cell_type": "code",
   "execution_count": 587,
   "metadata": {},
   "outputs": [
    {
     "data": {
      "image/png": "[encoded data removed]",
      "text/plain": [
       "<Figure size 432x288 with 1 Axes>"
      ]
     },
     "metadata": {
      "needs_background": "light"
     },
     "output_type": "display_data"
    }
   ],
   "source": [
    "plt.scatter(list(range(len(hist))), hist)\n",
    "plt.show()"
   ]
  },
  {
   "cell_type": "code",
   "execution_count": 589,
   "metadata": {},
   "outputs": [
    {
     "name": "stderr",
     "output_type": "stream",
     "text": [
      "C:\\Users\\janfa\\Anaconda3\\lib\\site-packages\\pandas\\core\\generic.py:2653: UserWarning: The spaces in these column names will not be changed. In pandas versions < 0.14, spaces were converted to underscores.\n",
      "  sql.to_sql(\n"
     ]
    }
   ],
   "source": [
    "df.to_sql(\"ETHUSDT_5m_complete_history_long_short\", connection, if_exists=\"replace\")"
   ]
  },
  {
   "cell_type": "code",
   "execution_count": null,
   "metadata": {},
   "outputs": [],
   "source": []
  }
 ],
 "metadata": {
  "interpreter": {
   "hash": "1e5a5ffce4c1a67d56af0ede33c367753c6591829083eace9e2885f4e1d1923c"
  },
  "kernelspec": {
   "display_name": "Python 3.8.3 64-bit (conda)",
   "language": "python",
   "name": "python3"
  },
  "language_info": {
   "codemirror_mode": {
    "name": "ipython",
    "version": 3
   },
   "file_extension": ".py",
   "mimetype": "text/x-python",
   "name": "python",
   "nbconvert_exporter": "python",
   "pygments_lexer": "ipython3",
   "version": "3.8.3"
  },
  "orig_nbformat": 4
 },
 "nbformat": 4,
 "nbformat_minor": 2
}

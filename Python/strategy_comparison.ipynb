{
 "cells": [
  {
   "cell_type": "code",
   "execution_count": 5,
   "metadata": {},
   "outputs": [],
   "source": [
    "import pandas as pd\n",
    "import numpy as np\n",
    "from data_storage import create_connection\n",
    "import matplotlib.pyplot as plt"
   ]
  },
  {
   "cell_type": "code",
   "execution_count": 6,
   "metadata": {},
   "outputs": [],
   "source": [
    "connection = create_connection(\"../database/crypto_billionairs.db\")"
   ]
  },
  {
   "cell_type": "code",
   "execution_count": 7,
   "metadata": {},
   "outputs": [
    {
     "data": {
      "text/html": [
       "<div>\n",
       "<style scoped>\n",
       "    .dataframe tbody tr th:only-of-type {\n",
       "        vertical-align: middle;\n",
       "    }\n",
       "\n",
       "    .dataframe tbody tr th {\n",
       "        vertical-align: top;\n",
       "    }\n",
       "\n",
       "    .dataframe thead th {\n",
       "        text-align: right;\n",
       "    }\n",
       "</style>\n",
       "<table border=\"1\" class=\"dataframe\">\n",
       "  <thead>\n",
       "    <tr style=\"text-align: right;\">\n",
       "      <th></th>\n",
       "      <th>index</th>\n",
       "      <th>table_name</th>\n",
       "      <th>timehorizon</th>\n",
       "      <th>return</th>\n",
       "      <th>annualized_return</th>\n",
       "      <th>sharpe_ratio_annualized</th>\n",
       "      <th>sortino_ratio_annualized</th>\n",
       "      <th>maximum_drawdown</th>\n",
       "      <th>calmar_ratio_annualized</th>\n",
       "      <th>trades_count</th>\n",
       "      <th>win_rate</th>\n",
       "    </tr>\n",
       "  </thead>\n",
       "  <tbody>\n",
       "  </tbody>\n",
       "</table>\n",
       "</div>"
      ],
      "text/plain": [
       "Empty DataFrame\n",
       "Columns: [index, table_name, timehorizon, return, annualized_return, sharpe_ratio_annualized, sortino_ratio_annualized, maximum_drawdown, calmar_ratio_annualized, trades_count, win_rate]\n",
       "Index: []"
      ]
     },
     "execution_count": 7,
     "metadata": {},
     "output_type": "execute_result"
    }
   ],
   "source": [
    "df_rsi = pd.read_sql_query(\"select * from cryptocurrencies_risk_metrics_1m_rsi  order by annualized_return DESC\", connection)\n",
    "df_rsi"
   ]
  },
  {
   "cell_type": "code",
   "execution_count": 8,
   "metadata": {},
   "outputs": [],
   "source": [
    "table_names = pd.read_sql_query(\"SELECT name FROM sqlite_master WHERE type='table' ORDER BY name;\", connection)\n",
    "table_names_list = table_names['name'].tolist()\n",
    "filtered_table_names = [name for name in table_names_list if \"1min_complete_history_long_short\" in name and 'trades' in name]\n",
    "\n",
    "for table in filtered_table_names:\n",
    "    table_name_splitted = table.split(\"_\")\n",
    "    df_temp = pd.read_sql_query(f\"select * from {table}\", connection)\n",
    "    df_orig = pd.read_sql_query(f\"select * from {table_name_splitted[1]}_1min_complete_history_long_short_rsi\", connection)\n",
    "    df_orig[\"return\"] = df_orig['close'].pct_change() + 1\n",
    "    plt.plot(np.cumprod(df_orig[\"return\"]))\n",
    "    plt.title(f\"{table_name_splitted[1]}_1min_complete_history\")\n",
    "    plt.show()\n",
    "    plt.scatter(list(range(len(df_temp))), np.cumprod(df_temp[\"ReturnPct\"] + 1), )\n",
    "    #plt.plot(np.cumprod(df_temp[\"ReturnPct\"]))\n",
    "    plt.title(table)\n",
    "    plt.show()"
   ]
  }
 ],
 "metadata": {
  "interpreter": {
   "hash": "cf7c0b8ed4c815043e48994c1e64c08f9d96fdc49c73ce762547f36d7ce0a11b"
  },
  "kernelspec": {
   "display_name": "Python 3.8.3",
   "language": "python",
   "name": "python3"
  },
  "language_info": {
   "codemirror_mode": {
    "name": "ipython",
    "version": 3
   },
   "file_extension": ".py",
   "mimetype": "text/x-python",
   "name": "python",
   "nbconvert_exporter": "python",
   "pygments_lexer": "ipython3",
   "version": "3.8.3"
  },
  "orig_nbformat": 4
 },
 "nbformat": 4,
 "nbformat_minor": 2
}

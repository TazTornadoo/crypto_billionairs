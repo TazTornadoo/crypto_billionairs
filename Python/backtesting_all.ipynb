{
 "cells": [
  {
   "cell_type": "code",
   "execution_count": 1,
   "metadata": {},
   "outputs": [],
   "source": [
    "import pandas as pd\n",
    "import numpy as np\n",
    "from backtesting import Backtest, Strategy\n",
    "from data_storage import create_connection\n",
    "from stockstats import StockDataFrame\n",
    "from risk_metrics import Risk_Metrics\n",
    "import os\n",
    "import logging"
   ]
  },
  {
   "cell_type": "code",
   "execution_count": 2,
   "metadata": {},
   "outputs": [],
   "source": [
    "connection = create_connection(\"../database/crypto_billionairs.db\")"
   ]
  },
  {
   "cell_type": "code",
   "execution_count": 3,
   "metadata": {},
   "outputs": [],
   "source": [
    "headers = [\"time\", \"open\", \"high\", \"low\", \"close\", \"volume\"]"
   ]
  },
  {
   "cell_type": "code",
   "execution_count": 4,
   "metadata": {},
   "outputs": [],
   "source": [
    "def momentum(df, lag):\n",
    "    return df.pct_change(periods=lag)"
   ]
  },
  {
   "cell_type": "code",
   "execution_count": 5,
   "metadata": {},
   "outputs": [],
   "source": [
    "def prepare_files(path, db_connection, header_list):\n",
    "    \n",
    "    for file in os.listdir(path):\n",
    "        \n",
    "        try:\n",
    "            \n",
    "            if file[-3:] == 'txt':\n",
    "                df = pd.read_csv(f'./{path}/{file}', names = header_list)\n",
    "             \n",
    "                df[\"momentum_1week\"] = momentum(df[\"close\"], 10080)\n",
    "    \n",
    "                df[\"buy_indicator\"] = 0\n",
    "                df.loc[df[\"momentum_1week\"] > 0.025, 'buy_indicator'] = 1\n",
    "                df.loc[df[\"momentum_1week\"] < -0.08, 'short_indicator'] = -1\n",
    "            \n",
    "                file_name = str(file).replace(\"-\", \"_\")\n",
    "                \n",
    "                df.to_sql(f'{file_name[:-4]}_complete_history_long_short', con=db_connection, if_exists=\"replace\", index=False)\n",
    "                #os.remove(f'{path}/{file}')\n",
    "        except:\n",
    "            print(\"Oh no!\")"
   ]
  },
  {
   "cell_type": "code",
   "execution_count": 6,
   "metadata": {},
   "outputs": [],
   "source": [
    "#prepare_files(\"../database/\", connection, headers)"
   ]
  },
  {
   "cell_type": "code",
   "execution_count": 7,
   "metadata": {},
   "outputs": [],
   "source": [
    "class Momentum_1m_long_short(Strategy):\n",
    "   \n",
    "    \n",
    "    def init(self):\n",
    "        # compute the rsi and stochastic oscillator with stockstats and return the buy signal of the current row\n",
    "        \n",
    "        self.buy_init = self.I(init_buy_signal, self.data.df)\n",
    "        self.short_init = self.I(init_short_signal, self.data.df)\n",
    "        self.data.df.drop(self.data.df.columns.difference(['Open', 'High', 'Low', 'Close', \"Volume\"]), 1, inplace=True)\n",
    "        \n",
    "       \n",
    "    \n",
    "    def next(self):\n",
    "        \n",
    "        if self.buy_init[-1] == 1 and self.position.is_long is False:\n",
    "            self.position.close()\n",
    "            self.buy()\n",
    "\n",
    "             \n",
    "        elif self.short_init[-1] == -1 and self.position.is_short is False:\n",
    "            self.position.close()\n",
    "            self.sell()"
   ]
  },
  {
   "cell_type": "code",
   "execution_count": 8,
   "metadata": {},
   "outputs": [],
   "source": [
    "def init_buy_signal(trash):\n",
    "    return df_temp['buy_indicator']\n",
    "\n",
    "def init_short_signal(trash):\n",
    "    return df_temp['short_indicator']"
   ]
  },
  {
   "cell_type": "code",
   "execution_count": 9,
   "metadata": {},
   "outputs": [],
   "source": [
    "def run_backtesting(db_connection):\n",
    "    \n",
    "    global df_temp\n",
    "    \n",
    "    table_names = pd.read_sql_query(\"SELECT name FROM sqlite_master WHERE type='table' ORDER BY name;\", db_connection)\n",
    "    \n",
    "    table_names_list = table_names['name'].tolist()\n",
    "\n",
    "    filtered_table_names = [name for name in table_names_list if \"1min_complete_history_long_short\" in name and 'trades' not in name]\n",
    "    \n",
    "    df_risk = pd.DataFrame(columns = range(8))\n",
    "    df_risk.columns = [\"table_name\", \"timehorizon\", \"return\", \"annualized_return\", \"sharpe_ratio_annualized\", \"sortino_ratio_annualized\", \"maximum_drawdown\", \"calamr_ratio_annualized\"]\n",
    "    \n",
    "    for table in filtered_table_names:\n",
    "        \n",
    "        df_temp = pd.read_sql_query(f\"select * from {table}\", db_connection)\n",
    "        df_backtesting = pd.DataFrame()\n",
    "        df_backtesting[['Open', 'High', 'Low', 'Close', \"Volume\"]] = df_temp[['open', 'high', 'low', 'close', 'volume']]\n",
    "        \n",
    "        \n",
    "        bt = Backtest(df_backtesting, Momentum_1m_long_short, cash=100_000, commission=.001)\n",
    "        stats = bt.run()\n",
    "        trades = pd.DataFrame(stats['_trades'])\n",
    "        trades.to_sql(f\"trades_{table}\", db_connection, if_exists=\"replace\")\n",
    "        \n",
    "        risk = Risk_Metrics(trades, df_temp, 0)\n",
    "        risk_metrics_list = [f\"{table}\", len(df_backtesting), stats[\"Return [%]\"], risk._annualize(stats[\"Return [%]\"]),\n",
    "                             risk.sharpe_ratio(\"momentum_1week\"), risk.sortino_ratio(\"momentum_1week\"),\n",
    "                             risk.max_drawdown(), risk.calmar_ratio(stats[\"Return [%]\"])]\n",
    "        print(risk_metrics_list)\n",
    "        #df_risk.append(risk_metrics_list)\n",
    "        df_risk.loc[len(df_risk)] = risk_metrics_list\n",
    "        \n",
    "    \n",
    "    df_risk.to_sql(\"cryptocurrencies_risk_metrics_1m\", db_connection, if_exists=\"replace\")"
   ]
  },
  {
   "cell_type": "code",
   "execution_count": 10,
   "metadata": {},
   "outputs": [
    {
     "name": "stderr",
     "output_type": "stream",
     "text": [
      "<ipython-input-9-5d7e79eae585>:21: UserWarning: Data index is not datetime. Assuming simple periods, but `pd.DateTimeIndex` is advised.\n",
      "  bt = Backtest(df_backtesting, Momentum_1m_long_short, cash=100_000, commission=.001)\n"
     ]
    },
    {
     "name": "stdout",
     "output_type": "stream",
     "text": [
      "['ADA_1min_complete_history_long_short', 1547195, -100.0, -33.971154250110686, -0.1961265415496819, -1.15106784816102, 1.2457557893281659, -27.269513448082208]\n",
      "                             table_name timehorizon  return  \\\n",
      "0  ADA_1min_complete_history_long_short     1547195  -100.0   \n",
      "\n",
      "   annualized_return  sharpe_ratio_annualized  sortino_ratio_annualized  \\\n",
      "0         -33.971154                -0.196127                 -1.151068   \n",
      "\n",
      "   maximum_drawdown  calamr_ratio_annualized  \n",
      "0          1.245756               -27.269513  \n"
     ]
    }
   ],
   "source": [
    "run_backtesting(connection)"
   ]
  }
 ],
 "metadata": {
  "interpreter": {
   "hash": "f7a2edc2e0af523844596de9c639cd0428457baa318d70c85b16ead7cea2cb8f"
  },
  "kernelspec": {
   "display_name": "Python 3.8.3",
   "language": "python",
   "name": "python3"
  },
  "language_info": {
   "codemirror_mode": {
    "name": "ipython",
    "version": 3
   },
   "file_extension": ".py",
   "mimetype": "text/x-python",
   "name": "python",
   "nbconvert_exporter": "python",
   "pygments_lexer": "ipython3",
   "version": "3.8.3"
  },
  "orig_nbformat": 4
 },
 "nbformat": 4,
 "nbformat_minor": 2
}

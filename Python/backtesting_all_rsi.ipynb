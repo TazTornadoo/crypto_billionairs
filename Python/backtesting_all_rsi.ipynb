{
 "cells": [
  {
   "cell_type": "code",
   "execution_count": 1,
   "metadata": {},
   "outputs": [],
   "source": [
    "import pandas as pd\n",
    "import numpy as np\n",
    "from backtesting import Backtest, Strategy\n",
    "from data_storage import create_connection\n",
    "from stockstats import StockDataFrame\n",
    "from risk_metrics import Risk_Metrics\n",
    "import os\n",
    "import logging"
   ]
  },
  {
   "cell_type": "code",
   "execution_count": 2,
   "metadata": {},
   "outputs": [],
   "source": [
    "connection = create_connection(\"../database/crypto_billionairs.db\")"
   ]
  },
  {
   "cell_type": "code",
   "execution_count": 3,
   "metadata": {},
   "outputs": [],
   "source": [
    "headers = [\"time\", \"open\", \"high\", \"low\", \"close\", \"volume\"]"
   ]
  },
  {
   "cell_type": "code",
   "execution_count": 4,
   "metadata": {},
   "outputs": [],
   "source": [
    "def momentum(df, lag):\n",
    "    return df.pct_change(periods=lag)"
   ]
  },
  {
   "cell_type": "code",
   "execution_count": 5,
   "metadata": {},
   "outputs": [],
   "source": [
    "def prepare_files(path, db_connection, header_list):\n",
    "    \n",
    "    for file in os.listdir(path):\n",
    "        \n",
    "        try:\n",
    "            \n",
    "            if file[-3:] == 'txt':\n",
    "                df = pd.read_csv(f'./{path}/{file}', names = header_list)\n",
    "             \n",
    "                df[\"momentum_1week\"] = momentum(df[\"close\"], 10080)\n",
    "                df[\"year\"] = df[\"time\"].str[:4]\n",
    "                df[\"month\"] = df[\"time\"].str[5:7]\n",
    "                df[\"day\"] = df[\"time\"].str[8:10]\n",
    "    \n",
    "                # df[\"buy_indicator\"] = 0\n",
    "                # df.loc[df[\"momentum_1week\"] > 0.025, 'buy_indicator'] = 1\n",
    "                # df.loc[df[\"momentum_1week\"] < -0.08, 'short_indicator'] = -1\n",
    "                df_ti = pd.DataFrame()\n",
    "                df_ti[\"time\"] = df[\"time\"]\n",
    "                df_ti[\"open\"] = df[\"open\"]\n",
    "                df_ti[\"close\"] = df[\"close\"]\n",
    "                df_ti[\"high\"] = df[\"high\"]\n",
    "                df_ti[\"low\"] = df[\"low\"]\n",
    "                df_ti[\"volume\"] = df[\"volume\"]\n",
    "                stock = StockDataFrame.retype(df_ti)\n",
    "                df[\"stochastic_oscillator\"] = stock.get(\"kdjk\")\n",
    "                df[\"relative_strength_index\"] = stock.get(\"rsi_30\")\n",
    "                df[\"moving_average_convergence_divergence\"] = stock.get(\"macd\")\n",
    "                df[\"moving_average_convergence_divergence\"] = df[\"moving_average_convergence_divergence\"].astype(int)\n",
    "                df[\"so_group\"] = df[\"stochastic_oscillator\"].astype(str).str[0]\n",
    "                df[\"rsi_group\"] = df[\"relative_strength_index\"].astype(str).str[0]\n",
    "                df[\"technical_indicators\"] = df[\"so_group\"] + \"/\" + df[\"rsi_group\"]\n",
    "                #df[\"momentum168\"] = momentum(df[\"close\"], 2016)\n",
    "                df[\"buy_indicator\"] = 0\n",
    "                df.loc[df[\"technical_indicators\"] == \"1/1\", 'buy_indicator'] = 1\n",
    "                df.loc[df[\"technical_indicators\"] == \"2/1\", 'buy_indicator'] = 1\n",
    "                df.loc[df[\"technical_indicators\"] == \"3/1\", 'buy_indicator'] = 1\n",
    "                df.loc[df[\"technical_indicators\"] == \"4/1\", 'buy_indicator'] = 1\n",
    "                df.loc[df[\"technical_indicators\"] == \"5/7\", 'buy_indicator'] = 1\n",
    "                df.loc[df[\"technical_indicators\"] == \"6/1\", 'buy_indicator'] = 1\n",
    "                df.loc[df[\"technical_indicators\"] == \"8/1\", 'buy_indicator'] = 1\n",
    "                \n",
    "                df[\"close_indicator\"] = 0\n",
    "                df.loc[df[\"technical_indicators\"].shift(10080) == \"1/1\", 'close_indicator'] = 2\n",
    "                df.loc[df[\"technical_indicators\"].shift(10080) == \"2/1\", 'close_indicator'] = 2\n",
    "                df.loc[df[\"technical_indicators\"].shift(10080) == \"3/1\", 'close_indicator'] = 2\n",
    "                df.loc[df[\"technical_indicators\"].shift(10080) == \"4/1\", 'close_indicator'] = 2\n",
    "                df.loc[df[\"technical_indicators\"].shift(10080) == \"5/7\", 'close_indicator'] = 2\n",
    "                df.loc[df[\"technical_indicators\"].shift(10080) == \"6/1\", 'close_indicator'] = 2\n",
    "                df.loc[df[\"technical_indicators\"].shift(10080) == \"8/1\", 'close_indicator'] = 2\n",
    "                \n",
    "                \n",
    "                short_signals = df.index[df[\"moving_average_convergence_divergence\"] >= 55].tolist()\n",
    "                df[\"short_indicator\"] = 0\n",
    "                df[\"short_indicator\"].loc[short_signals] = 1\n",
    "            \n",
    "                file_name = str(file).replace(\"-\", \"_\")\n",
    "                \n",
    "                df.to_sql(f'{file_name[:-4]}_complete_history_long_short_rsi', con=db_connection, if_exists=\"replace\", index=False)\n",
    "                #os.remove(f'{path}/{file}')\n",
    "        except:\n",
    "            print(file)"
   ]
  },
  {
   "cell_type": "code",
   "execution_count": 6,
   "metadata": {},
   "outputs": [
    {
     "name": "stderr",
     "output_type": "stream",
     "text": [
      "C:\\Users\\janfa\\anaconda3\\lib\\site-packages\\pandas\\core\\indexing.py:671: SettingWithCopyWarning: \n",
      "A value is trying to be set on a copy of a slice from a DataFrame\n",
      "\n",
      "See the caveats in the documentation: https://pandas.pydata.org/pandas-docs/stable/user_guide/indexing.html#returning-a-view-versus-a-copy\n",
      "  self._setitem_with_indexer(indexer, value)\n"
     ]
    }
   ],
   "source": [
    "prepare_files(\"../database/\", connection, headers)"
   ]
  },
  {
   "cell_type": "code",
   "execution_count": 7,
   "metadata": {},
   "outputs": [],
   "source": [
    "class Momentum_RSI_long_short(Strategy):\n",
    "   \n",
    "    \n",
    "    def init(self):\n",
    "        # compute the rsi and stochastic oscillator with stockstats and return the buy signal of the current row\n",
    "        \n",
    "        self.buy_init = self.I(init_buy_signal, self.data.df)\n",
    "        self.close_buy_init = self.I(init_close_long_signal, self.data.df)\n",
    "        self.short_init = self.I(init_short_signal, self.data.df)\n",
    "        self.data.df.drop(self.data.df.columns.difference(['Open', 'High', 'Low', 'Close', \"Volume\"]), 1, inplace=True)\n",
    "        \n",
    "       \n",
    "    \n",
    "    def next(self):\n",
    "        \n",
    "        if self.buy_init[-1] == 1 and self.position.is_long is False:\n",
    "            self.position.close()\n",
    "            self.buy()\n",
    "            \n",
    "        elif self.close_buy_init[-1] == 2 and self.position.is_long:\n",
    "             self.position.close()\n",
    "             \n",
    "        elif self.short_init[-1] == -1 and self.position.is_short is False:\n",
    "            self.position.close()\n",
    "            self.sell()"
   ]
  },
  {
   "cell_type": "code",
   "execution_count": 8,
   "metadata": {},
   "outputs": [],
   "source": [
    "def init_buy_signal(trash):\n",
    "    return df_temp['buy_indicator']\n",
    "\n",
    "def init_short_signal(trash):\n",
    "    return df_temp['short_indicator']\n",
    "\n",
    "def init_close_long_signal(df):\n",
    "    return df_temp['close_indicator']"
   ]
  },
  {
   "cell_type": "code",
   "execution_count": 9,
   "metadata": {},
   "outputs": [],
   "source": [
    "def run_backtesting(db_connection):\n",
    "    \n",
    "    global df_temp\n",
    "    \n",
    "    table_names = pd.read_sql_query(\"SELECT name FROM sqlite_master WHERE type='table' ORDER BY name;\", db_connection)\n",
    "    \n",
    "    table_names_list = table_names['name'].tolist()\n",
    "\n",
    "    filtered_table_names = [name for name in table_names_list if \"1min_complete_history_long_short_rsi\" in name and 'trades' not in name]\n",
    "    \n",
    "    df_risk = pd.DataFrame(columns = range(10))\n",
    "    df_risk.columns = [\"table_name\", \"timehorizon\", \"return\", \"annualized_return\", \"sharpe_ratio_annualized\", \"sortino_ratio_annualized\", \"maximum_drawdown\", \"calmar_ratio_annualized\", \"trades_count\", \"win_rate\"]\n",
    "    \n",
    "    for table in filtered_table_names:\n",
    "        \n",
    "        df_temp = pd.read_sql_query(f\"select * from {table}\", db_connection)\n",
    "        \n",
    "        df_backtesting = pd.DataFrame()\n",
    "        df_backtesting[['Open', 'High', 'Low', 'Close', \"Volume\"]] = df_temp[['open', 'high', 'low', 'close', 'volume']]\n",
    "        \n",
    "        \n",
    "        bt = Backtest(df_backtesting, Momentum_RSI_long_short, cash=100_000, commission=.001)\n",
    "        stats = bt.run()\n",
    "        trades = pd.DataFrame(stats['_trades'])\n",
    "        trades.to_sql(f\"trades_{table}\", db_connection, if_exists=\"replace\")\n",
    "        \n",
    "        risk = Risk_Metrics(trades, df_temp[10080:], 0)\n",
    "        risk_metrics_list = [f\"{table}\", len(df_backtesting), stats[\"Return [%]\"], risk._annualize(stats[\"Return [%]\"]),\n",
    "                             risk.sharpe_ratio(\"momentum_1week\"), risk.sortino_ratio(\"momentum_1week\"),\n",
    "                             risk.max_drawdown(), risk.calmar_ratio(stats[\"Return [%]\"]), len(trades), stats[\"Win Rate [%]\"]]\n",
    "        print(risk_metrics_list)\n",
    "        #df_risk.append(risk_metrics_list)\n",
    "        df_risk.loc[len(df_risk)] = risk_metrics_list\n",
    "        \n",
    "    \n",
    "    df_risk.to_sql(\"cryptocurrencies_risk_metrics_1m_rsi\", db_connection, if_exists=\"replace\")"
   ]
  },
  {
   "cell_type": "code",
   "execution_count": 10,
   "metadata": {},
   "outputs": [
    {
     "name": "stderr",
     "output_type": "stream",
     "text": [
      "<ipython-input-9-357ed40be165>:22: UserWarning: Data index is not datetime. Assuming simple periods, but `pd.DateTimeIndex` is advised.\n",
      "  bt = Backtest(df_backtesting, Momentum_RSI_long_short, cash=100_000, commission=.001)\n"
     ]
    },
    {
     "name": "stdout",
     "output_type": "stream",
     "text": [
      "['ADA_1min_complete_history_long_short_rsi', 1547195, 1075.246454299314, 367.6690009398903, 22.622989671304467, 22.624261726866006, 0.5705731097342185, 644.3854339913705, 105, 61.904761904761905]\n",
      "['BAT_1min_complete_history_long_short_rsi', 842235, -57.27654454134983, -36.17661590801409, 0.9389356943921079, 1.1943004896261147, 0.7655581103403659, -47.2552186690701, 46, 56.52173913043478]\n",
      "['BCH_1min_complete_history_long_short_rsi', 2210868, -69.68036545899764, -16.64131215057932, 0.3326612909047994, 0.4282296222275895, 0.925874540321868, -17.97361459447215, 257, 43.96887159533074]\n",
      "['BNT_1min_complete_history_long_short_rsi', 1665182, 257.7200527484329, 81.8424844659582, 4.617846370676654, 5.567982183392863, 0.4748569746696964, 172.35186346980927, 114, 50.0]\n",
      "['BSV_1min_complete_history_long_short_rsi', 1275677, 315.56571017210456, 131.05383251260722, 7.671865433856459, 8.609792519423026, 0.692290317594228, 189.3047312405455, 100, 51.0]\n",
      "['BTC_1min_complete_history_long_short_rsi', 3979475, 794.579356421123, 105.21273638298588, 5.993661847363754, 9.00687337388252, 0.37212759698456577, 282.732958360381, 645, 51.007751937984494]\n",
      "['BTG_1min_complete_history_long_short_rsi', 1607778, -47.41784337886942, -15.599204906017137, 0.8204246922427931, 0.9735470131665919, 0.7744035565868341, -20.143508863479752, 100, 45.0]\n",
      "['CVC_1min_complete_history_long_short_rsi', 409894, 651.6042884920037, 856.6063570345138, 19.44638056189469, 32.62882212931049, 0.7310163027453938, 1171.8019882969177, 37, 48.64864864864865]\n",
      "['DAI_1min_complete_history_long_short_rsi', 1039766, -9.3158875162389, -4.755265662090352, 62.32187001562105, 62.32187001562105, 0.09660871874980956, -49.22191002662196, 98, 9.183673469387756]\n",
      "['DASH_1min_complete_history_long_short_rsi', 2182756, -88.42846116739916, -21.392052560798298, 0.16920807459266865, 0.16922409124500204, 0.945350596056938, -22.628697384890486, 179, 46.927374301675975]\n",
      "['DCR_1min_complete_history_long_short_rsi', 172656, -28.306303592399868, -91.51285040944157, 11.98008052908623, 11.98008052908623, 0.6776628538363538, -135.04185730614157, 8, 62.5]\n",
      "['DOGE_1min_complete_history_long_short_rsi', 1945263, 2907.3400726174254, 789.6400196610444, 26.749349884676473, 36.05536197678459, 0.5104576078787053, 1546.9257534284382, 423, 44.44444444444444]\n",
      "['EOS_1min_complete_history_long_short_rsi', 2446414, 173.98775228001227, 37.53506809754921, 2.627510912800272, 3.2632919624365484, 0.873039778770253, 42.993537076191856, 132, 54.54545454545454]\n",
      "['ETC_1min_complete_history_long_short_rsi', 2481866, 610.4413215873432, 129.8041006083486, 3.64417046990299, 8.38745597311368, 0.009734799865967774, 13334.02868015143, 121, 50.413223140495866]\n",
      "['ETH_1min_complete_history_long_short_rsi', 2749464, 575.7588082064341, 110.46966383438821, 7.34093863727067, 7.561208720821937, 0.8759765039976564, 126.11030470593965, 587, 48.21124361158432]\n",
      "['FUN_1min_complete_history_long_short_rsi', 141418, 184.82755792265002, 739.6592337643701, 6.265995083980417, 28.509015289758587, 0.5281698195116331, 1400.4193470355588, 7, 71.42857142857143]\n",
      "['HT_1min_complete_history_long_short_rsi', 36565, 17.130823846570014, 339.96454648885026, 23.065642243435732, 184.34104678632224, 0.013903515381523696, 24451.697082352803, 3, 66.66666666666666]\n",
      "['ICX_1min_complete_history_long_short_rsi', 1012887, -51.80885423511956, -27.15451107339582, 0.7889584827392927, 1.0040635827687603, 0.7485774617794679, -36.274817850975566, 77, 46.75324675324675]\n",
      "['IOST_1min_complete_history_long_short_rsi', 814373, 23.459813885420516, 15.330828663406276, 2.881562677772701, 3.2203836021227406, 0.601427496452817, 25.490734550426403, 41, 58.536585365853654]\n",
      "['KNC_1min_complete_history_long_short_rsi', 948722, 1088.8522599329292, 609.7114212029161, 26.919168345215937, 35.14715633915, 0.6185739679220129, 985.6726160836206, 101, 47.524752475247524]\n",
      "['LINK_1min_complete_history_long_short_rsi', 1396103, -26.883623989319094, -10.194659662059083, 1.8186827999336168, 1.8186827999336168, 0.715218393950789, -14.25391146016937, 85, 55.294117647058826]\n",
      "['LRC_1min_complete_history_long_short_rsi', 762333, 76.23203228990114, 53.26340496026209, 2.88916574008964, 5.5381010280987235, 0.6609186322048314, 80.58995822613568, 75, 60.0]\n",
      "['LSK_1min_complete_history_long_short_rsi', 939275, -65.36673463677923, -36.974753119733926, 0.6910933361621344, 0.7640622408069812, 0.8126500361539866, -45.498986617564974, 76, 48.68421052631579]\n",
      "['LTC_1min_complete_history_long_short_rsi', 2649734, -64.35859254109909, -12.814890224098187, 0.42525797396394555, 0.4750468285426202, 0.9008515925992455, -14.225306731293134, 99, 39.39393939393939]\n",
      "['MAID_1min_complete_history_long_short_rsi', 1688680, -28.466940727249547, -8.913513669869154, 1.1065649466067717, 1.2970673024943595, 0.7650798569399003, -11.650435688531454, 56, 41.07142857142857]\n",
      "['MANA_1min_complete_history_long_short_rsi', 757952, 863.9266752114609, 607.162536491731, 14.208662586244968, 27.646252557427072, 0.36442528364944654, 1666.0823596306284, 32, 50.0]\n",
      "['MKR_1min_complete_history_long_short_rsi', 925405, -0.17615145309928631, -0.10115008739954102, 2.3314244871732694, 2.9619689042388044, 0.6015950722020852, -0.1681364959145861, 90, 47.77777777777778]\n",
      "['NEO_1min_complete_history_long_short_rsi', 1908641, 27.205920852411435, 7.5317211298596405, 1.9459589297030286, 1.9459589297030286, 0.7382095871948986, 10.202686690211124, 116, 51.724137931034484]\n",
      "['OMG_1min_complete_history_long_short_rsi', 1926152, 136.90503846795775, 37.55458470180588, 1.9771402661735598, 2.9173362709872293, 0.980234365030542, 38.31184259759732, 172, 45.93023255813954]\n",
      "['ONT_1min_complete_history_long_short_rsi', 958254, -26.27504717785913, -14.565011059871667, 2.139207459968873, 2.139207459968873, 0.7550577599829092, -19.289929634259167, 89, 52.80898876404494]\n",
      "['PAX_1min_complete_history_long_short_rsi', 254268, -2.909552778779995, -6.262637560104368, 338.70323515499433, 338.70323515499433, 0.0028641264676910086, -2186.578571425011, 3, 0.0]\n",
      "['QTUM_1min_complete_history_long_short_rsi', 1109654, -64.5122356062198, -30.837061475288728, 0.7519331002631862, 0.7974499654227124, 0.6211375959211776, -49.64610366171098, 72, 58.333333333333336]\n",
      "['REP_1min_complete_history_long_short_rsi', 1448903, -68.81564297777868, -25.138256720333548, 0.31753136281055766, 0.5438995236335552, 0.96466392627675, -26.059082376344293, 45, 44.44444444444444]\n",
      "['SC_1min_complete_history_long_short_rsi', 393233, -30.74152250314978, -42.17047557413233, 2.727061165360723, 3.1776998813569195, 0.6290154920531749, -67.04203013582912, 19, 42.10526315789473]\n",
      "['SNT_1min_complete_history_long_short_rsi', 187682, 21.224118318790147, 62.81121039377992, 3.5683088807150187, 9.686235303985438, 0.5603840872399478, 112.08599927086283, 8, 62.5]\n",
      "['TRX_1min_complete_history_long_short_rsi', 1937323, -68.29260689352962, -18.624840865028006, 0.5246612759287225, 0.5601531763436608, 0.9555454455597149, -19.491318755769303, 199, 40.20100502512563]\n",
      "['USDC_1min_complete_history_long_short_rsi', 694749, -4.003027135119701, -3.0730047106250096, 1038.4132680608313, 1038.4132680608313, 0.029461274807307442, -104.30657636928852, 29, 0.0]\n",
      "['USDT_1min_complete_history_long_short_rsi', 1413984, 0.28482564513022957, 0.1066343276181624, 37.27894816974804, 37.27894816974804, 0.07302829103601698, 1.4601783241178572, 33, 36.36363636363637]\n",
      "['UST_1min_complete_history_long_short_rsi', 1214423, -4.205536433078654, -1.8353824028753774, 58.83776728115123, 58.83776728115123, 0.08619130006961884, -21.2942884188183, 114, 37.719298245614034]\n",
      "['UTK_1min_complete_history_long_short_rsi', 378850, -98.42055433445995, -140.2767127428808, 0.010005056110534469, 0.06720579599491523, 0.8198015783258497, -171.11056681464996, 57, 43.859649122807014]\n",
      "['VET_1min_complete_history_long_short_rsi', 358735, 167.38996315054067, 252.3416117133676, 7.983877802819382, 12.78869344736134, 0.4831596835594477, 522.2737333015071, 26, 46.15384615384615]\n",
      "['WAVES_1min_complete_history_long_short_rsi', 276485, 1466.999357184801, 2894.2957607264557, 41.48942933203062, 84.79366775132829, 0.6553584133392358, 4416.355541968559, 17, 58.82352941176471]\n",
      "['XEM_1min_complete_history_long_short_rsi', 1591810, -38.910878390169586, -12.929866463854852, 0.9137990290428057, 0.9615879847655588, 0.5779431160082465, -22.372212949189898, 161, 47.20496894409938]\n",
      "['XVG_1min_complete_history_long_short_rsi', 1002183, -72.83962214008963, -38.589244661926344, 0.5249579101479032, 0.6302733780342351, 0.8773347866043699, -43.98462850342669, 64, 42.1875]\n"
     ]
    }
   ],
   "source": [
    "run_backtesting(connection)"
   ]
  }
 ],
 "metadata": {
  "interpreter": {
   "hash": "f7a2edc2e0af523844596de9c639cd0428457baa318d70c85b16ead7cea2cb8f"
  },
  "kernelspec": {
   "display_name": "Python 3.8.3",
   "language": "python",
   "name": "python3"
  },
  "language_info": {
   "codemirror_mode": {
    "name": "ipython",
    "version": 3
   },
   "file_extension": ".py",
   "mimetype": "text/x-python",
   "name": "python",
   "nbconvert_exporter": "python",
   "pygments_lexer": "ipython3",
   "version": "3.8.3"
  },
  "orig_nbformat": 4
 },
 "nbformat": 4,
 "nbformat_minor": 2
}

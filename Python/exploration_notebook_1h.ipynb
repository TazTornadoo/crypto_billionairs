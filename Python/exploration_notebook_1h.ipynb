{
 "cells": [
  {
   "cell_type": "code",
   "execution_count": 307,
   "metadata": {},
   "outputs": [],
   "source": [
    "from data_storage import create_connection\n",
    "import pandas as pd\n",
    "import matplotlib.pyplot as plt\n",
    "import numpy as np\n",
    "from stockstats import StockDataFrame\n",
    "#from pandas_profiling import ProfileReport"
   ]
  },
  {
   "cell_type": "code",
   "execution_count": 308,
   "metadata": {},
   "outputs": [],
   "source": [
    "connection = create_connection(\"../database/crypto_billionairs.db\")"
   ]
  },
  {
   "cell_type": "code",
   "execution_count": 309,
   "metadata": {},
   "outputs": [],
   "source": [
    "df = pd.read_sql_query('select * from ETHUSDT_1h_complete_history', connection)"
   ]
  },
  {
   "cell_type": "code",
   "execution_count": 310,
   "metadata": {},
   "outputs": [
    {
     "data": {
      "text/html": [
       "<div>\n",
       "<style scoped>\n",
       "    .dataframe tbody tr th:only-of-type {\n",
       "        vertical-align: middle;\n",
       "    }\n",
       "\n",
       "    .dataframe tbody tr th {\n",
       "        vertical-align: top;\n",
       "    }\n",
       "\n",
       "    .dataframe thead th {\n",
       "        text-align: right;\n",
       "    }\n",
       "</style>\n",
       "<table border=\"1\" class=\"dataframe\">\n",
       "  <thead>\n",
       "    <tr style=\"text-align: right;\">\n",
       "      <th></th>\n",
       "      <th>open time</th>\n",
       "      <th>open</th>\n",
       "      <th>high</th>\n",
       "      <th>low</th>\n",
       "      <th>close</th>\n",
       "      <th>volume</th>\n",
       "      <th>close_time</th>\n",
       "      <th>quote_asset_volume</th>\n",
       "      <th>number_of_trades</th>\n",
       "      <th>taker_buy_base_asset_volume</th>\n",
       "      <th>taker_buy_quote_asset_volume</th>\n",
       "      <th>ignore</th>\n",
       "    </tr>\n",
       "  </thead>\n",
       "  <tbody>\n",
       "    <tr>\n",
       "      <th>0</th>\n",
       "      <td>1614556800000</td>\n",
       "      <td>1418.67</td>\n",
       "      <td>1449.99</td>\n",
       "      <td>1409.91</td>\n",
       "      <td>1440.76</td>\n",
       "      <td>48482.87160</td>\n",
       "      <td>1614560399999</td>\n",
       "      <td>6.964562e+07</td>\n",
       "      <td>45108</td>\n",
       "      <td>25561.59079</td>\n",
       "      <td>3.671704e+07</td>\n",
       "      <td>0</td>\n",
       "    </tr>\n",
       "    <tr>\n",
       "      <th>1</th>\n",
       "      <td>1614560400000</td>\n",
       "      <td>1440.77</td>\n",
       "      <td>1447.39</td>\n",
       "      <td>1426.30</td>\n",
       "      <td>1439.55</td>\n",
       "      <td>27214.40690</td>\n",
       "      <td>1614563999999</td>\n",
       "      <td>3.908917e+07</td>\n",
       "      <td>28258</td>\n",
       "      <td>14436.87128</td>\n",
       "      <td>2.073857e+07</td>\n",
       "      <td>0</td>\n",
       "    </tr>\n",
       "    <tr>\n",
       "      <th>2</th>\n",
       "      <td>1614564000000</td>\n",
       "      <td>1439.73</td>\n",
       "      <td>1456.88</td>\n",
       "      <td>1434.96</td>\n",
       "      <td>1440.05</td>\n",
       "      <td>43927.60124</td>\n",
       "      <td>1614567599999</td>\n",
       "      <td>6.347060e+07</td>\n",
       "      <td>37234</td>\n",
       "      <td>22117.08379</td>\n",
       "      <td>3.195844e+07</td>\n",
       "      <td>0</td>\n",
       "    </tr>\n",
       "    <tr>\n",
       "      <th>3</th>\n",
       "      <td>1614567600000</td>\n",
       "      <td>1440.31</td>\n",
       "      <td>1446.15</td>\n",
       "      <td>1431.27</td>\n",
       "      <td>1434.06</td>\n",
       "      <td>33488.96519</td>\n",
       "      <td>1614571199999</td>\n",
       "      <td>4.817392e+07</td>\n",
       "      <td>27998</td>\n",
       "      <td>16509.53282</td>\n",
       "      <td>2.375332e+07</td>\n",
       "      <td>0</td>\n",
       "    </tr>\n",
       "    <tr>\n",
       "      <th>4</th>\n",
       "      <td>1614571200000</td>\n",
       "      <td>1434.06</td>\n",
       "      <td>1451.92</td>\n",
       "      <td>1421.46</td>\n",
       "      <td>1441.63</td>\n",
       "      <td>33633.18294</td>\n",
       "      <td>1614574799999</td>\n",
       "      <td>4.827530e+07</td>\n",
       "      <td>31299</td>\n",
       "      <td>17087.28730</td>\n",
       "      <td>2.454022e+07</td>\n",
       "      <td>0</td>\n",
       "    </tr>\n",
       "  </tbody>\n",
       "</table>\n",
       "</div>"
      ],
      "text/plain": [
       "       open time     open     high      low    close       volume  \\\n",
       "0  1614556800000  1418.67  1449.99  1409.91  1440.76  48482.87160   \n",
       "1  1614560400000  1440.77  1447.39  1426.30  1439.55  27214.40690   \n",
       "2  1614564000000  1439.73  1456.88  1434.96  1440.05  43927.60124   \n",
       "3  1614567600000  1440.31  1446.15  1431.27  1434.06  33488.96519   \n",
       "4  1614571200000  1434.06  1451.92  1421.46  1441.63  33633.18294   \n",
       "\n",
       "      close_time  quote_asset_volume  number_of_trades  \\\n",
       "0  1614560399999        6.964562e+07             45108   \n",
       "1  1614563999999        3.908917e+07             28258   \n",
       "2  1614567599999        6.347060e+07             37234   \n",
       "3  1614571199999        4.817392e+07             27998   \n",
       "4  1614574799999        4.827530e+07             31299   \n",
       "\n",
       "   taker_buy_base_asset_volume  taker_buy_quote_asset_volume  ignore  \n",
       "0                  25561.59079                  3.671704e+07       0  \n",
       "1                  14436.87128                  2.073857e+07       0  \n",
       "2                  22117.08379                  3.195844e+07       0  \n",
       "3                  16509.53282                  2.375332e+07       0  \n",
       "4                  17087.28730                  2.454022e+07       0  "
      ]
     },
     "execution_count": 310,
     "metadata": {},
     "output_type": "execute_result"
    }
   ],
   "source": [
    "df.head()"
   ]
  },
  {
   "cell_type": "code",
   "execution_count": 311,
   "metadata": {},
   "outputs": [],
   "source": [
    "df[\"return\"] = df['close'].pct_change() + 1 "
   ]
  },
  {
   "cell_type": "code",
   "execution_count": 312,
   "metadata": {},
   "outputs": [],
   "source": [
    "#prof = ProfileReport(df)\n",
    "#prof.to_file(output_file='data_profile.html')"
   ]
  },
  {
   "cell_type": "code",
   "execution_count": 313,
   "metadata": {},
   "outputs": [
    {
     "name": "stderr",
     "output_type": "stream",
     "text": [
      "No handles with labels found to put in legend.\n"
     ]
    },
    {
     "data": {
      "image/png": "[encoded data removed]",
      "text/plain": [
       "<Figure size 432x288 with 1 Axes>"
      ]
     },
     "metadata": {
      "needs_background": "light"
     },
     "output_type": "display_data"
    }
   ],
   "source": [
    "# Plot indexed returns.\n",
    "plt.plot(np.cumprod(df[\"return\"]))\n",
    "plt.legend()\n",
    "plt.show()"
   ]
  },
  {
   "cell_type": "code",
   "execution_count": 314,
   "metadata": {},
   "outputs": [
    {
     "data": {
      "text/html": [
       "<div>\n",
       "<style scoped>\n",
       "    .dataframe tbody tr th:only-of-type {\n",
       "        vertical-align: middle;\n",
       "    }\n",
       "\n",
       "    .dataframe tbody tr th {\n",
       "        vertical-align: top;\n",
       "    }\n",
       "\n",
       "    .dataframe thead th {\n",
       "        text-align: right;\n",
       "    }\n",
       "</style>\n",
       "<table border=\"1\" class=\"dataframe\">\n",
       "  <thead>\n",
       "    <tr style=\"text-align: right;\">\n",
       "      <th></th>\n",
       "      <th>open time</th>\n",
       "      <th>open</th>\n",
       "      <th>high</th>\n",
       "      <th>low</th>\n",
       "      <th>close</th>\n",
       "      <th>volume</th>\n",
       "      <th>close_time</th>\n",
       "      <th>quote_asset_volume</th>\n",
       "      <th>number_of_trades</th>\n",
       "      <th>taker_buy_base_asset_volume</th>\n",
       "      <th>taker_buy_quote_asset_volume</th>\n",
       "      <th>ignore</th>\n",
       "      <th>return</th>\n",
       "    </tr>\n",
       "  </thead>\n",
       "  <tbody>\n",
       "    <tr>\n",
       "      <th>0</th>\n",
       "      <td>1614556800000</td>\n",
       "      <td>1418.67</td>\n",
       "      <td>1449.99</td>\n",
       "      <td>1409.91</td>\n",
       "      <td>1440.76</td>\n",
       "      <td>48482.87160</td>\n",
       "      <td>1614560399999</td>\n",
       "      <td>6.964562e+07</td>\n",
       "      <td>45108</td>\n",
       "      <td>25561.59079</td>\n",
       "      <td>3.671704e+07</td>\n",
       "      <td>0</td>\n",
       "      <td>NaN</td>\n",
       "    </tr>\n",
       "    <tr>\n",
       "      <th>1</th>\n",
       "      <td>1614560400000</td>\n",
       "      <td>1440.77</td>\n",
       "      <td>1447.39</td>\n",
       "      <td>1426.30</td>\n",
       "      <td>1439.55</td>\n",
       "      <td>27214.40690</td>\n",
       "      <td>1614563999999</td>\n",
       "      <td>3.908917e+07</td>\n",
       "      <td>28258</td>\n",
       "      <td>14436.87128</td>\n",
       "      <td>2.073857e+07</td>\n",
       "      <td>0</td>\n",
       "      <td>0.999160</td>\n",
       "    </tr>\n",
       "    <tr>\n",
       "      <th>2</th>\n",
       "      <td>1614564000000</td>\n",
       "      <td>1439.73</td>\n",
       "      <td>1456.88</td>\n",
       "      <td>1434.96</td>\n",
       "      <td>1440.05</td>\n",
       "      <td>43927.60124</td>\n",
       "      <td>1614567599999</td>\n",
       "      <td>6.347060e+07</td>\n",
       "      <td>37234</td>\n",
       "      <td>22117.08379</td>\n",
       "      <td>3.195844e+07</td>\n",
       "      <td>0</td>\n",
       "      <td>1.000347</td>\n",
       "    </tr>\n",
       "    <tr>\n",
       "      <th>3</th>\n",
       "      <td>1614567600000</td>\n",
       "      <td>1440.31</td>\n",
       "      <td>1446.15</td>\n",
       "      <td>1431.27</td>\n",
       "      <td>1434.06</td>\n",
       "      <td>33488.96519</td>\n",
       "      <td>1614571199999</td>\n",
       "      <td>4.817392e+07</td>\n",
       "      <td>27998</td>\n",
       "      <td>16509.53282</td>\n",
       "      <td>2.375332e+07</td>\n",
       "      <td>0</td>\n",
       "      <td>0.995840</td>\n",
       "    </tr>\n",
       "    <tr>\n",
       "      <th>4</th>\n",
       "      <td>1614571200000</td>\n",
       "      <td>1434.06</td>\n",
       "      <td>1451.92</td>\n",
       "      <td>1421.46</td>\n",
       "      <td>1441.63</td>\n",
       "      <td>33633.18294</td>\n",
       "      <td>1614574799999</td>\n",
       "      <td>4.827530e+07</td>\n",
       "      <td>31299</td>\n",
       "      <td>17087.28730</td>\n",
       "      <td>2.454022e+07</td>\n",
       "      <td>0</td>\n",
       "      <td>1.005279</td>\n",
       "    </tr>\n",
       "  </tbody>\n",
       "</table>\n",
       "</div>"
      ],
      "text/plain": [
       "       open time     open     high      low    close       volume  \\\n",
       "0  1614556800000  1418.67  1449.99  1409.91  1440.76  48482.87160   \n",
       "1  1614560400000  1440.77  1447.39  1426.30  1439.55  27214.40690   \n",
       "2  1614564000000  1439.73  1456.88  1434.96  1440.05  43927.60124   \n",
       "3  1614567600000  1440.31  1446.15  1431.27  1434.06  33488.96519   \n",
       "4  1614571200000  1434.06  1451.92  1421.46  1441.63  33633.18294   \n",
       "\n",
       "      close_time  quote_asset_volume  number_of_trades  \\\n",
       "0  1614560399999        6.964562e+07             45108   \n",
       "1  1614563999999        3.908917e+07             28258   \n",
       "2  1614567599999        6.347060e+07             37234   \n",
       "3  1614571199999        4.817392e+07             27998   \n",
       "4  1614574799999        4.827530e+07             31299   \n",
       "\n",
       "   taker_buy_base_asset_volume  taker_buy_quote_asset_volume  ignore    return  \n",
       "0                  25561.59079                  3.671704e+07       0       NaN  \n",
       "1                  14436.87128                  2.073857e+07       0  0.999160  \n",
       "2                  22117.08379                  3.195844e+07       0  1.000347  \n",
       "3                  16509.53282                  2.375332e+07       0  0.995840  \n",
       "4                  17087.28730                  2.454022e+07       0  1.005279  "
      ]
     },
     "execution_count": 314,
     "metadata": {},
     "output_type": "execute_result"
    }
   ],
   "source": [
    "df.head()"
   ]
  },
  {
   "cell_type": "code",
   "execution_count": 315,
   "metadata": {},
   "outputs": [],
   "source": [
    "df_ti = pd.DataFrame()\n",
    "df_ti[\"open_time\"] = df[\"open time\"]\n",
    "df_ti[\"open\"] = df[\"open\"]\n",
    "df_ti[\"close\"] = df[\"close\"]\n",
    "df_ti[\"high\"] = df[\"high\"]\n",
    "df_ti[\"low\"] = df[\"low\"]\n",
    "df_ti[\"volume\"] = df[\"volume\"]\n",
    "df_ti[\"amount\"] = df[\"quote_asset_volume\"]"
   ]
  },
  {
   "cell_type": "code",
   "execution_count": 316,
   "metadata": {},
   "outputs": [],
   "source": [
    "stock = StockDataFrame.retype(df_ti)"
   ]
  },
  {
   "cell_type": "code",
   "execution_count": 317,
   "metadata": {},
   "outputs": [],
   "source": [
    "df[\"stochastic_oscillator\"] = stock.get(\"kdjk\")\n",
    "df[\"relative_strength_index\"] = stock.get(\"rsi_30\")"
   ]
  },
  {
   "cell_type": "markdown",
   "metadata": {},
   "source": [
    "### Different momentum analysis"
   ]
  },
  {
   "cell_type": "code",
   "execution_count": 318,
   "metadata": {},
   "outputs": [],
   "source": [
    "def momentum(df, lag):\n",
    "    return df.pct_change(periods=lag)"
   ]
  },
  {
   "cell_type": "code",
   "execution_count": 319,
   "metadata": {},
   "outputs": [],
   "source": [
    "# 1 Hour Momentum\n",
    "df[\"momentum1\"] = momentum(df[\"close\"], 12)\n",
    "# 2 Hour Momentum\n",
    "df[\"momentum2\"] = momentum(df[\"close\"], 24)\n",
    "# 4 Hour Momentum\n",
    "df[\"momentum4\"] = momentum(df[\"close\"], 48)\n",
    "# 8 Hour Momentum\n",
    "df[\"momentum8\"] = momentum(df[\"close\"], 96)\n",
    "# 12 Hour Momentum\n",
    "df[\"momentum12\"] = momentum(df[\"close\"], 144)\n",
    "# 1 Day Momentum\n",
    "df[\"momentum24\"] = momentum(df[\"close\"], 288)\n",
    "# 2 Day Momentum\n",
    "df[\"momentum48\"] = momentum(df[\"close\"], 576)\n",
    "# 4 Day Momentum\n",
    "df[\"momentum96\"] = momentum(df[\"close\"], 1152)\n",
    "# 1 Week Momentum\n",
    "df[\"momentum168\"] = momentum(df[\"close\"], 2016)"
   ]
  },
  {
   "cell_type": "code",
   "execution_count": 320,
   "metadata": {},
   "outputs": [
    {
     "data": {
      "image/png": "[encoded data removed]",
      "text/plain": [
       "<Figure size 432x288 with 1 Axes>"
      ]
     },
     "metadata": {
      "needs_background": "light"
     },
     "output_type": "display_data"
    }
   ],
   "source": [
    "plt.plot(df[\"momentum1\"])\n",
    "plt.show()"
   ]
  },
  {
   "cell_type": "code",
   "execution_count": 321,
   "metadata": {},
   "outputs": [
    {
     "data": {
      "image/png": "[encoded data removed]",
      "text/plain": [
       "<Figure size 432x288 with 1 Axes>"
      ]
     },
     "metadata": {
      "needs_background": "light"
     },
     "output_type": "display_data"
    }
   ],
   "source": [
    "plt.plot(df[\"momentum2\"])\n",
    "plt.show()"
   ]
  },
  {
   "cell_type": "code",
   "execution_count": 322,
   "metadata": {},
   "outputs": [
    {
     "data": {
      "image/png": "[encoded data removed]",
      "text/plain": [
       "<Figure size 432x288 with 1 Axes>"
      ]
     },
     "metadata": {
      "needs_background": "light"
     },
     "output_type": "display_data"
    }
   ],
   "source": [
    "plt.plot(df[\"momentum4\"])\n",
    "plt.show()"
   ]
  },
  {
   "cell_type": "code",
   "execution_count": 323,
   "metadata": {},
   "outputs": [
    {
     "data": {
      "image/png": "[encoded data removed]",
      "text/plain": [
       "<Figure size 432x288 with 1 Axes>"
      ]
     },
     "metadata": {
      "needs_background": "light"
     },
     "output_type": "display_data"
    }
   ],
   "source": [
    "plt.plot(df[\"momentum8\"])\n",
    "plt.show()"
   ]
  },
  {
   "cell_type": "code",
   "execution_count": 324,
   "metadata": {},
   "outputs": [
    {
     "data": {
      "image/png": "[encoded data removed]",
      "text/plain": [
       "<Figure size 432x288 with 1 Axes>"
      ]
     },
     "metadata": {
      "needs_background": "light"
     },
     "output_type": "display_data"
    }
   ],
   "source": [
    "plt.plot(df[\"momentum12\"])\n",
    "plt.show()"
   ]
  },
  {
   "cell_type": "code",
   "execution_count": 325,
   "metadata": {},
   "outputs": [
    {
     "data": {
      "image/png": "[encoded data removed]",
      "text/plain": [
       "<Figure size 432x288 with 1 Axes>"
      ]
     },
     "metadata": {
      "needs_background": "light"
     },
     "output_type": "display_data"
    }
   ],
   "source": [
    "plt.plot(df[\"momentum24\"])\n",
    "plt.show()"
   ]
  },
  {
   "cell_type": "code",
   "execution_count": 326,
   "metadata": {},
   "outputs": [
    {
     "data": {
      "image/png": "[encoded data removed]",
      "text/plain": [
       "<Figure size 432x288 with 1 Axes>"
      ]
     },
     "metadata": {
      "needs_background": "light"
     },
     "output_type": "display_data"
    }
   ],
   "source": [
    "plt.plot(df[\"momentum48\"])\n",
    "plt.show()"
   ]
  },
  {
   "cell_type": "code",
   "execution_count": 327,
   "metadata": {},
   "outputs": [
    {
     "data": {
      "image/png": "[encoded data removed]",
      "text/plain": [
       "<Figure size 432x288 with 1 Axes>"
      ]
     },
     "metadata": {
      "needs_background": "light"
     },
     "output_type": "display_data"
    }
   ],
   "source": [
    "plt.plot(df[\"momentum96\"])\n",
    "plt.show()"
   ]
  },
  {
   "cell_type": "code",
   "execution_count": 328,
   "metadata": {},
   "outputs": [
    {
     "data": {
      "image/png": "[encoded data removed]",
      "text/plain": [
       "<Figure size 432x288 with 1 Axes>"
      ]
     },
     "metadata": {
      "needs_background": "light"
     },
     "output_type": "display_data"
    }
   ],
   "source": [
    "plt.plot(df[\"momentum168\"])\n",
    "plt.show()"
   ]
  },
  {
   "cell_type": "markdown",
   "metadata": {},
   "source": [
    "### Stochastic Oscialltor and Relative Strength Index as baseline"
   ]
  },
  {
   "cell_type": "markdown",
   "metadata": {},
   "source": [
    "#### Generating Buying Signals"
   ]
  },
  {
   "cell_type": "code",
   "execution_count": 329,
   "metadata": {},
   "outputs": [],
   "source": [
    "df[\"so_group\"] = df[\"stochastic_oscillator\"].astype(str).str[0]\n",
    "df[\"rsi_group\"] = df[\"relative_strength_index\"].astype(str).str[0]"
   ]
  },
  {
   "cell_type": "code",
   "execution_count": 330,
   "metadata": {},
   "outputs": [
    {
     "data": {
      "text/html": [
       "<div>\n",
       "<style scoped>\n",
       "    .dataframe tbody tr th:only-of-type {\n",
       "        vertical-align: middle;\n",
       "    }\n",
       "\n",
       "    .dataframe tbody tr th {\n",
       "        vertical-align: top;\n",
       "    }\n",
       "\n",
       "    .dataframe thead th {\n",
       "        text-align: right;\n",
       "    }\n",
       "</style>\n",
       "<table border=\"1\" class=\"dataframe\">\n",
       "  <thead>\n",
       "    <tr style=\"text-align: right;\">\n",
       "      <th>rsi_group</th>\n",
       "      <th>0</th>\n",
       "      <th>2</th>\n",
       "      <th>3</th>\n",
       "      <th>4</th>\n",
       "      <th>5</th>\n",
       "      <th>6</th>\n",
       "      <th>7</th>\n",
       "      <th>8</th>\n",
       "      <th>n</th>\n",
       "    </tr>\n",
       "    <tr>\n",
       "      <th>so_group</th>\n",
       "      <th></th>\n",
       "      <th></th>\n",
       "      <th></th>\n",
       "      <th></th>\n",
       "      <th></th>\n",
       "      <th></th>\n",
       "      <th></th>\n",
       "      <th></th>\n",
       "      <th></th>\n",
       "    </tr>\n",
       "  </thead>\n",
       "  <tbody>\n",
       "    <tr>\n",
       "      <th>1</th>\n",
       "      <td>0</td>\n",
       "      <td>11</td>\n",
       "      <td>206</td>\n",
       "      <td>218</td>\n",
       "      <td>19</td>\n",
       "      <td>0</td>\n",
       "      <td>0</td>\n",
       "      <td>0</td>\n",
       "      <td>0</td>\n",
       "    </tr>\n",
       "    <tr>\n",
       "      <th>2</th>\n",
       "      <td>0</td>\n",
       "      <td>22</td>\n",
       "      <td>292</td>\n",
       "      <td>613</td>\n",
       "      <td>184</td>\n",
       "      <td>7</td>\n",
       "      <td>0</td>\n",
       "      <td>0</td>\n",
       "      <td>0</td>\n",
       "    </tr>\n",
       "    <tr>\n",
       "      <th>3</th>\n",
       "      <td>0</td>\n",
       "      <td>11</td>\n",
       "      <td>160</td>\n",
       "      <td>603</td>\n",
       "      <td>445</td>\n",
       "      <td>27</td>\n",
       "      <td>0</td>\n",
       "      <td>0</td>\n",
       "      <td>0</td>\n",
       "    </tr>\n",
       "    <tr>\n",
       "      <th>4</th>\n",
       "      <td>0</td>\n",
       "      <td>8</td>\n",
       "      <td>108</td>\n",
       "      <td>523</td>\n",
       "      <td>614</td>\n",
       "      <td>81</td>\n",
       "      <td>1</td>\n",
       "      <td>0</td>\n",
       "      <td>0</td>\n",
       "    </tr>\n",
       "    <tr>\n",
       "      <th>5</th>\n",
       "      <td>0</td>\n",
       "      <td>3</td>\n",
       "      <td>79</td>\n",
       "      <td>411</td>\n",
       "      <td>618</td>\n",
       "      <td>165</td>\n",
       "      <td>2</td>\n",
       "      <td>0</td>\n",
       "      <td>1</td>\n",
       "    </tr>\n",
       "    <tr>\n",
       "      <th>6</th>\n",
       "      <td>1</td>\n",
       "      <td>1</td>\n",
       "      <td>45</td>\n",
       "      <td>402</td>\n",
       "      <td>632</td>\n",
       "      <td>238</td>\n",
       "      <td>6</td>\n",
       "      <td>0</td>\n",
       "      <td>0</td>\n",
       "    </tr>\n",
       "    <tr>\n",
       "      <th>7</th>\n",
       "      <td>0</td>\n",
       "      <td>0</td>\n",
       "      <td>19</td>\n",
       "      <td>325</td>\n",
       "      <td>733</td>\n",
       "      <td>349</td>\n",
       "      <td>17</td>\n",
       "      <td>2</td>\n",
       "      <td>0</td>\n",
       "    </tr>\n",
       "    <tr>\n",
       "      <th>8</th>\n",
       "      <td>0</td>\n",
       "      <td>0</td>\n",
       "      <td>10</td>\n",
       "      <td>122</td>\n",
       "      <td>487</td>\n",
       "      <td>474</td>\n",
       "      <td>52</td>\n",
       "      <td>3</td>\n",
       "      <td>0</td>\n",
       "    </tr>\n",
       "    <tr>\n",
       "      <th>9</th>\n",
       "      <td>0</td>\n",
       "      <td>0</td>\n",
       "      <td>8</td>\n",
       "      <td>5</td>\n",
       "      <td>35</td>\n",
       "      <td>76</td>\n",
       "      <td>17</td>\n",
       "      <td>1</td>\n",
       "      <td>0</td>\n",
       "    </tr>\n",
       "  </tbody>\n",
       "</table>\n",
       "</div>"
      ],
      "text/plain": [
       "rsi_group  0   2    3    4    5    6   7  8  n\n",
       "so_group                                      \n",
       "1          0  11  206  218   19    0   0  0  0\n",
       "2          0  22  292  613  184    7   0  0  0\n",
       "3          0  11  160  603  445   27   0  0  0\n",
       "4          0   8  108  523  614   81   1  0  0\n",
       "5          0   3   79  411  618  165   2  0  1\n",
       "6          1   1   45  402  632  238   6  0  0\n",
       "7          0   0   19  325  733  349  17  2  0\n",
       "8          0   0   10  122  487  474  52  3  0\n",
       "9          0   0    8    5   35   76  17  1  0"
      ]
     },
     "execution_count": 330,
     "metadata": {},
     "output_type": "execute_result"
    }
   ],
   "source": [
    "pd.crosstab(df[\"so_group\"], df[\"rsi_group\"])"
   ]
  },
  {
   "cell_type": "code",
   "execution_count": 331,
   "metadata": {},
   "outputs": [],
   "source": [
    "df[\"technical_indicators\"] = df[\"so_group\"] + \"/\" + df[\"rsi_group\"]"
   ]
  },
  {
   "cell_type": "code",
   "execution_count": 332,
   "metadata": {},
   "outputs": [
    {
     "data": {
      "text/html": [
       "<div>\n",
       "<style scoped>\n",
       "    .dataframe tbody tr th:only-of-type {\n",
       "        vertical-align: middle;\n",
       "    }\n",
       "\n",
       "    .dataframe tbody tr th {\n",
       "        vertical-align: top;\n",
       "    }\n",
       "\n",
       "    .dataframe thead th {\n",
       "        text-align: right;\n",
       "    }\n",
       "</style>\n",
       "<table border=\"1\" class=\"dataframe\">\n",
       "  <thead>\n",
       "    <tr style=\"text-align: right;\">\n",
       "      <th></th>\n",
       "      <th>momentum8</th>\n",
       "    </tr>\n",
       "    <tr>\n",
       "      <th>technical_indicators</th>\n",
       "      <th></th>\n",
       "    </tr>\n",
       "  </thead>\n",
       "  <tbody>\n",
       "    <tr>\n",
       "      <th>1/2</th>\n",
       "      <td>NaN</td>\n",
       "    </tr>\n",
       "    <tr>\n",
       "      <th>1/3</th>\n",
       "      <td>NaN</td>\n",
       "    </tr>\n",
       "    <tr>\n",
       "      <th>1/4</th>\n",
       "      <td>NaN</td>\n",
       "    </tr>\n",
       "    <tr>\n",
       "      <th>1/5</th>\n",
       "      <td>NaN</td>\n",
       "    </tr>\n",
       "    <tr>\n",
       "      <th>2/2</th>\n",
       "      <td>NaN</td>\n",
       "    </tr>\n",
       "    <tr>\n",
       "      <th>2/3</th>\n",
       "      <td>NaN</td>\n",
       "    </tr>\n",
       "    <tr>\n",
       "      <th>2/4</th>\n",
       "      <td>NaN</td>\n",
       "    </tr>\n",
       "    <tr>\n",
       "      <th>2/5</th>\n",
       "      <td>NaN</td>\n",
       "    </tr>\n",
       "    <tr>\n",
       "      <th>2/6</th>\n",
       "      <td>0.035329</td>\n",
       "    </tr>\n",
       "    <tr>\n",
       "      <th>3/2</th>\n",
       "      <td>NaN</td>\n",
       "    </tr>\n",
       "    <tr>\n",
       "      <th>3/3</th>\n",
       "      <td>NaN</td>\n",
       "    </tr>\n",
       "    <tr>\n",
       "      <th>3/4</th>\n",
       "      <td>NaN</td>\n",
       "    </tr>\n",
       "    <tr>\n",
       "      <th>3/5</th>\n",
       "      <td>NaN</td>\n",
       "    </tr>\n",
       "    <tr>\n",
       "      <th>3/6</th>\n",
       "      <td>0.027657</td>\n",
       "    </tr>\n",
       "    <tr>\n",
       "      <th>4/2</th>\n",
       "      <td>0.065541</td>\n",
       "    </tr>\n",
       "    <tr>\n",
       "      <th>4/3</th>\n",
       "      <td>NaN</td>\n",
       "    </tr>\n",
       "    <tr>\n",
       "      <th>4/4</th>\n",
       "      <td>NaN</td>\n",
       "    </tr>\n",
       "    <tr>\n",
       "      <th>4/5</th>\n",
       "      <td>NaN</td>\n",
       "    </tr>\n",
       "    <tr>\n",
       "      <th>4/6</th>\n",
       "      <td>0.030682</td>\n",
       "    </tr>\n",
       "    <tr>\n",
       "      <th>4/7</th>\n",
       "      <td>NaN</td>\n",
       "    </tr>\n",
       "    <tr>\n",
       "      <th>5/2</th>\n",
       "      <td>0.097354</td>\n",
       "    </tr>\n",
       "    <tr>\n",
       "      <th>5/3</th>\n",
       "      <td>NaN</td>\n",
       "    </tr>\n",
       "    <tr>\n",
       "      <th>5/4</th>\n",
       "      <td>NaN</td>\n",
       "    </tr>\n",
       "    <tr>\n",
       "      <th>5/5</th>\n",
       "      <td>NaN</td>\n",
       "    </tr>\n",
       "    <tr>\n",
       "      <th>5/6</th>\n",
       "      <td>NaN</td>\n",
       "    </tr>\n",
       "    <tr>\n",
       "      <th>5/7</th>\n",
       "      <td>NaN</td>\n",
       "    </tr>\n",
       "    <tr>\n",
       "      <th>5/n</th>\n",
       "      <td>0.026500</td>\n",
       "    </tr>\n",
       "    <tr>\n",
       "      <th>6/0</th>\n",
       "      <td>NaN</td>\n",
       "    </tr>\n",
       "    <tr>\n",
       "      <th>6/2</th>\n",
       "      <td>0.028416</td>\n",
       "    </tr>\n",
       "    <tr>\n",
       "      <th>6/3</th>\n",
       "      <td>NaN</td>\n",
       "    </tr>\n",
       "    <tr>\n",
       "      <th>6/4</th>\n",
       "      <td>NaN</td>\n",
       "    </tr>\n",
       "    <tr>\n",
       "      <th>6/5</th>\n",
       "      <td>NaN</td>\n",
       "    </tr>\n",
       "    <tr>\n",
       "      <th>6/6</th>\n",
       "      <td>NaN</td>\n",
       "    </tr>\n",
       "    <tr>\n",
       "      <th>6/7</th>\n",
       "      <td>NaN</td>\n",
       "    </tr>\n",
       "    <tr>\n",
       "      <th>7/3</th>\n",
       "      <td>NaN</td>\n",
       "    </tr>\n",
       "    <tr>\n",
       "      <th>7/4</th>\n",
       "      <td>NaN</td>\n",
       "    </tr>\n",
       "    <tr>\n",
       "      <th>7/5</th>\n",
       "      <td>NaN</td>\n",
       "    </tr>\n",
       "    <tr>\n",
       "      <th>7/6</th>\n",
       "      <td>0.022439</td>\n",
       "    </tr>\n",
       "    <tr>\n",
       "      <th>7/7</th>\n",
       "      <td>0.031435</td>\n",
       "    </tr>\n",
       "    <tr>\n",
       "      <th>7/8</th>\n",
       "      <td>NaN</td>\n",
       "    </tr>\n",
       "    <tr>\n",
       "      <th>8/3</th>\n",
       "      <td>0.037810</td>\n",
       "    </tr>\n",
       "    <tr>\n",
       "      <th>8/4</th>\n",
       "      <td>NaN</td>\n",
       "    </tr>\n",
       "    <tr>\n",
       "      <th>8/5</th>\n",
       "      <td>NaN</td>\n",
       "    </tr>\n",
       "    <tr>\n",
       "      <th>8/6</th>\n",
       "      <td>NaN</td>\n",
       "    </tr>\n",
       "    <tr>\n",
       "      <th>8/7</th>\n",
       "      <td>NaN</td>\n",
       "    </tr>\n",
       "    <tr>\n",
       "      <th>8/8</th>\n",
       "      <td>NaN</td>\n",
       "    </tr>\n",
       "    <tr>\n",
       "      <th>9/3</th>\n",
       "      <td>0.037927</td>\n",
       "    </tr>\n",
       "    <tr>\n",
       "      <th>9/4</th>\n",
       "      <td>0.080226</td>\n",
       "    </tr>\n",
       "    <tr>\n",
       "      <th>9/5</th>\n",
       "      <td>NaN</td>\n",
       "    </tr>\n",
       "    <tr>\n",
       "      <th>9/6</th>\n",
       "      <td>0.029029</td>\n",
       "    </tr>\n",
       "    <tr>\n",
       "      <th>9/7</th>\n",
       "      <td>0.044227</td>\n",
       "    </tr>\n",
       "    <tr>\n",
       "      <th>9/8</th>\n",
       "      <td>NaN</td>\n",
       "    </tr>\n",
       "  </tbody>\n",
       "</table>\n",
       "</div>"
      ],
      "text/plain": [
       "                      momentum8\n",
       "technical_indicators           \n",
       "1/2                         NaN\n",
       "1/3                         NaN\n",
       "1/4                         NaN\n",
       "1/5                         NaN\n",
       "2/2                         NaN\n",
       "2/3                         NaN\n",
       "2/4                         NaN\n",
       "2/5                         NaN\n",
       "2/6                    0.035329\n",
       "3/2                         NaN\n",
       "3/3                         NaN\n",
       "3/4                         NaN\n",
       "3/5                         NaN\n",
       "3/6                    0.027657\n",
       "4/2                    0.065541\n",
       "4/3                         NaN\n",
       "4/4                         NaN\n",
       "4/5                         NaN\n",
       "4/6                    0.030682\n",
       "4/7                         NaN\n",
       "5/2                    0.097354\n",
       "5/3                         NaN\n",
       "5/4                         NaN\n",
       "5/5                         NaN\n",
       "5/6                         NaN\n",
       "5/7                         NaN\n",
       "5/n                    0.026500\n",
       "6/0                         NaN\n",
       "6/2                    0.028416\n",
       "6/3                         NaN\n",
       "6/4                         NaN\n",
       "6/5                         NaN\n",
       "6/6                         NaN\n",
       "6/7                         NaN\n",
       "7/3                         NaN\n",
       "7/4                         NaN\n",
       "7/5                         NaN\n",
       "7/6                    0.022439\n",
       "7/7                    0.031435\n",
       "7/8                         NaN\n",
       "8/3                    0.037810\n",
       "8/4                         NaN\n",
       "8/5                         NaN\n",
       "8/6                         NaN\n",
       "8/7                         NaN\n",
       "8/8                         NaN\n",
       "9/3                    0.037927\n",
       "9/4                    0.080226\n",
       "9/5                         NaN\n",
       "9/6                    0.029029\n",
       "9/7                    0.044227\n",
       "9/8                         NaN"
      ]
     },
     "metadata": {},
     "output_type": "display_data"
    }
   ],
   "source": [
    "df_momentum8 = pd.DataFrame()\n",
    "df_momentum8[\"technical_indicators\"] = df[\"technical_indicators\"].shift(96)\n",
    "df_momentum8[\"momentum8\"] = df[\"momentum8\"]\n",
    "with pd.option_context('display.max_rows', None, 'display.max_columns', None):  # more options can be specified also\n",
    "    display(df_momentum8.groupby(\"technical_indicators\").mean().where(df_momentum8.groupby(\"technical_indicators\").mean() >= 0.02))"
   ]
  },
  {
   "cell_type": "code",
   "execution_count": 333,
   "metadata": {},
   "outputs": [
    {
     "data": {
      "text/html": [
       "<div>\n",
       "<style scoped>\n",
       "    .dataframe tbody tr th:only-of-type {\n",
       "        vertical-align: middle;\n",
       "    }\n",
       "\n",
       "    .dataframe tbody tr th {\n",
       "        vertical-align: top;\n",
       "    }\n",
       "\n",
       "    .dataframe thead th {\n",
       "        text-align: right;\n",
       "    }\n",
       "</style>\n",
       "<table border=\"1\" class=\"dataframe\">\n",
       "  <thead>\n",
       "    <tr style=\"text-align: right;\">\n",
       "      <th></th>\n",
       "      <th>momentum8</th>\n",
       "    </tr>\n",
       "    <tr>\n",
       "      <th>technical_indicators</th>\n",
       "      <th></th>\n",
       "    </tr>\n",
       "  </thead>\n",
       "  <tbody>\n",
       "    <tr>\n",
       "      <th>1/2</th>\n",
       "      <td>NaN</td>\n",
       "    </tr>\n",
       "    <tr>\n",
       "      <th>1/3</th>\n",
       "      <td>NaN</td>\n",
       "    </tr>\n",
       "    <tr>\n",
       "      <th>1/4</th>\n",
       "      <td>NaN</td>\n",
       "    </tr>\n",
       "    <tr>\n",
       "      <th>1/5</th>\n",
       "      <td>NaN</td>\n",
       "    </tr>\n",
       "    <tr>\n",
       "      <th>2/2</th>\n",
       "      <td>NaN</td>\n",
       "    </tr>\n",
       "    <tr>\n",
       "      <th>2/3</th>\n",
       "      <td>NaN</td>\n",
       "    </tr>\n",
       "    <tr>\n",
       "      <th>2/4</th>\n",
       "      <td>NaN</td>\n",
       "    </tr>\n",
       "    <tr>\n",
       "      <th>2/5</th>\n",
       "      <td>NaN</td>\n",
       "    </tr>\n",
       "    <tr>\n",
       "      <th>2/6</th>\n",
       "      <td>0.035329</td>\n",
       "    </tr>\n",
       "    <tr>\n",
       "      <th>3/2</th>\n",
       "      <td>NaN</td>\n",
       "    </tr>\n",
       "    <tr>\n",
       "      <th>3/3</th>\n",
       "      <td>NaN</td>\n",
       "    </tr>\n",
       "    <tr>\n",
       "      <th>3/4</th>\n",
       "      <td>NaN</td>\n",
       "    </tr>\n",
       "    <tr>\n",
       "      <th>3/5</th>\n",
       "      <td>NaN</td>\n",
       "    </tr>\n",
       "    <tr>\n",
       "      <th>3/6</th>\n",
       "      <td>0.027657</td>\n",
       "    </tr>\n",
       "    <tr>\n",
       "      <th>4/2</th>\n",
       "      <td>0.065541</td>\n",
       "    </tr>\n",
       "    <tr>\n",
       "      <th>4/3</th>\n",
       "      <td>NaN</td>\n",
       "    </tr>\n",
       "    <tr>\n",
       "      <th>4/4</th>\n",
       "      <td>NaN</td>\n",
       "    </tr>\n",
       "    <tr>\n",
       "      <th>4/5</th>\n",
       "      <td>NaN</td>\n",
       "    </tr>\n",
       "    <tr>\n",
       "      <th>4/6</th>\n",
       "      <td>0.030682</td>\n",
       "    </tr>\n",
       "    <tr>\n",
       "      <th>4/7</th>\n",
       "      <td>NaN</td>\n",
       "    </tr>\n",
       "    <tr>\n",
       "      <th>5/2</th>\n",
       "      <td>0.097354</td>\n",
       "    </tr>\n",
       "    <tr>\n",
       "      <th>5/3</th>\n",
       "      <td>NaN</td>\n",
       "    </tr>\n",
       "    <tr>\n",
       "      <th>5/4</th>\n",
       "      <td>NaN</td>\n",
       "    </tr>\n",
       "    <tr>\n",
       "      <th>5/5</th>\n",
       "      <td>NaN</td>\n",
       "    </tr>\n",
       "    <tr>\n",
       "      <th>5/6</th>\n",
       "      <td>NaN</td>\n",
       "    </tr>\n",
       "    <tr>\n",
       "      <th>5/7</th>\n",
       "      <td>NaN</td>\n",
       "    </tr>\n",
       "    <tr>\n",
       "      <th>5/n</th>\n",
       "      <td>0.026500</td>\n",
       "    </tr>\n",
       "    <tr>\n",
       "      <th>6/0</th>\n",
       "      <td>NaN</td>\n",
       "    </tr>\n",
       "    <tr>\n",
       "      <th>6/2</th>\n",
       "      <td>0.028416</td>\n",
       "    </tr>\n",
       "    <tr>\n",
       "      <th>6/3</th>\n",
       "      <td>NaN</td>\n",
       "    </tr>\n",
       "    <tr>\n",
       "      <th>6/4</th>\n",
       "      <td>NaN</td>\n",
       "    </tr>\n",
       "    <tr>\n",
       "      <th>6/5</th>\n",
       "      <td>NaN</td>\n",
       "    </tr>\n",
       "    <tr>\n",
       "      <th>6/6</th>\n",
       "      <td>NaN</td>\n",
       "    </tr>\n",
       "    <tr>\n",
       "      <th>6/7</th>\n",
       "      <td>NaN</td>\n",
       "    </tr>\n",
       "    <tr>\n",
       "      <th>7/3</th>\n",
       "      <td>NaN</td>\n",
       "    </tr>\n",
       "    <tr>\n",
       "      <th>7/4</th>\n",
       "      <td>NaN</td>\n",
       "    </tr>\n",
       "    <tr>\n",
       "      <th>7/5</th>\n",
       "      <td>NaN</td>\n",
       "    </tr>\n",
       "    <tr>\n",
       "      <th>7/6</th>\n",
       "      <td>0.022439</td>\n",
       "    </tr>\n",
       "    <tr>\n",
       "      <th>7/7</th>\n",
       "      <td>0.031435</td>\n",
       "    </tr>\n",
       "    <tr>\n",
       "      <th>7/8</th>\n",
       "      <td>NaN</td>\n",
       "    </tr>\n",
       "    <tr>\n",
       "      <th>8/3</th>\n",
       "      <td>0.037810</td>\n",
       "    </tr>\n",
       "    <tr>\n",
       "      <th>8/4</th>\n",
       "      <td>NaN</td>\n",
       "    </tr>\n",
       "    <tr>\n",
       "      <th>8/5</th>\n",
       "      <td>NaN</td>\n",
       "    </tr>\n",
       "    <tr>\n",
       "      <th>8/6</th>\n",
       "      <td>NaN</td>\n",
       "    </tr>\n",
       "    <tr>\n",
       "      <th>8/7</th>\n",
       "      <td>NaN</td>\n",
       "    </tr>\n",
       "    <tr>\n",
       "      <th>8/8</th>\n",
       "      <td>NaN</td>\n",
       "    </tr>\n",
       "    <tr>\n",
       "      <th>9/3</th>\n",
       "      <td>0.037927</td>\n",
       "    </tr>\n",
       "    <tr>\n",
       "      <th>9/4</th>\n",
       "      <td>0.080226</td>\n",
       "    </tr>\n",
       "    <tr>\n",
       "      <th>9/5</th>\n",
       "      <td>NaN</td>\n",
       "    </tr>\n",
       "    <tr>\n",
       "      <th>9/6</th>\n",
       "      <td>0.029029</td>\n",
       "    </tr>\n",
       "    <tr>\n",
       "      <th>9/7</th>\n",
       "      <td>0.044227</td>\n",
       "    </tr>\n",
       "    <tr>\n",
       "      <th>9/8</th>\n",
       "      <td>NaN</td>\n",
       "    </tr>\n",
       "  </tbody>\n",
       "</table>\n",
       "</div>"
      ],
      "text/plain": [
       "                      momentum8\n",
       "technical_indicators           \n",
       "1/2                         NaN\n",
       "1/3                         NaN\n",
       "1/4                         NaN\n",
       "1/5                         NaN\n",
       "2/2                         NaN\n",
       "2/3                         NaN\n",
       "2/4                         NaN\n",
       "2/5                         NaN\n",
       "2/6                    0.035329\n",
       "3/2                         NaN\n",
       "3/3                         NaN\n",
       "3/4                         NaN\n",
       "3/5                         NaN\n",
       "3/6                    0.027657\n",
       "4/2                    0.065541\n",
       "4/3                         NaN\n",
       "4/4                         NaN\n",
       "4/5                         NaN\n",
       "4/6                    0.030682\n",
       "4/7                         NaN\n",
       "5/2                    0.097354\n",
       "5/3                         NaN\n",
       "5/4                         NaN\n",
       "5/5                         NaN\n",
       "5/6                         NaN\n",
       "5/7                         NaN\n",
       "5/n                    0.026500\n",
       "6/0                         NaN\n",
       "6/2                    0.028416\n",
       "6/3                         NaN\n",
       "6/4                         NaN\n",
       "6/5                         NaN\n",
       "6/6                         NaN\n",
       "6/7                         NaN\n",
       "7/3                         NaN\n",
       "7/4                         NaN\n",
       "7/5                         NaN\n",
       "7/6                    0.022439\n",
       "7/7                    0.031435\n",
       "7/8                         NaN\n",
       "8/3                    0.037810\n",
       "8/4                         NaN\n",
       "8/5                         NaN\n",
       "8/6                         NaN\n",
       "8/7                         NaN\n",
       "8/8                         NaN\n",
       "9/3                    0.037927\n",
       "9/4                    0.080226\n",
       "9/5                         NaN\n",
       "9/6                    0.029029\n",
       "9/7                    0.044227\n",
       "9/8                         NaN"
      ]
     },
     "metadata": {},
     "output_type": "display_data"
    }
   ],
   "source": [
    "df_momentum8 = pd.DataFrame()\n",
    "df_momentum8[\"technical_indicators\"] = df[\"technical_indicators\"].shift(96)\n",
    "df_momentum8[\"momentum8\"] = df[\"momentum8\"]\n",
    "with pd.option_context('display.max_rows', None, 'display.max_columns', None):  # more options can be specified also\n",
    "    display(df_momentum8.groupby(\"technical_indicators\").mean().where(df_momentum8.groupby(\"technical_indicators\").mean() >= 0.02))"
   ]
  },
  {
   "cell_type": "code",
   "execution_count": 334,
   "metadata": {},
   "outputs": [
    {
     "data": {
      "text/html": [
       "<div>\n",
       "<style scoped>\n",
       "    .dataframe tbody tr th:only-of-type {\n",
       "        vertical-align: middle;\n",
       "    }\n",
       "\n",
       "    .dataframe tbody tr th {\n",
       "        vertical-align: top;\n",
       "    }\n",
       "\n",
       "    .dataframe thead th {\n",
       "        text-align: right;\n",
       "    }\n",
       "</style>\n",
       "<table border=\"1\" class=\"dataframe\">\n",
       "  <thead>\n",
       "    <tr style=\"text-align: right;\">\n",
       "      <th></th>\n",
       "      <th>momentum168</th>\n",
       "    </tr>\n",
       "    <tr>\n",
       "      <th>technical_indicators</th>\n",
       "      <th></th>\n",
       "    </tr>\n",
       "  </thead>\n",
       "  <tbody>\n",
       "    <tr>\n",
       "      <th>1/2</th>\n",
       "      <td>0.139167</td>\n",
       "    </tr>\n",
       "    <tr>\n",
       "      <th>1/3</th>\n",
       "      <td>0.318241</td>\n",
       "    </tr>\n",
       "    <tr>\n",
       "      <th>1/4</th>\n",
       "      <td>0.248348</td>\n",
       "    </tr>\n",
       "    <tr>\n",
       "      <th>1/5</th>\n",
       "      <td>NaN</td>\n",
       "    </tr>\n",
       "    <tr>\n",
       "      <th>2/2</th>\n",
       "      <td>NaN</td>\n",
       "    </tr>\n",
       "    <tr>\n",
       "      <th>2/3</th>\n",
       "      <td>0.285179</td>\n",
       "    </tr>\n",
       "    <tr>\n",
       "      <th>2/4</th>\n",
       "      <td>0.218542</td>\n",
       "    </tr>\n",
       "    <tr>\n",
       "      <th>2/5</th>\n",
       "      <td>0.116262</td>\n",
       "    </tr>\n",
       "    <tr>\n",
       "      <th>2/6</th>\n",
       "      <td>0.181300</td>\n",
       "    </tr>\n",
       "    <tr>\n",
       "      <th>3/2</th>\n",
       "      <td>NaN</td>\n",
       "    </tr>\n",
       "    <tr>\n",
       "      <th>3/3</th>\n",
       "      <td>0.255861</td>\n",
       "    </tr>\n",
       "    <tr>\n",
       "      <th>3/4</th>\n",
       "      <td>0.158502</td>\n",
       "    </tr>\n",
       "    <tr>\n",
       "      <th>3/5</th>\n",
       "      <td>NaN</td>\n",
       "    </tr>\n",
       "    <tr>\n",
       "      <th>3/6</th>\n",
       "      <td>0.216455</td>\n",
       "    </tr>\n",
       "    <tr>\n",
       "      <th>4/2</th>\n",
       "      <td>NaN</td>\n",
       "    </tr>\n",
       "    <tr>\n",
       "      <th>4/3</th>\n",
       "      <td>NaN</td>\n",
       "    </tr>\n",
       "    <tr>\n",
       "      <th>4/4</th>\n",
       "      <td>0.125560</td>\n",
       "    </tr>\n",
       "    <tr>\n",
       "      <th>4/5</th>\n",
       "      <td>NaN</td>\n",
       "    </tr>\n",
       "    <tr>\n",
       "      <th>4/6</th>\n",
       "      <td>0.307814</td>\n",
       "    </tr>\n",
       "    <tr>\n",
       "      <th>4/7</th>\n",
       "      <td>0.672157</td>\n",
       "    </tr>\n",
       "    <tr>\n",
       "      <th>5/2</th>\n",
       "      <td>NaN</td>\n",
       "    </tr>\n",
       "    <tr>\n",
       "      <th>5/3</th>\n",
       "      <td>0.198251</td>\n",
       "    </tr>\n",
       "    <tr>\n",
       "      <th>5/4</th>\n",
       "      <td>0.174789</td>\n",
       "    </tr>\n",
       "    <tr>\n",
       "      <th>5/5</th>\n",
       "      <td>0.125435</td>\n",
       "    </tr>\n",
       "    <tr>\n",
       "      <th>5/6</th>\n",
       "      <td>0.193047</td>\n",
       "    </tr>\n",
       "    <tr>\n",
       "      <th>5/7</th>\n",
       "      <td>0.234855</td>\n",
       "    </tr>\n",
       "    <tr>\n",
       "      <th>5/n</th>\n",
       "      <td>0.518518</td>\n",
       "    </tr>\n",
       "    <tr>\n",
       "      <th>6/0</th>\n",
       "      <td>0.591539</td>\n",
       "    </tr>\n",
       "    <tr>\n",
       "      <th>6/2</th>\n",
       "      <td>0.591056</td>\n",
       "    </tr>\n",
       "    <tr>\n",
       "      <th>6/3</th>\n",
       "      <td>NaN</td>\n",
       "    </tr>\n",
       "    <tr>\n",
       "      <th>6/4</th>\n",
       "      <td>0.175175</td>\n",
       "    </tr>\n",
       "    <tr>\n",
       "      <th>6/5</th>\n",
       "      <td>NaN</td>\n",
       "    </tr>\n",
       "    <tr>\n",
       "      <th>6/6</th>\n",
       "      <td>NaN</td>\n",
       "    </tr>\n",
       "    <tr>\n",
       "      <th>6/7</th>\n",
       "      <td>0.361858</td>\n",
       "    </tr>\n",
       "    <tr>\n",
       "      <th>7/3</th>\n",
       "      <td>NaN</td>\n",
       "    </tr>\n",
       "    <tr>\n",
       "      <th>7/4</th>\n",
       "      <td>0.178571</td>\n",
       "    </tr>\n",
       "    <tr>\n",
       "      <th>7/5</th>\n",
       "      <td>NaN</td>\n",
       "    </tr>\n",
       "    <tr>\n",
       "      <th>7/6</th>\n",
       "      <td>0.101815</td>\n",
       "    </tr>\n",
       "    <tr>\n",
       "      <th>7/7</th>\n",
       "      <td>NaN</td>\n",
       "    </tr>\n",
       "    <tr>\n",
       "      <th>7/8</th>\n",
       "      <td>0.644347</td>\n",
       "    </tr>\n",
       "    <tr>\n",
       "      <th>8/3</th>\n",
       "      <td>NaN</td>\n",
       "    </tr>\n",
       "    <tr>\n",
       "      <th>8/4</th>\n",
       "      <td>NaN</td>\n",
       "    </tr>\n",
       "    <tr>\n",
       "      <th>8/5</th>\n",
       "      <td>0.103060</td>\n",
       "    </tr>\n",
       "    <tr>\n",
       "      <th>8/6</th>\n",
       "      <td>NaN</td>\n",
       "    </tr>\n",
       "    <tr>\n",
       "      <th>8/7</th>\n",
       "      <td>NaN</td>\n",
       "    </tr>\n",
       "    <tr>\n",
       "      <th>8/8</th>\n",
       "      <td>0.684991</td>\n",
       "    </tr>\n",
       "    <tr>\n",
       "      <th>9/3</th>\n",
       "      <td>0.332869</td>\n",
       "    </tr>\n",
       "    <tr>\n",
       "      <th>9/4</th>\n",
       "      <td>0.444548</td>\n",
       "    </tr>\n",
       "    <tr>\n",
       "      <th>9/5</th>\n",
       "      <td>NaN</td>\n",
       "    </tr>\n",
       "    <tr>\n",
       "      <th>9/6</th>\n",
       "      <td>0.112187</td>\n",
       "    </tr>\n",
       "    <tr>\n",
       "      <th>9/7</th>\n",
       "      <td>NaN</td>\n",
       "    </tr>\n",
       "    <tr>\n",
       "      <th>9/8</th>\n",
       "      <td>0.671128</td>\n",
       "    </tr>\n",
       "  </tbody>\n",
       "</table>\n",
       "</div>"
      ],
      "text/plain": [
       "                      momentum168\n",
       "technical_indicators             \n",
       "1/2                      0.139167\n",
       "1/3                      0.318241\n",
       "1/4                      0.248348\n",
       "1/5                           NaN\n",
       "2/2                           NaN\n",
       "2/3                      0.285179\n",
       "2/4                      0.218542\n",
       "2/5                      0.116262\n",
       "2/6                      0.181300\n",
       "3/2                           NaN\n",
       "3/3                      0.255861\n",
       "3/4                      0.158502\n",
       "3/5                           NaN\n",
       "3/6                      0.216455\n",
       "4/2                           NaN\n",
       "4/3                           NaN\n",
       "4/4                      0.125560\n",
       "4/5                           NaN\n",
       "4/6                      0.307814\n",
       "4/7                      0.672157\n",
       "5/2                           NaN\n",
       "5/3                      0.198251\n",
       "5/4                      0.174789\n",
       "5/5                      0.125435\n",
       "5/6                      0.193047\n",
       "5/7                      0.234855\n",
       "5/n                      0.518518\n",
       "6/0                      0.591539\n",
       "6/2                      0.591056\n",
       "6/3                           NaN\n",
       "6/4                      0.175175\n",
       "6/5                           NaN\n",
       "6/6                           NaN\n",
       "6/7                      0.361858\n",
       "7/3                           NaN\n",
       "7/4                      0.178571\n",
       "7/5                           NaN\n",
       "7/6                      0.101815\n",
       "7/7                           NaN\n",
       "7/8                      0.644347\n",
       "8/3                           NaN\n",
       "8/4                           NaN\n",
       "8/5                      0.103060\n",
       "8/6                           NaN\n",
       "8/7                           NaN\n",
       "8/8                      0.684991\n",
       "9/3                      0.332869\n",
       "9/4                      0.444548\n",
       "9/5                           NaN\n",
       "9/6                      0.112187\n",
       "9/7                           NaN\n",
       "9/8                      0.671128"
      ]
     },
     "metadata": {},
     "output_type": "display_data"
    }
   ],
   "source": [
    "df_momentum168 = pd.DataFrame()\n",
    "df_momentum168[\"technical_indicators\"] = df[\"technical_indicators\"].shift(2016)\n",
    "df_momentum168[\"momentum168\"] = df[\"momentum168\"]\n",
    "with pd.option_context('display.max_rows', None, 'display.max_columns', None):  # more options can be specified also\n",
    "    display(df_momentum168.groupby(\"technical_indicators\").mean().where(df_momentum168.groupby(\"technical_indicators\").mean() >= 0.1))"
   ]
  },
  {
   "cell_type": "markdown",
   "metadata": {},
   "source": []
  },
  {
   "cell_type": "markdown",
   "metadata": {},
   "source": [
    "#### Generating selling Signals"
   ]
  },
  {
   "cell_type": "code",
   "execution_count": 335,
   "metadata": {},
   "outputs": [],
   "source": [
    "#Here we tried to set a sell signal if the return to the previous 7 days is below -12%\n",
    "df_momentum168 = pd.DataFrame()\n",
    "df_momentum168[\"technical_indicators\"] = df[\"technical_indicators\"].shift(2016)\n",
    "df_momentum168[\"momentum168\"] = df[\"momentum168\"]\n",
    "sell_signals_raw = df.index.where(df[\"momentum168\"] < - 0.12).to_list()\n",
    "sell_signals = [int(x) for x in sell_signals_raw if str(x) != \"nan\"]"
   ]
  },
  {
   "cell_type": "code",
   "execution_count": 336,
   "metadata": {},
   "outputs": [],
   "source": [
    "#lets try the same with 4 days\n",
    "df_momentum96 = pd.DataFrame()\n",
    "df_momentum96[\"technical_indicators\"] = df[\"technical_indicators\"].shift(1152)\n",
    "df_momentum96[\"momentum96\"] = df[\"momentum96\"]\n",
    "sell_signals_raw = df.index.where(df[\"momentum168\"] < - 0.1).to_list()\n",
    "sell_signals = [int(x) for x in sell_signals_raw if str(x) != \"nan\"]"
   ]
  },
  {
   "cell_type": "code",
   "execution_count": 337,
   "metadata": {},
   "outputs": [
    {
     "data": {
      "text/html": [
       "<div>\n",
       "<style scoped>\n",
       "    .dataframe tbody tr th:only-of-type {\n",
       "        vertical-align: middle;\n",
       "    }\n",
       "\n",
       "    .dataframe tbody tr th {\n",
       "        vertical-align: top;\n",
       "    }\n",
       "\n",
       "    .dataframe thead th {\n",
       "        text-align: right;\n",
       "    }\n",
       "</style>\n",
       "<table border=\"1\" class=\"dataframe\">\n",
       "  <thead>\n",
       "    <tr style=\"text-align: right;\">\n",
       "      <th></th>\n",
       "      <th>momentum168</th>\n",
       "    </tr>\n",
       "    <tr>\n",
       "      <th>technical_indicators</th>\n",
       "      <th></th>\n",
       "    </tr>\n",
       "  </thead>\n",
       "  <tbody>\n",
       "    <tr>\n",
       "      <th>1/2</th>\n",
       "      <td>NaN</td>\n",
       "    </tr>\n",
       "    <tr>\n",
       "      <th>1/3</th>\n",
       "      <td>NaN</td>\n",
       "    </tr>\n",
       "    <tr>\n",
       "      <th>1/4</th>\n",
       "      <td>NaN</td>\n",
       "    </tr>\n",
       "    <tr>\n",
       "      <th>1/5</th>\n",
       "      <td>NaN</td>\n",
       "    </tr>\n",
       "    <tr>\n",
       "      <th>2/2</th>\n",
       "      <td>NaN</td>\n",
       "    </tr>\n",
       "    <tr>\n",
       "      <th>2/3</th>\n",
       "      <td>NaN</td>\n",
       "    </tr>\n",
       "    <tr>\n",
       "      <th>2/4</th>\n",
       "      <td>NaN</td>\n",
       "    </tr>\n",
       "    <tr>\n",
       "      <th>2/5</th>\n",
       "      <td>NaN</td>\n",
       "    </tr>\n",
       "    <tr>\n",
       "      <th>2/6</th>\n",
       "      <td>NaN</td>\n",
       "    </tr>\n",
       "    <tr>\n",
       "      <th>3/2</th>\n",
       "      <td>-0.229768</td>\n",
       "    </tr>\n",
       "    <tr>\n",
       "      <th>3/3</th>\n",
       "      <td>NaN</td>\n",
       "    </tr>\n",
       "    <tr>\n",
       "      <th>3/4</th>\n",
       "      <td>NaN</td>\n",
       "    </tr>\n",
       "    <tr>\n",
       "      <th>3/5</th>\n",
       "      <td>NaN</td>\n",
       "    </tr>\n",
       "    <tr>\n",
       "      <th>3/6</th>\n",
       "      <td>NaN</td>\n",
       "    </tr>\n",
       "    <tr>\n",
       "      <th>4/2</th>\n",
       "      <td>-0.009764</td>\n",
       "    </tr>\n",
       "    <tr>\n",
       "      <th>4/3</th>\n",
       "      <td>NaN</td>\n",
       "    </tr>\n",
       "    <tr>\n",
       "      <th>4/4</th>\n",
       "      <td>NaN</td>\n",
       "    </tr>\n",
       "    <tr>\n",
       "      <th>4/5</th>\n",
       "      <td>NaN</td>\n",
       "    </tr>\n",
       "    <tr>\n",
       "      <th>4/6</th>\n",
       "      <td>NaN</td>\n",
       "    </tr>\n",
       "    <tr>\n",
       "      <th>4/7</th>\n",
       "      <td>NaN</td>\n",
       "    </tr>\n",
       "    <tr>\n",
       "      <th>5/2</th>\n",
       "      <td>-0.294220</td>\n",
       "    </tr>\n",
       "    <tr>\n",
       "      <th>5/3</th>\n",
       "      <td>NaN</td>\n",
       "    </tr>\n",
       "    <tr>\n",
       "      <th>5/4</th>\n",
       "      <td>NaN</td>\n",
       "    </tr>\n",
       "    <tr>\n",
       "      <th>5/5</th>\n",
       "      <td>NaN</td>\n",
       "    </tr>\n",
       "    <tr>\n",
       "      <th>5/6</th>\n",
       "      <td>NaN</td>\n",
       "    </tr>\n",
       "    <tr>\n",
       "      <th>5/7</th>\n",
       "      <td>NaN</td>\n",
       "    </tr>\n",
       "    <tr>\n",
       "      <th>5/n</th>\n",
       "      <td>NaN</td>\n",
       "    </tr>\n",
       "    <tr>\n",
       "      <th>6/0</th>\n",
       "      <td>NaN</td>\n",
       "    </tr>\n",
       "    <tr>\n",
       "      <th>6/2</th>\n",
       "      <td>NaN</td>\n",
       "    </tr>\n",
       "    <tr>\n",
       "      <th>6/3</th>\n",
       "      <td>NaN</td>\n",
       "    </tr>\n",
       "    <tr>\n",
       "      <th>6/4</th>\n",
       "      <td>NaN</td>\n",
       "    </tr>\n",
       "    <tr>\n",
       "      <th>6/5</th>\n",
       "      <td>NaN</td>\n",
       "    </tr>\n",
       "    <tr>\n",
       "      <th>6/6</th>\n",
       "      <td>NaN</td>\n",
       "    </tr>\n",
       "    <tr>\n",
       "      <th>6/7</th>\n",
       "      <td>NaN</td>\n",
       "    </tr>\n",
       "    <tr>\n",
       "      <th>7/3</th>\n",
       "      <td>-0.030634</td>\n",
       "    </tr>\n",
       "    <tr>\n",
       "      <th>7/4</th>\n",
       "      <td>NaN</td>\n",
       "    </tr>\n",
       "    <tr>\n",
       "      <th>7/5</th>\n",
       "      <td>NaN</td>\n",
       "    </tr>\n",
       "    <tr>\n",
       "      <th>7/6</th>\n",
       "      <td>NaN</td>\n",
       "    </tr>\n",
       "    <tr>\n",
       "      <th>7/7</th>\n",
       "      <td>NaN</td>\n",
       "    </tr>\n",
       "    <tr>\n",
       "      <th>7/8</th>\n",
       "      <td>NaN</td>\n",
       "    </tr>\n",
       "    <tr>\n",
       "      <th>8/3</th>\n",
       "      <td>NaN</td>\n",
       "    </tr>\n",
       "    <tr>\n",
       "      <th>8/4</th>\n",
       "      <td>NaN</td>\n",
       "    </tr>\n",
       "    <tr>\n",
       "      <th>8/5</th>\n",
       "      <td>NaN</td>\n",
       "    </tr>\n",
       "    <tr>\n",
       "      <th>8/6</th>\n",
       "      <td>NaN</td>\n",
       "    </tr>\n",
       "    <tr>\n",
       "      <th>8/7</th>\n",
       "      <td>NaN</td>\n",
       "    </tr>\n",
       "    <tr>\n",
       "      <th>8/8</th>\n",
       "      <td>NaN</td>\n",
       "    </tr>\n",
       "    <tr>\n",
       "      <th>9/3</th>\n",
       "      <td>NaN</td>\n",
       "    </tr>\n",
       "    <tr>\n",
       "      <th>9/4</th>\n",
       "      <td>NaN</td>\n",
       "    </tr>\n",
       "    <tr>\n",
       "      <th>9/5</th>\n",
       "      <td>NaN</td>\n",
       "    </tr>\n",
       "    <tr>\n",
       "      <th>9/6</th>\n",
       "      <td>NaN</td>\n",
       "    </tr>\n",
       "    <tr>\n",
       "      <th>9/7</th>\n",
       "      <td>NaN</td>\n",
       "    </tr>\n",
       "    <tr>\n",
       "      <th>9/8</th>\n",
       "      <td>NaN</td>\n",
       "    </tr>\n",
       "  </tbody>\n",
       "</table>\n",
       "</div>"
      ],
      "text/plain": [
       "                      momentum168\n",
       "technical_indicators             \n",
       "1/2                           NaN\n",
       "1/3                           NaN\n",
       "1/4                           NaN\n",
       "1/5                           NaN\n",
       "2/2                           NaN\n",
       "2/3                           NaN\n",
       "2/4                           NaN\n",
       "2/5                           NaN\n",
       "2/6                           NaN\n",
       "3/2                     -0.229768\n",
       "3/3                           NaN\n",
       "3/4                           NaN\n",
       "3/5                           NaN\n",
       "3/6                           NaN\n",
       "4/2                     -0.009764\n",
       "4/3                           NaN\n",
       "4/4                           NaN\n",
       "4/5                           NaN\n",
       "4/6                           NaN\n",
       "4/7                           NaN\n",
       "5/2                     -0.294220\n",
       "5/3                           NaN\n",
       "5/4                           NaN\n",
       "5/5                           NaN\n",
       "5/6                           NaN\n",
       "5/7                           NaN\n",
       "5/n                           NaN\n",
       "6/0                           NaN\n",
       "6/2                           NaN\n",
       "6/3                           NaN\n",
       "6/4                           NaN\n",
       "6/5                           NaN\n",
       "6/6                           NaN\n",
       "6/7                           NaN\n",
       "7/3                     -0.030634\n",
       "7/4                           NaN\n",
       "7/5                           NaN\n",
       "7/6                           NaN\n",
       "7/7                           NaN\n",
       "7/8                           NaN\n",
       "8/3                           NaN\n",
       "8/4                           NaN\n",
       "8/5                           NaN\n",
       "8/6                           NaN\n",
       "8/7                           NaN\n",
       "8/8                           NaN\n",
       "9/3                           NaN\n",
       "9/4                           NaN\n",
       "9/5                           NaN\n",
       "9/6                           NaN\n",
       "9/7                           NaN\n",
       "9/8                           NaN"
      ]
     },
     "metadata": {},
     "output_type": "display_data"
    }
   ],
   "source": [
    "df_momentum168 = pd.DataFrame()\n",
    "df_momentum168[\"technical_indicators\"] = df[\"technical_indicators\"].shift(2016)\n",
    "df_momentum168[\"momentum168\"] = df[\"momentum168\"]\n",
    "with pd.option_context('display.max_rows', None, 'display.max_columns', None):  # more options can be specified also\n",
    "    display(df_momentum168.groupby(\"technical_indicators\").mean().where(df_momentum168.groupby(\"technical_indicators\").mean() < 0))"
   ]
  },
  {
   "cell_type": "markdown",
   "metadata": {},
   "source": [
    "### RSI Only Analysis"
   ]
  },
  {
   "cell_type": "code",
   "execution_count": 338,
   "metadata": {},
   "outputs": [
    {
     "data": {
      "text/html": [
       "<div>\n",
       "<style scoped>\n",
       "    .dataframe tbody tr th:only-of-type {\n",
       "        vertical-align: middle;\n",
       "    }\n",
       "\n",
       "    .dataframe tbody tr th {\n",
       "        vertical-align: top;\n",
       "    }\n",
       "\n",
       "    .dataframe thead th {\n",
       "        text-align: right;\n",
       "    }\n",
       "</style>\n",
       "<table border=\"1\" class=\"dataframe\">\n",
       "  <thead>\n",
       "    <tr style=\"text-align: right;\">\n",
       "      <th></th>\n",
       "      <th>momentum168</th>\n",
       "    </tr>\n",
       "    <tr>\n",
       "      <th>rsi_group</th>\n",
       "      <th></th>\n",
       "    </tr>\n",
       "  </thead>\n",
       "  <tbody>\n",
       "    <tr>\n",
       "      <th>0</th>\n",
       "      <td>0.591539</td>\n",
       "    </tr>\n",
       "    <tr>\n",
       "      <th>2</th>\n",
       "      <td>0.001781</td>\n",
       "    </tr>\n",
       "    <tr>\n",
       "      <th>3</th>\n",
       "      <td>0.242380</td>\n",
       "    </tr>\n",
       "    <tr>\n",
       "      <th>4</th>\n",
       "      <td>0.174620</td>\n",
       "    </tr>\n",
       "    <tr>\n",
       "      <th>5</th>\n",
       "      <td>0.081274</td>\n",
       "    </tr>\n",
       "    <tr>\n",
       "      <th>6</th>\n",
       "      <td>0.117650</td>\n",
       "    </tr>\n",
       "    <tr>\n",
       "      <th>7</th>\n",
       "      <td>0.073716</td>\n",
       "    </tr>\n",
       "    <tr>\n",
       "      <th>8</th>\n",
       "      <td>0.669133</td>\n",
       "    </tr>\n",
       "    <tr>\n",
       "      <th>n</th>\n",
       "      <td>0.518518</td>\n",
       "    </tr>\n",
       "  </tbody>\n",
       "</table>\n",
       "</div>"
      ],
      "text/plain": [
       "           momentum168\n",
       "rsi_group             \n",
       "0             0.591539\n",
       "2             0.001781\n",
       "3             0.242380\n",
       "4             0.174620\n",
       "5             0.081274\n",
       "6             0.117650\n",
       "7             0.073716\n",
       "8             0.669133\n",
       "n             0.518518"
      ]
     },
     "execution_count": 338,
     "metadata": {},
     "output_type": "execute_result"
    }
   ],
   "source": [
    "df_momentum168 = pd.DataFrame()\n",
    "df_momentum168[\"rsi_group\"] = df[\"rsi_group\"].shift(2016)\n",
    "df_momentum168[\"momentum168\"] = df[\"momentum168\"]\n",
    "df_momentum168.groupby(\"rsi_group\").mean()"
   ]
  },
  {
   "cell_type": "markdown",
   "metadata": {},
   "source": [
    "### Backtesting (Long-Only) - Calculate the returns by applying basic rules"
   ]
  },
  {
   "cell_type": "code",
   "execution_count": 339,
   "metadata": {},
   "outputs": [
    {
     "data": {
      "text/html": [
       "<div>\n",
       "<style scoped>\n",
       "    .dataframe tbody tr th:only-of-type {\n",
       "        vertical-align: middle;\n",
       "    }\n",
       "\n",
       "    .dataframe tbody tr th {\n",
       "        vertical-align: top;\n",
       "    }\n",
       "\n",
       "    .dataframe thead th {\n",
       "        text-align: right;\n",
       "    }\n",
       "</style>\n",
       "<table border=\"1\" class=\"dataframe\">\n",
       "  <thead>\n",
       "    <tr style=\"text-align: right;\">\n",
       "      <th></th>\n",
       "      <th>open time</th>\n",
       "      <th>open</th>\n",
       "      <th>high</th>\n",
       "      <th>low</th>\n",
       "      <th>close</th>\n",
       "      <th>volume</th>\n",
       "      <th>close_time</th>\n",
       "      <th>quote_asset_volume</th>\n",
       "      <th>number_of_trades</th>\n",
       "      <th>taker_buy_base_asset_volume</th>\n",
       "      <th>...</th>\n",
       "      <th>momentum4</th>\n",
       "      <th>momentum8</th>\n",
       "      <th>momentum12</th>\n",
       "      <th>momentum24</th>\n",
       "      <th>momentum48</th>\n",
       "      <th>momentum96</th>\n",
       "      <th>momentum168</th>\n",
       "      <th>so_group</th>\n",
       "      <th>rsi_group</th>\n",
       "      <th>technical_indicators</th>\n",
       "    </tr>\n",
       "  </thead>\n",
       "  <tbody>\n",
       "    <tr>\n",
       "      <th>0</th>\n",
       "      <td>1614556800000</td>\n",
       "      <td>1418.67</td>\n",
       "      <td>1449.99</td>\n",
       "      <td>1409.91</td>\n",
       "      <td>1440.76</td>\n",
       "      <td>48482.87160</td>\n",
       "      <td>1614560399999</td>\n",
       "      <td>6.964562e+07</td>\n",
       "      <td>45108</td>\n",
       "      <td>25561.59079</td>\n",
       "      <td>...</td>\n",
       "      <td>NaN</td>\n",
       "      <td>NaN</td>\n",
       "      <td>NaN</td>\n",
       "      <td>NaN</td>\n",
       "      <td>NaN</td>\n",
       "      <td>NaN</td>\n",
       "      <td>NaN</td>\n",
       "      <td>5</td>\n",
       "      <td>n</td>\n",
       "      <td>5/n</td>\n",
       "    </tr>\n",
       "    <tr>\n",
       "      <th>1</th>\n",
       "      <td>1614560400000</td>\n",
       "      <td>1440.77</td>\n",
       "      <td>1447.39</td>\n",
       "      <td>1426.30</td>\n",
       "      <td>1439.55</td>\n",
       "      <td>27214.40690</td>\n",
       "      <td>1614563999999</td>\n",
       "      <td>3.908917e+07</td>\n",
       "      <td>28258</td>\n",
       "      <td>14436.87128</td>\n",
       "      <td>...</td>\n",
       "      <td>NaN</td>\n",
       "      <td>NaN</td>\n",
       "      <td>NaN</td>\n",
       "      <td>NaN</td>\n",
       "      <td>NaN</td>\n",
       "      <td>NaN</td>\n",
       "      <td>NaN</td>\n",
       "      <td>6</td>\n",
       "      <td>0</td>\n",
       "      <td>6/0</td>\n",
       "    </tr>\n",
       "    <tr>\n",
       "      <th>2</th>\n",
       "      <td>1614564000000</td>\n",
       "      <td>1439.73</td>\n",
       "      <td>1456.88</td>\n",
       "      <td>1434.96</td>\n",
       "      <td>1440.05</td>\n",
       "      <td>43927.60124</td>\n",
       "      <td>1614567599999</td>\n",
       "      <td>6.347060e+07</td>\n",
       "      <td>37234</td>\n",
       "      <td>22117.08379</td>\n",
       "      <td>...</td>\n",
       "      <td>NaN</td>\n",
       "      <td>NaN</td>\n",
       "      <td>NaN</td>\n",
       "      <td>NaN</td>\n",
       "      <td>NaN</td>\n",
       "      <td>NaN</td>\n",
       "      <td>NaN</td>\n",
       "      <td>6</td>\n",
       "      <td>2</td>\n",
       "      <td>6/2</td>\n",
       "    </tr>\n",
       "    <tr>\n",
       "      <th>3</th>\n",
       "      <td>1614567600000</td>\n",
       "      <td>1440.31</td>\n",
       "      <td>1446.15</td>\n",
       "      <td>1431.27</td>\n",
       "      <td>1434.06</td>\n",
       "      <td>33488.96519</td>\n",
       "      <td>1614571199999</td>\n",
       "      <td>4.817392e+07</td>\n",
       "      <td>27998</td>\n",
       "      <td>16509.53282</td>\n",
       "      <td>...</td>\n",
       "      <td>NaN</td>\n",
       "      <td>NaN</td>\n",
       "      <td>NaN</td>\n",
       "      <td>NaN</td>\n",
       "      <td>NaN</td>\n",
       "      <td>NaN</td>\n",
       "      <td>NaN</td>\n",
       "      <td>5</td>\n",
       "      <td>6</td>\n",
       "      <td>5/6</td>\n",
       "    </tr>\n",
       "    <tr>\n",
       "      <th>4</th>\n",
       "      <td>1614571200000</td>\n",
       "      <td>1434.06</td>\n",
       "      <td>1451.92</td>\n",
       "      <td>1421.46</td>\n",
       "      <td>1441.63</td>\n",
       "      <td>33633.18294</td>\n",
       "      <td>1614574799999</td>\n",
       "      <td>4.827530e+07</td>\n",
       "      <td>31299</td>\n",
       "      <td>17087.28730</td>\n",
       "      <td>...</td>\n",
       "      <td>NaN</td>\n",
       "      <td>NaN</td>\n",
       "      <td>NaN</td>\n",
       "      <td>NaN</td>\n",
       "      <td>NaN</td>\n",
       "      <td>NaN</td>\n",
       "      <td>NaN</td>\n",
       "      <td>6</td>\n",
       "      <td>5</td>\n",
       "      <td>6/5</td>\n",
       "    </tr>\n",
       "  </tbody>\n",
       "</table>\n",
       "<p>5 rows × 27 columns</p>\n",
       "</div>"
      ],
      "text/plain": [
       "       open time     open     high      low    close       volume  \\\n",
       "0  1614556800000  1418.67  1449.99  1409.91  1440.76  48482.87160   \n",
       "1  1614560400000  1440.77  1447.39  1426.30  1439.55  27214.40690   \n",
       "2  1614564000000  1439.73  1456.88  1434.96  1440.05  43927.60124   \n",
       "3  1614567600000  1440.31  1446.15  1431.27  1434.06  33488.96519   \n",
       "4  1614571200000  1434.06  1451.92  1421.46  1441.63  33633.18294   \n",
       "\n",
       "      close_time  quote_asset_volume  number_of_trades  \\\n",
       "0  1614560399999        6.964562e+07             45108   \n",
       "1  1614563999999        3.908917e+07             28258   \n",
       "2  1614567599999        6.347060e+07             37234   \n",
       "3  1614571199999        4.817392e+07             27998   \n",
       "4  1614574799999        4.827530e+07             31299   \n",
       "\n",
       "   taker_buy_base_asset_volume  ...  momentum4  momentum8  momentum12  \\\n",
       "0                  25561.59079  ...        NaN        NaN         NaN   \n",
       "1                  14436.87128  ...        NaN        NaN         NaN   \n",
       "2                  22117.08379  ...        NaN        NaN         NaN   \n",
       "3                  16509.53282  ...        NaN        NaN         NaN   \n",
       "4                  17087.28730  ...        NaN        NaN         NaN   \n",
       "\n",
       "   momentum24  momentum48  momentum96  momentum168  so_group  rsi_group  \\\n",
       "0         NaN         NaN         NaN          NaN         5          n   \n",
       "1         NaN         NaN         NaN          NaN         6          0   \n",
       "2         NaN         NaN         NaN          NaN         6          2   \n",
       "3         NaN         NaN         NaN          NaN         5          6   \n",
       "4         NaN         NaN         NaN          NaN         6          5   \n",
       "\n",
       "   technical_indicators  \n",
       "0                   5/n  \n",
       "1                   6/0  \n",
       "2                   6/2  \n",
       "3                   5/6  \n",
       "4                   6/5  \n",
       "\n",
       "[5 rows x 27 columns]"
      ]
     },
     "execution_count": 339,
     "metadata": {},
     "output_type": "execute_result"
    }
   ],
   "source": [
    "df.head()"
   ]
  },
  {
   "cell_type": "code",
   "execution_count": 340,
   "metadata": {},
   "outputs": [],
   "source": [
    "#lets build an example of 1 week momentum and see when our indicators appear\n",
    "df[\"buy_indicator\"] = 0\n",
    "\n",
    "buy_indicators = [\"3/2\", \"4/2\", \"5/2\", \"8/3\", \"9/4\", \"9/7\", \"9/6\"]#[\"6/0\", \"6/2\",\"7/8\", \"8/8\"]\n",
    "for buy_indicator in buy_indicators:\n",
    "    df.loc[df[\"technical_indicators\"] == buy_indicator, 'buy_indicator'] = 1"
   ]
  },
  {
   "cell_type": "code",
   "execution_count": 341,
   "metadata": {},
   "outputs": [],
   "source": [
    "df[\"sell_indicator\"] = 0\n",
    "\n",
    "sell_indicators = [\"3/2\", \"4/2\", \"5/2\", \"8/3\", \"9/4\", \"9/7\", \"9/6\"]#[\"6/0\", \"6/2\",\"7/8\", \"8/8\"]\n",
    "for sell_indicator in sell_indicators:\n",
    "    df.loc[df[\"technical_indicators\"].shift(96) == sell_indicator, 'sell_indicator'] = 1\n"
   ]
  },
  {
   "cell_type": "code",
   "execution_count": 342,
   "metadata": {},
   "outputs": [],
   "source": [
    "buy_colors = []\n",
    "for value in df[\"buy_indicator\"]:\n",
    "    if value == 1:\n",
    "        buy_colors.append(\"r\")\n",
    "    else:\n",
    "        buy_colors.append(\"None\")"
   ]
  },
  {
   "cell_type": "code",
   "execution_count": 343,
   "metadata": {},
   "outputs": [],
   "source": [
    "sell_colors = []\n",
    "for value in df[\"sell_indicator\"]:\n",
    "    if value == 1:\n",
    "        sell_colors.append(\"g\")\n",
    "    else:\n",
    "        sell_colors.append(\"None\")"
   ]
  },
  {
   "cell_type": "code",
   "execution_count": 344,
   "metadata": {},
   "outputs": [
    {
     "data": {
      "image/png": "[encoded data removed]",
      "text/plain": [
       "<Figure size 432x288 with 1 Axes>"
      ]
     },
     "metadata": {
      "needs_background": "light"
     },
     "output_type": "display_data"
    },
    {
     "data": {
      "image/png": "[encoded data removed]",
      "text/plain": [
       "<Figure size 432x288 with 1 Axes>"
      ]
     },
     "metadata": {
      "needs_background": "light"
     },
     "output_type": "display_data"
    },
    {
     "data": {
      "image/png": "[encoded data removed]",
      "text/plain": [
       "<Figure size 432x288 with 1 Axes>"
      ]
     },
     "metadata": {
      "needs_background": "light"
     },
     "output_type": "display_data"
    }
   ],
   "source": [
    "plt.scatter(list(range(len(df))), np.cumprod(df[\"return\"]), c=buy_colors)\n",
    "plt.show()\n",
    "plt.scatter(list(range(len(df))), np.cumprod(df[\"return\"]), c=sell_colors)\n",
    "plt.show()\n",
    "plt.scatter(list(range(len(df))), np.cumprod(df[\"return\"]), c=buy_colors)\n",
    "plt.scatter(list(range(len(df))), np.cumprod(df[\"return\"]), c=sell_colors)\n",
    "plt.plot(np.cumprod(df[\"return\"]))\n",
    "plt.show()"
   ]
  },
  {
   "cell_type": "code",
   "execution_count": 345,
   "metadata": {},
   "outputs": [],
   "source": [
    "def calculate_cumulated_return(df, start_sum):\n",
    "\n",
    "    money = start_sum\n",
    "    money_history = []\n",
    "    sell_index = 0\n",
    "\n",
    "    for index, row in df[['close', 'buy_indicator', 'sell_indicator']].iterrows():\n",
    "        \n",
    "\n",
    "        if row[\"buy_indicator\"] == 1 and money != 0 and index > sell_index:\n",
    "            assets = money / row[\"close\"]\n",
    "            money = 0\n",
    "            buy_index = index\n",
    "            sell_index = buy_index + 2015\n",
    "\n",
    "        if sell_index == index and money == 0: \n",
    "            money = assets * df[\"close\"][sell_index]\n",
    "            money_history.append(money / start_sum)\n",
    "            assets = 0\n",
    "\n",
    "        \n",
    "        if len(df) - 1 == index and assets != 0:\n",
    "            money = assets * row[\"close\"]\n",
    "            money_history.append(money / start_sum)\n",
    "            assets = 0\n",
    "\n",
    "    return money / start_sum, money_history\n",
    "\n",
    "result, hist = calculate_cumulated_return(df, 1000000)"
   ]
  },
  {
   "cell_type": "code",
   "execution_count": 346,
   "metadata": {},
   "outputs": [
    {
     "name": "stdout",
     "output_type": "stream",
     "text": [
      "2.9589644721884056\n"
     ]
    }
   ],
   "source": [
    "print(max(hist))"
   ]
  },
  {
   "cell_type": "code",
   "execution_count": 347,
   "metadata": {},
   "outputs": [
    {
     "name": "stdout",
     "output_type": "stream",
     "text": [
      "2.5589733750195562\n"
     ]
    }
   ],
   "source": [
    "print(result)"
   ]
  },
  {
   "cell_type": "code",
   "execution_count": 348,
   "metadata": {},
   "outputs": [
    {
     "data": {
      "image/png": "[encoded data removed]",
      "text/plain": [
       "<Figure size 432x288 with 1 Axes>"
      ]
     },
     "metadata": {
      "needs_background": "light"
     },
     "output_type": "display_data"
    }
   ],
   "source": [
    "plt.scatter(list(range(len(hist))), hist)\n",
    "plt.show()"
   ]
  },
  {
   "cell_type": "code",
   "execution_count": 349,
   "metadata": {},
   "outputs": [
    {
     "name": "stderr",
     "output_type": "stream",
     "text": [
      "C:\\Users\\janfa\\anaconda3\\lib\\site-packages\\pandas\\core\\generic.py:2653: UserWarning: The spaces in these column names will not be changed. In pandas versions < 0.14, spaces were converted to underscores.\n",
      "  sql.to_sql(\n"
     ]
    }
   ],
   "source": [
    "df.to_sql(\"ETHUSDT_1h_complete_history_long\", connection, if_exists=\"replace\")"
   ]
  },
  {
   "cell_type": "code",
   "execution_count": 350,
   "metadata": {},
   "outputs": [],
   "source": [
    "#sharp ratio, sortino ratio, maximum drawdown, carl mar ratio \n",
    "\n",
    "#last value predictor"
   ]
  },
  {
   "cell_type": "markdown",
   "metadata": {},
   "source": [
    "#### Backtesting (Long-Stopp-Loss) - Calculate the return applying basic rules"
   ]
  },
  {
   "cell_type": "code",
   "execution_count": 351,
   "metadata": {},
   "outputs": [],
   "source": [
    "#lets build an example of 1 week momentum and see when our indicators appear\n",
    "df[\"buy_indicator\"] = 0\n",
    "buy_indicators = [\"3/2\", \"4/2\", \"5/2\", \"8/3\", \"9/4\", \"9/7\", \"9/6\"]\n",
    "for buy_indicator in buy_indicators:\n",
    "    df.loc[df[\"technical_indicators\"] == buy_indicator, 'buy_indicator'] = 1"
   ]
  },
  {
   "cell_type": "code",
   "execution_count": 352,
   "metadata": {},
   "outputs": [],
   "source": [
    "# df[\"sell_indicator\"] = 0\n",
    "# sell_indicators = [\"5/1\", \"6/1\", \"7/1\", \"0/2\", \"0/3\", \"9/8\", \"0/3\"]\n",
    "                   \n",
    "# for sell_indicator in sell_indicators:\n",
    "#     df.loc[df[\"technical_indicators\"].shift(288) == sell_indicator, 'sell_indicator'] = 1"
   ]
  },
  {
   "cell_type": "code",
   "execution_count": 353,
   "metadata": {},
   "outputs": [],
   "source": [
    "#lets try the same with 2 days\n",
    "df_momentum48 = pd.DataFrame()\n",
    "df_momentum48[\"technical_indicators\"] = df[\"technical_indicators\"].shift(96)\n",
    "df_momentum48[\"momentum48\"] = df[\"momentum48\"]\n",
    "sell_signals_raw = df.index.where(df[\"momentum48\"] < - 0.105).to_list()\n",
    "sell_signals = [int(x) for x in sell_signals_raw if str(x) != \"nan\"]\n",
    "\n",
    "df[\"sell_indicator\"] = 0\n",
    "df[\"sell_indicator\"].iloc[sell_signals] = 1"
   ]
  },
  {
   "cell_type": "code",
   "execution_count": 354,
   "metadata": {},
   "outputs": [
    {
     "name": "stderr",
     "output_type": "stream",
     "text": [
      "C:\\Users\\janfa\\anaconda3\\lib\\site-packages\\pandas\\core\\indexing.py:671: SettingWithCopyWarning: \n",
      "A value is trying to be set on a copy of a slice from a DataFrame\n",
      "\n",
      "See the caveats in the documentation: https://pandas.pydata.org/pandas-docs/stable/user_guide/indexing.html#returning-a-view-versus-a-copy\n",
      "  self._setitem_with_indexer(indexer, value)\n"
     ]
    }
   ],
   "source": [
    "df[\"sell_indicator\"] = 0\n",
    "df[\"sell_indicator\"].iloc[sell_signals] = 1"
   ]
  },
  {
   "cell_type": "code",
   "execution_count": 355,
   "metadata": {},
   "outputs": [],
   "source": [
    "buy_colors = []\n",
    "for value in df[\"buy_indicator\"]:\n",
    "    if value == 1:\n",
    "        buy_colors.append(\"r\")\n",
    "    else:\n",
    "        buy_colors.append(\"None\")"
   ]
  },
  {
   "cell_type": "code",
   "execution_count": 356,
   "metadata": {},
   "outputs": [],
   "source": [
    "sell_colors = []\n",
    "for value in df[\"sell_indicator\"]:\n",
    "    if value == 1:\n",
    "        sell_colors.append(\"g\")\n",
    "    else:\n",
    "        sell_colors.append(\"None\")"
   ]
  },
  {
   "cell_type": "code",
   "execution_count": 357,
   "metadata": {},
   "outputs": [
    {
     "data": {
      "image/png": "[encoded data removed]",
      "text/plain": [
       "<Figure size 432x288 with 1 Axes>"
      ]
     },
     "metadata": {
      "needs_background": "light"
     },
     "output_type": "display_data"
    },
    {
     "data": {
      "image/png": "[encoded data removed]",
      "text/plain": [
       "<Figure size 432x288 with 1 Axes>"
      ]
     },
     "metadata": {
      "needs_background": "light"
     },
     "output_type": "display_data"
    },
    {
     "data": {
      "image/png": "[encoded data removed]",
      "text/plain": [
       "<Figure size 432x288 with 1 Axes>"
      ]
     },
     "metadata": {
      "needs_background": "light"
     },
     "output_type": "display_data"
    }
   ],
   "source": [
    "plt.scatter(list(range(len(df))), np.cumprod(df[\"return\"]), c=buy_colors)\n",
    "plt.show()\n",
    "plt.scatter(list(range(len(df))), np.cumprod(df[\"return\"]), c=sell_colors)\n",
    "plt.show()\n",
    "plt.scatter(list(range(len(df))), np.cumprod(df[\"return\"]), c=buy_colors)\n",
    "plt.plot(np.cumprod(df[\"return\"]))\n",
    "plt.show()"
   ]
  },
  {
   "cell_type": "code",
   "execution_count": 358,
   "metadata": {},
   "outputs": [],
   "source": [
    "def calculate_cumulated_return(df, start_sum):\n",
    "\n",
    "    money = start_sum\n",
    "    money_history = []\n",
    "\n",
    "    for index, row in df[['close', 'buy_indicator', 'sell_indicator']].iterrows():\n",
    "        \n",
    "\n",
    "        if row[\"buy_indicator\"] == 1 and money != 0:\n",
    "            assets = money / row[\"close\"]\n",
    "            money = 0\n",
    "            \n",
    "\n",
    "        if row[\"sell_indicator\"] == 1 and money == 0: \n",
    "            money = assets * row[\"close\"]\n",
    "            money_history.append(money / start_sum)\n",
    "            assets = 0\n",
    "\n",
    "        \n",
    "        if len(df) - 1 == index and assets != 0:\n",
    "            money = assets * row[\"close\"]\n",
    "            money_history.append(money / start_sum)\n",
    "            assets = 0\n",
    "\n",
    "    return money / start_sum, money_history\n",
    "\n",
    "result, hist = calculate_cumulated_return(df, 1000000)"
   ]
  },
  {
   "cell_type": "code",
   "execution_count": 359,
   "metadata": {},
   "outputs": [
    {
     "name": "stdout",
     "output_type": "stream",
     "text": [
      "2.507999998380766\n"
     ]
    }
   ],
   "source": [
    "print(max(hist))"
   ]
  },
  {
   "cell_type": "code",
   "execution_count": 360,
   "metadata": {},
   "outputs": [
    {
     "name": "stdout",
     "output_type": "stream",
     "text": [
      "2.2753186311186746\n"
     ]
    }
   ],
   "source": [
    "print(result)"
   ]
  },
  {
   "cell_type": "code",
   "execution_count": 361,
   "metadata": {},
   "outputs": [
    {
     "data": {
      "image/png": "[encoded data removed]",
      "text/plain": [
       "<Figure size 432x288 with 1 Axes>"
      ]
     },
     "metadata": {
      "needs_background": "light"
     },
     "output_type": "display_data"
    }
   ],
   "source": [
    "plt.scatter(list(range(len(hist))), hist)\n",
    "plt.show()"
   ]
  },
  {
   "cell_type": "code",
   "execution_count": 362,
   "metadata": {},
   "outputs": [],
   "source": [
    "df.to_sql(\"ETHUSDT_1h_complete_history_long_stop_loss\", connection, if_exists=\"replace\")"
   ]
  },
  {
   "cell_type": "markdown",
   "metadata": {},
   "source": [
    "#### Long Short"
   ]
  },
  {
   "cell_type": "code",
   "execution_count": 363,
   "metadata": {},
   "outputs": [],
   "source": [
    "#lets build an example of 1 week momentum and see when our indicators appear\n",
    "df[\"buy_indicator\"] = 0\n",
    "buy_indicators = [\"3/2\", \"4/2\", \"5/2\", \"8/3\", \"9/4\", \"9/7\", \"9/6\", \"2/6\", \"3/6\", \"7/7\"]\n",
    "for buy_indicator in buy_indicators:\n",
    "    df.loc[df[\"technical_indicators\"] == buy_indicator, 'buy_indicator'] = 1"
   ]
  },
  {
   "cell_type": "code",
   "execution_count": 442,
   "metadata": {},
   "outputs": [],
   "source": [
    "df[\"sell_indicator\"] = 0\n",
    "\n",
    "sell_indicators = [\"9/8\", \"7/3\", \"7/8\", \"7/3\", \"6/3\", \"5/7\", \"3/3\", \"2/2\", \"3/2\"]\n",
    "for sell_indicator in sell_indicators:\n",
    "    df.loc[df[\"technical_indicators\"].shift(96) == sell_indicator, 'sell_indicator'] = 1"
   ]
  },
  {
   "cell_type": "code",
   "execution_count": 451,
   "metadata": {},
   "outputs": [],
   "source": [
    "df_momentum48 = pd.DataFrame()\n",
    "df_momentum48[\"technical_indicators\"] = df[\"technical_indicators\"].shift(96)\n",
    "df_momentum48[\"momentum48\"] = df[\"momentum48\"]\n",
    "sell_signals_raw = df.index.where(df[\"momentum48\"] < - 0.17).to_list()\n",
    "sell_signals = [int(x) for x in sell_signals_raw if str(x) != \"nan\"]\n",
    "\n",
    "#df[\"sell_indicator\"] = 0\n",
    "df[\"sell_indicator\"].iloc[sell_signals] = 1"
   ]
  },
  {
   "cell_type": "code",
   "execution_count": 452,
   "metadata": {},
   "outputs": [],
   "source": [
    "buy_colors = []\n",
    "for value in df[\"buy_indicator\"]:\n",
    "    if value == 1:\n",
    "        buy_colors.append(\"r\")\n",
    "    else:\n",
    "        buy_colors.append(\"None\")"
   ]
  },
  {
   "cell_type": "code",
   "execution_count": 453,
   "metadata": {},
   "outputs": [],
   "source": [
    "sell_colors = []\n",
    "for value in df[\"sell_indicator\"]:\n",
    "    if value == 1:\n",
    "        sell_colors.append(\"g\")\n",
    "    else:\n",
    "        sell_colors.append(\"None\")"
   ]
  },
  {
   "cell_type": "code",
   "execution_count": 454,
   "metadata": {},
   "outputs": [
    {
     "data": {
      "image/png": "[encoded data removed]",
      "text/plain": [
       "<Figure size 432x288 with 1 Axes>"
      ]
     },
     "metadata": {
      "needs_background": "light"
     },
     "output_type": "display_data"
    },
    {
     "data": {
      "image/png": "[encoded data removed]",
      "text/plain": [
       "<Figure size 432x288 with 1 Axes>"
      ]
     },
     "metadata": {
      "needs_background": "light"
     },
     "output_type": "display_data"
    },
    {
     "data": {
      "image/png": "[encoded data removed]",
      "text/plain": [
       "<Figure size 432x288 with 1 Axes>"
      ]
     },
     "metadata": {
      "needs_background": "light"
     },
     "output_type": "display_data"
    }
   ],
   "source": [
    "plt.scatter(list(range(len(df))), np.cumprod(df[\"return\"]), c=buy_colors)\n",
    "plt.show()\n",
    "plt.scatter(list(range(len(df))), np.cumprod(df[\"return\"]), c=sell_colors)\n",
    "plt.show()\n",
    "plt.scatter(list(range(len(df))), np.cumprod(df[\"return\"]), c=buy_colors)\n",
    "plt.plot(np.cumprod(df[\"return\"]))\n",
    "plt.show()"
   ]
  },
  {
   "cell_type": "code",
   "execution_count": 455,
   "metadata": {},
   "outputs": [],
   "source": [
    "def calculate_cumulated_return(df, start_sum):\n",
    "\n",
    "    money = start_sum\n",
    "    money_history = []\n",
    "\n",
    "    for index, row in df[['close', 'buy_indicator', 'sell_indicator']].iterrows():\n",
    "        \n",
    "\n",
    "        if row[\"buy_indicator\"] == 1 and money != 0:\n",
    "            assets = money / row[\"close\"]\n",
    "            money = 0\n",
    "            \n",
    "\n",
    "        if row[\"sell_indicator\"] == 1 and money == 0: \n",
    "            money = assets * row[\"close\"]\n",
    "            money_history.append(money / start_sum)\n",
    "            assets = 0\n",
    "\n",
    "        \n",
    "        if len(df) - 1 == index and assets != 0:\n",
    "            money = assets * row[\"close\"]\n",
    "            money_history.append(money / start_sum)\n",
    "            assets = 0\n",
    "\n",
    "    return money / start_sum, money_history\n",
    "\n",
    "result, hist = calculate_cumulated_return(df, 1000000)"
   ]
  },
  {
   "cell_type": "code",
   "execution_count": 456,
   "metadata": {},
   "outputs": [
    {
     "name": "stdout",
     "output_type": "stream",
     "text": [
      "2.501449864263295\n"
     ]
    }
   ],
   "source": [
    "print(max(hist))"
   ]
  },
  {
   "cell_type": "code",
   "execution_count": 457,
   "metadata": {},
   "outputs": [
    {
     "name": "stdout",
     "output_type": "stream",
     "text": [
      "2.501449864263295\n"
     ]
    }
   ],
   "source": [
    "print(result)"
   ]
  },
  {
   "cell_type": "code",
   "execution_count": 450,
   "metadata": {},
   "outputs": [
    {
     "data": {
      "image/png": "[encoded data removed]",
      "text/plain": [
       "<Figure size 432x288 with 1 Axes>"
      ]
     },
     "metadata": {
      "needs_background": "light"
     },
     "output_type": "display_data"
    }
   ],
   "source": [
    "plt.scatter(list(range(len(hist))), hist)\n",
    "plt.show()"
   ]
  },
  {
   "cell_type": "code",
   "execution_count": 415,
   "metadata": {},
   "outputs": [],
   "source": [
    "df.to_sql(\"ETHUSDT_1h_complete_history_long_short\", connection, if_exists=\"replace\")"
   ]
  },
  {
   "cell_type": "code",
   "execution_count": null,
   "metadata": {},
   "outputs": [],
   "source": []
  },
  {
   "cell_type": "code",
   "execution_count": null,
   "metadata": {},
   "outputs": [],
   "source": []
  }
 ],
 "metadata": {
  "interpreter": {
   "hash": "1e5a5ffce4c1a67d56af0ede33c367753c6591829083eace9e2885f4e1d1923c"
  },
  "kernelspec": {
   "display_name": "Python 3.8.3 64-bit (conda)",
   "language": "python",
   "name": "python3"
  },
  "language_info": {
   "codemirror_mode": {
    "name": "ipython",
    "version": 3
   },
   "file_extension": ".py",
   "mimetype": "text/x-python",
   "name": "python",
   "nbconvert_exporter": "python",
   "pygments_lexer": "ipython3",
   "version": "3.8.3"
  },
  "orig_nbformat": 4
 },
 "nbformat": 4,
 "nbformat_minor": 2
}

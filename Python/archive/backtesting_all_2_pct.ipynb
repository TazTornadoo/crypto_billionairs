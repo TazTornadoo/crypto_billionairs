{
 "cells": [
  {
   "cell_type": "code",
   "execution_count": 2,
   "metadata": {},
   "outputs": [],
   "source": [
    "import pandas as pd\n",
    "import numpy as np\n",
    "from backtesting import Backtest, Strategy\n",
    "from data_storage import create_connection\n",
    "from stockstats import StockDataFrame\n",
    "from risk_metrics import Risk_Metrics\n",
    "import os\n",
    "import logging"
   ]
  },
  {
   "cell_type": "code",
   "execution_count": 3,
   "metadata": {},
   "outputs": [],
   "source": [
    "connection = create_connection(\"../database/crypto_billionairs.db\")"
   ]
  },
  {
   "cell_type": "code",
   "execution_count": 4,
   "metadata": {},
   "outputs": [],
   "source": [
    "headers = [\"time\", \"open\", \"high\", \"low\", \"close\", \"volume\"]"
   ]
  },
  {
   "cell_type": "code",
   "execution_count": 5,
   "metadata": {},
   "outputs": [],
   "source": [
    "def momentum(df, lag):\n",
    "    return df.pct_change(periods=lag)"
   ]
  },
  {
   "cell_type": "code",
   "execution_count": 12,
   "metadata": {},
   "outputs": [],
   "source": [
    "def prepare_files(path, db_connection, header_list):\n",
    "    \n",
    "    for file in os.listdir(path):\n",
    "        \n",
    "        try:\n",
    "            \n",
    "            if file[-3:] == 'txt':\n",
    "                df = pd.read_csv(f'./{path}/{file}', names = header_list)\n",
    "             \n",
    "                df[\"momentum_1week\"] = momentum(df[\"close\"], 10080)\n",
    "                \n",
    "                df[\"year\"] = df[\"time\"].str[:4]\n",
    "                df[\"month\"] = df[\"time\"].str[5:7]\n",
    "                df[\"day\"] = df[\"time\"].str[8:10]\n",
    "    \n",
    "                df[\"buy_indicator\"] = 0\n",
    "                df.loc[df[\"momentum_1week\"] > 0.025, 'buy_indicator'] = 1\n",
    "                df.loc[df[\"momentum_1week\"] < -0.08, 'short_indicator'] = -1\n",
    "            \n",
    "                file_name = str(file).replace(\"-\", \"_\")\n",
    "                \n",
    "                df.to_sql(f'{file_name[:-4]}_complete_history_long_short', con=db_connection, if_exists=\"replace\", index=False)\n",
    "                #os.remove(f'{path}/{file}')\n",
    "        except:\n",
    "            print(\"Oh no!\")"
   ]
  },
  {
   "cell_type": "code",
   "execution_count": 13,
   "metadata": {},
   "outputs": [
    {
     "name": "stdout",
     "output_type": "stream",
     "text": [
      "Oh no!\n"
     ]
    }
   ],
   "source": [
    "prepare_files(\"../database/\", connection, headers)"
   ]
  },
  {
   "cell_type": "code",
   "execution_count": 7,
   "metadata": {},
   "outputs": [],
   "source": [
    "class Momentum_1m_long_short(Strategy):\n",
    "   \n",
    "    \n",
    "    def init(self):\n",
    "        # compute the rsi and stochastic oscillator with stockstats and return the buy signal of the current row\n",
    "        \n",
    "        self.buy_init = self.I(init_buy_signal, self.data.df)\n",
    "        self.short_init = self.I(init_short_signal, self.data.df)\n",
    "        self.data.df.drop(self.data.df.columns.difference(['Open', 'High', 'Low', 'Close', \"Volume\"]), 1, inplace=True)\n",
    "        \n",
    "       \n",
    "    \n",
    "    def next(self):\n",
    "        \n",
    "        if self.buy_init[-1] == 1 and self.position.is_long is False:\n",
    "            self.position.close()\n",
    "            self.buy()\n",
    "\n",
    "             \n",
    "        elif self.short_init[-1] == -1 and self.position.is_short is False:\n",
    "            self.position.close()\n",
    "            self.sell()"
   ]
  },
  {
   "cell_type": "code",
   "execution_count": 8,
   "metadata": {},
   "outputs": [],
   "source": [
    "def init_buy_signal(trash):\n",
    "    return df_temp['buy_indicator']\n",
    "\n",
    "def init_short_signal(trash):\n",
    "    return df_temp['short_indicator']"
   ]
  },
  {
   "cell_type": "code",
   "execution_count": 11,
   "metadata": {},
   "outputs": [],
   "source": [
    "def run_backtesting(db_connection):\n",
    "    \n",
    "    global df_temp\n",
    "    \n",
    "    table_names = pd.read_sql_query(\"SELECT name FROM sqlite_master WHERE type='table' ORDER BY name;\", db_connection)\n",
    "    \n",
    "    table_names_list = table_names['name'].tolist()\n",
    "\n",
    "    filtered_table_names = [name for name in table_names_list if \"1min_complete_history_long_short\" in name and 'trades' not in name and \"rsi\" not in name]\n",
    "    \n",
    "    df_risk = pd.DataFrame(columns = range(10))\n",
    "    df_risk.columns = [\"table_name\", \"timehorizon\", \"return\", \"annualized_return\", \"sharpe_ratio_annualized\", \"sortino_ratio_annualized\", \"maximum_drawdown\", \"calmar_ratio_annualized\", \"trades_count\", \"win_rate\"]\n",
    "    \n",
    "    for table in filtered_table_names:\n",
    "        \n",
    "        df_temp = pd.read_sql_query(f\"select * from {table}\", db_connection)\n",
    "        df_backtesting = pd.DataFrame()\n",
    "        df_backtesting[['Open', 'High', 'Low', 'Close', \"Volume\"]] = df_temp[['open', 'high', 'low', 'close', 'volume']]\n",
    "        \n",
    "        \n",
    "        bt = Backtest(df_backtesting, Momentum_1m_long_short, cash=100_000, commission=.001)\n",
    "        stats = bt.run()\n",
    "        trades = pd.DataFrame(stats['_trades'])\n",
    "        trades.to_sql(f\"trades_{table}\", db_connection, if_exists=\"replace\")\n",
    "        \n",
    "        risk = Risk_Metrics(trades, df_temp, 0)\n",
    "        risk_metrics_list = [f\"{table}\", len(df_backtesting), stats[\"Return [%]\"], risk._annualize(stats[\"Return [%]\"]),\n",
    "                             risk.sharpe_ratio(\"momentum_1week\"), risk.sortino_ratio(\"momentum_1week\"),\n",
    "                             risk.max_drawdown(), risk.calmar_ratio(stats[\"Return [%]\"]), len(trades), stats[\"Win Rate [%]\"]]\n",
    "        print(risk_metrics_list)\n",
    "        #df_risk.append(risk_metrics_list)\n",
    "        df_risk.loc[len(df_risk)] = risk_metrics_list\n",
    "        \n",
    "    \n",
    "    df_risk.to_sql(\"cryptocurrencies_risk_metrics_1m\", db_connection, if_exists=\"replace\")"
   ]
  },
  {
   "cell_type": "code",
   "execution_count": 12,
   "metadata": {},
   "outputs": [
    {
     "name": "stderr",
     "output_type": "stream",
     "text": [
      "<ipython-input-11-57574e064d5b>:21: UserWarning: Data index is not datetime. Assuming simple periods, but `pd.DateTimeIndex` is advised.\n",
      "  bt = Backtest(df_backtesting, Momentum_1m_long_short, cash=100_000, commission=.001)\n"
     ]
    },
    {
     "name": "stdout",
     "output_type": "stream",
     "text": [
      "['ADA_1min_complete_history_long_short', 1547195, -100.0, -33.971154250110686, -0.1961265415496819, -1.15106784816102, 1.2457557893281659, -27.269513448082208, 123, 35.77235772357724]\n",
      "['BAT_1min_complete_history_long_short', 842235, -99.81253979150982, -62.288400404183584, 0.0011666102526740703, 0.0066533309675208116, 0.9992310429469008, -62.33633436816033, 204, 30.88235294117647]\n",
      "['BCH_1min_complete_history_long_short', 2210868, 7988.725988418034, 1899.1972291030124, 19.184257817333602, 134.51709794098616, 0.3296053142890792, 5762.0346116061955, 321, 38.006230529595015]\n",
      "['BNT_1min_complete_history_long_short', 1665182, -100.0, -31.564117315704827, -0.01098340858399252, -0.0814069673663408, 1.030776619924164, -30.621685344422204, 255, 39.21568627450981]\n",
      "['BSV_1min_complete_history_long_short', 1275677, -48.9565347630978, -20.170901154041506, 0.2089915013480818, 1.181748754291276, 0.8982957805268897, -22.454631972344778, 218, 31.19266055045872]\n",
      "['BTC_1min_complete_history_long_short', 3979475, 9638.742041383086, 1273.0631093174225, 13.748456674030688, 117.26855816669352, 0.5590275813247902, 2277.281393344676, 412, 36.89320388349515]\n",
      "['BTG_1min_complete_history_long_short', 1607778, -99.79213723443682, -32.62312790100374, 0.0004964062710850802, 0.0030803731578604703, 0.9997742588863585, -32.630493945045565, 1084, 38.837638376383765]\n",
      "['CVC_1min_complete_history_long_short', 409894, -100.0, -128.22827365123666, -0.010407210987279526, -0.0544305228990258, 1.0111633887604168, -126.81261512882844, 41, 29.268292682926827]\n",
      "['DAI_1min_complete_history_long_short', 1039766, -22.728668662989946, -11.489304563976429, 0.46867230562503104, 60.697623966635554, 0.22581930583268667, -50.8783096361524, 16, 12.5]\n",
      "['DASH_1min_complete_history_long_short', 2182756, -24.851980738417595, -5.984269921197004, 0.1823063425304935, 1.2010610084640918, 0.8463635739965965, -7.070566485911963, 375, 35.733333333333334]\n",
      "['DCR_1min_complete_history_long_short', 172656, -32.53036997349942, -99.02906622458121, 2.9688597632943092, 12.656584368115444, 0.8563742546601475, -115.63760316905012, 61, 27.86885245901639]\n",
      "['DOGE_1min_complete_history_long_short', 1945263, -100.0, -27.01948271262035, -207.6063198007535, -959.3517952791898, 7.766799033488058, -3.4788440638312665, 127, 41.732283464566926]\n",
      "['EOS_1min_complete_history_long_short', 2446414, -3.559787071767205, -0.7648027214203496, 0.2070971151405264, 1.3259964959557986, 0.9881089539098606, -0.7740064680054686, 437, 36.61327231121281]\n",
      "['ETC_1min_complete_history_long_short', 2481866, -100.0, -21.177613940478658, -52.34850428143341, -136.83279380084366, 1.9529202656361138, -10.84407505678712, 63, 42.857142857142854]\n",
      "['ETH_1min_complete_history_long_short', 2749464, 101372.88208510542, 19378.89960513446, 202.93221913355708, 1352.6052346879703, 0.572594501784519, 33844.01971157453, 270, 42.592592592592595]\n",
      "['FUN_1min_complete_history_long_short', 141418, -98.34846886057966, -365.5259955106186, 0.035315267600085125, 0.2718727193785075, 0.9922525584243487, -368.3799980229399, 147, 29.931972789115648]\n",
      "['ICX_1min_complete_history_long_short', 1012887, -99.14744104587993, -51.44887338243505, 0.004422455962983486, 0.02482907520243892, 0.9977593022284121, -51.56441364919203, 348, 27.298850574712645]\n",
      "['IOST_1min_complete_history_long_short', 814373, -97.67425985792991, -63.039406980987785, 0.01517134876300612, 0.07961762797285009, 0.992514410498237, -63.5148530985483, 208, 27.884615384615387]\n",
      "['KNC_1min_complete_history_long_short', 948722, -96.71490910462914, -53.580876405725895, 0.018581077691686772, 0.11903024427348684, 0.9778834262986973, -54.79270326579751, 362, 32.04419889502763]\n",
      "['LINK_1min_complete_history_long_short', 1396103, 197.4024828663813, 74.31739993006964, 1.1435021007353203, 8.58861659660929, 0.564596957902703, 131.6291185948557, 176, 34.659090909090914]\n",
      "['LRC_1min_complete_history_long_short', 762333, -55.60746348147965, -38.339259622587115, 0.3064756883709171, 1.843079434859169, 0.8983436237537271, -42.6777222087764, 132, 34.84848484848485]\n",
      "['LSK_1min_complete_history_long_short', 939275, -26.94323392532853, -15.07690905342171, 0.40232991427073755, 2.1872807221431105, 0.8730817220706577, -17.268611485376567, 248, 35.88709677419355]\n",
      "['LTC_1min_complete_history_long_short', 2649734, 3168.625075446884, 628.5269916357197, 6.594695395489279, 47.30247277543522, 0.5493540669101247, 1144.1200302218713, 592, 40.54054054054054]\n",
      "['MAID_1min_complete_history_long_short', 1688680, -99.99517943837955, -31.123401895452243, 1.416525156724871e-05, 9.358861163784442e-05, 0.999990518760769, -31.123696986669124, 504, 30.357142857142854]\n",
      "['MANA_1min_complete_history_long_short', 757952, -99.47594053418976, -68.9813528360241, 0.003245065865941748, 0.01857959653166541, 0.9991598442690145, -69.03935664717477, 368, 29.6195652173913]\n",
      "['MKR_1min_complete_history_long_short', 925405, -53.27987023999968, -30.26123675379302, 0.2692784807041691, 1.545841087850237, 0.8208958692794118, -36.86367283143542, 154, 30.519480519480517]\n",
      "['NEO_1min_complete_history_long_short', 1908641, -69.87119948403931, -19.24107385768778, 0.08269188198274878, 0.5309336293362567, 0.9902913443976095, -19.429710222694165, 406, 36.206896551724135]\n",
      "['OMG_1min_complete_history_long_short', 1926152, 148.2457327008315, 40.45265228681694, 0.672432906006794, 3.7706620906867645, 0.6161447033589225, 65.65446731309817, 320, 33.4375]\n",
      "['ONT_1min_complete_history_long_short', 958254, 4.737039859821874, 2.59825489935067, 0.5749527419386835, 3.7683977584588337, 0.8843082564913944, 2.938177813310912, 168, 38.095238095238095]\n",
      "['PAX_1min_complete_history_long_short', 254268, -1.9405583534399484, -4.011348146711489, 1.8884371008098564, 218.9413309230361, 0.021979021979021816, -182.5080365514069, 5, 40.0]\n",
      "['QTUM_1min_complete_history_long_short', 1109654, 342.254707545652, 162.11276153286946, 2.1061453284733513, 12.810696431257458, 0.6527349417655613, 248.35925145109584, 196, 34.69387755102041]\n",
      "['REP_1min_complete_history_long_short', 1448903, -100.0, -36.275720320822025, -0.24976500266497573, -1.3417685153243613, 1.6538738181020005, -21.93378958163347, 15, 26.666666666666668]\n",
      "['SC_1min_complete_history_long_short', 393233, -64.52392820543928, -86.24346548936352, 0.4910681947194996, 1.9764764510746877, 0.902794013684439, -95.52950527151911, 166, 31.32530120481928]\n",
      "['SNT_1min_complete_history_long_short', 187682, -95.05576888541974, -266.2019379917979, 0.1345712181290631, 0.5344986295935102, 0.956715395174915, -278.24569285114154, 96, 31.25]\n",
      "['TRX_1min_complete_history_long_short', 1937323, 1604.466767040502, 435.2953703416972, 4.4512499369074785, 33.88979246108819, 0.6136249795298253, 709.3833935431236, 258, 41.08527131782946]\n",
      "['USDT_1min_complete_history_long_short', 1413984, -40.62287748199997, -15.100159835287517, 0.24187154697791577, 21.057663358630553, 0.3160800133378186, -47.77321943209625, 10, 20.0]\n",
      "['UTK_1min_complete_history_long_short', 378850, -100.0, -138.73564735383397, -0.7976676761807602, -7.1559840127834, 1.52788310279888, -90.80252743137783, 7, 28.57142857142857]\n",
      "['VET_1min_complete_history_long_short', 358735, -85.06471516545946, -124.63242864779153, 0.22611275958950838, 0.8590288364804598, 0.948807168298586, -131.35696357699752, 218, 33.48623853211009]\n",
      "['WAVES_1min_complete_history_long_short', 276485, -50.75395433525989, -96.48363708198491, 0.9916126345287273, 3.5283158986482692, 0.8967019968893714, -107.59832967550352, 106, 25.471698113207548]\n",
      "['XEM_1min_complete_history_long_short', 1591810, 116.94342681109104, 38.61356891331845, 0.7146393878352294, 3.714395070062754, 0.3991948027700082, 96.72863635843788, 296, 33.44594594594595]\n",
      "['XVG_1min_complete_history_long_short', 1002183, -99.48554438144878, -52.175702568183134, 0.0026416677237971857, 0.014248652134785843, 0.9990801530482801, -52.22374041661276, 440, 33.63636363636363]\n"
     ]
    }
   ],
   "source": [
    "run_backtesting(connection)"
   ]
  }
 ],
 "metadata": {
  "interpreter": {
   "hash": "f7a2edc2e0af523844596de9c639cd0428457baa318d70c85b16ead7cea2cb8f"
  },
  "kernelspec": {
   "display_name": "Python 3.8.3",
   "language": "python",
   "name": "python3"
  },
  "language_info": {
   "codemirror_mode": {
    "name": "ipython",
    "version": 3
   },
   "file_extension": ".py",
   "mimetype": "text/x-python",
   "name": "python",
   "nbconvert_exporter": "python",
   "pygments_lexer": "ipython3",
   "version": "3.8.3"
  },
  "orig_nbformat": 4
 },
 "nbformat": 4,
 "nbformat_minor": 2
}

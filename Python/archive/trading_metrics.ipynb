{
 "cells": [
  {
   "cell_type": "code",
   "execution_count": 1,
   "metadata": {},
   "outputs": [],
   "source": [
    "from data_storage import create_connection\n",
    "import pandas as pd\n",
    "import matplotlib.pyplot as plt\n",
    "import numpy as np"
   ]
  },
  {
   "cell_type": "code",
   "execution_count": 2,
   "metadata": {},
   "outputs": [],
   "source": [
    "connection = create_connection(\"../database/crypto_billionairs.db\")"
   ]
  },
  {
   "cell_type": "code",
   "execution_count": 3,
   "metadata": {},
   "outputs": [],
   "source": [
    "df = pd.read_sql_query('select * from ETHUSDT_5m_complete_history_long', connection)"
   ]
  },
  {
   "cell_type": "code",
   "execution_count": 4,
   "metadata": {},
   "outputs": [],
   "source": [
    "def calculate_cumulated_return(df, start_sum):\n",
    "\n",
    "    money = start_sum\n",
    "    money_history = []\n",
    "    sell_index = 0\n",
    "\n",
    "    for index, row in df[['close', 'buy_indicator', 'sell_indicator']].iterrows():\n",
    "        \n",
    "\n",
    "        if row[\"buy_indicator\"] == 1 and money != 0 and index > sell_index:\n",
    "            assets = money / row[\"close\"]\n",
    "            money = 0\n",
    "            buy_index = index\n",
    "            sell_index = buy_index + 2015\n",
    "\n",
    "        if sell_index == index and money == 0: \n",
    "            money = assets * df[\"close\"][sell_index]\n",
    "            money_history.append(money)\n",
    "            assets = 0\n",
    "\n",
    "        \n",
    "        if len(df) - 1 == index and assets != 0:\n",
    "            money = assets * row[\"close\"]\n",
    "            money_history.append(money)\n",
    "            assets = 0\n",
    "\n",
    "    return money / start_sum, money_history\n",
    "\n",
    "result, hist = calculate_cumulated_return(df, 10000)"
   ]
  },
  {
   "cell_type": "code",
   "execution_count": 5,
   "metadata": {},
   "outputs": [],
   "source": [
    "hist_diff = [j/i - 1 for i, j in zip(hist[:-1], hist[1:])]"
   ]
  },
  {
   "cell_type": "code",
   "execution_count": 67,
   "metadata": {},
   "outputs": [],
   "source": [
    "#sharp ratio, sortino ratio, maximum drawdown, carl mar ratio "
   ]
  },
  {
   "cell_type": "code",
   "execution_count": 21,
   "metadata": {},
   "outputs": [
    {
     "name": "stdout",
     "output_type": "stream",
     "text": [
      "0.003353335788361102\n"
     ]
    },
    {
     "data": {
      "text/plain": [
       "31.35801861266217"
      ]
     },
     "execution_count": 21,
     "metadata": {},
     "output_type": "execute_result"
    }
   ],
   "source": [
    "# sharpe ratio \n",
    "\n",
    "#To calcualte the sharp ratio you first calculate the expected return on an investment portfolio or individual stock\n",
    "# and then substract the risk-free rate of return. Then you devide that figure by then standard deviation of the portfolio\n",
    "# or invstment. The shape ratio can be recalculated at the end of the year to examine the actual return rather than the expected return \n",
    "def _std_dev(data):\n",
    "    # Get number of observations\n",
    "    n = len(data)\n",
    "    # Calculate mean\n",
    "    mean = sum(data) / n\n",
    "    \n",
    "    # Calculate deviations from the mean\n",
    "    deviations = sum([(x - mean)**2 for x in data])\n",
    "    # Calculate Variance & Standard Deviation\n",
    "    variance = deviations / (n - 1)\n",
    "    s = variance**(1/2)\n",
    "    \n",
    "    return s\n",
    "\n",
    "def sharpe_ratio(return_trading_strategy, df,  risk_free_rate=0.0):\n",
    "    # Calculate Average Daily Return\n",
    "    mean_return = sum(return_trading_strategy) / len(return_trading_strategy)\n",
    "    # Calculate Standard Deviation\n",
    "    s = _std_dev(df[\"return\"][1:])\n",
    "    # Calculate Daily Sharpe Ratio\n",
    "    sharpe_ratio = (mean_return - risk_free_rate) / s\n",
    "    # Annualize Daily Sharpe Ratio \n",
    "    \n",
    "    return sharpe_ratio\n",
    "\n",
    "sharpe_ratio(hist_diff, df, 0)"
   ]
  },
  {
   "cell_type": "code",
   "execution_count": 7,
   "metadata": {},
   "outputs": [
    {
     "data": {
      "text/plain": [
       "1.1989109766584085"
      ]
     },
     "execution_count": 7,
     "metadata": {},
     "output_type": "execute_result"
    }
   ],
   "source": [
    "def sortino_ratio(data, risk_free_rate=0.0):\n",
    "    \n",
    "    data_downside_risk = [x for x in data if x < 0]\n",
    "    \n",
    "    mean_return = sum(data) / len(data)\n",
    "    # Calculate Standard Deviation\n",
    "    s = _std_dev(data_downside_risk)\n",
    "    # Calculate Daily Sharpe Ratio\n",
    "    sortino_ratio = (mean_return - risk_free_rate) / s\n",
    "    \n",
    "    return sortino_ratio\n",
    "sortino_ratio(hist_diff, 0)"
   ]
  },
  {
   "cell_type": "code",
   "execution_count": 8,
   "metadata": {},
   "outputs": [],
   "source": [
    "def max_drawdown(data):\n",
    "    \n",
    "    #peak = data[\"close\"].max()\n",
    "    #trough = data[\"close\"][data[\"close\"].idxmax():].min()\n",
    "    \n",
    "    peak = max(data)\n",
    "    \n",
    "    trough = min(data[data.index(peak):])\n",
    "    \n",
    "    max_drawdown = (peak - trough) / peak\n",
    "    \n",
    "    return max_drawdown"
   ]
  },
  {
   "cell_type": "code",
   "execution_count": 9,
   "metadata": {},
   "outputs": [],
   "source": [
    "hist_return_pct = [ x / 10000 for x in hist]"
   ]
  },
  {
   "cell_type": "code",
   "execution_count": 10,
   "metadata": {},
   "outputs": [
    {
     "data": {
      "text/plain": [
       "0.0"
      ]
     },
     "execution_count": 10,
     "metadata": {},
     "output_type": "execute_result"
    }
   ],
   "source": [
    "max_drawdown(hist_return_pct)"
   ]
  },
  {
   "cell_type": "code",
   "execution_count": null,
   "metadata": {},
   "outputs": [],
   "source": [
    "def calmar_ratio(data):\n",
    "    "
   ]
  }
 ],
 "metadata": {
  "interpreter": {
   "hash": "f7a2edc2e0af523844596de9c639cd0428457baa318d70c85b16ead7cea2cb8f"
  },
  "kernelspec": {
   "display_name": "Python 3.8.3",
   "language": "python",
   "name": "python3"
  },
  "language_info": {
   "codemirror_mode": {
    "name": "ipython",
    "version": 3
   },
   "file_extension": ".py",
   "mimetype": "text/x-python",
   "name": "python",
   "nbconvert_exporter": "python",
   "pygments_lexer": "ipython3",
   "version": "3.8.3"
  },
  "orig_nbformat": 4
 },
 "nbformat": 4,
 "nbformat_minor": 2
}

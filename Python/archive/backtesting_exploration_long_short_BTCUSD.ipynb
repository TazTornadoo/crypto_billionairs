{
 "cells": [
  {
   "cell_type": "code",
   "execution_count": 1,
   "metadata": {},
   "outputs": [],
   "source": [
    "import pandas as pd\n",
    "import numpy as np\n",
    "from backtesting import Backtest, Strategy\n",
    "from data_storage import create_connection\n",
    "from stockstats import StockDataFrame"
   ]
  },
  {
   "cell_type": "code",
   "execution_count": 2,
   "metadata": {},
   "outputs": [],
   "source": [
    "connection = create_connection(\"../database/crypto_billionairs.db\")"
   ]
  },
  {
   "cell_type": "code",
   "execution_count": 3,
   "metadata": {},
   "outputs": [],
   "source": [
    "table = \"BTCUSDT_1m_complete_history_long_short\""
   ]
  },
  {
   "cell_type": "code",
   "execution_count": 4,
   "metadata": {},
   "outputs": [],
   "source": [
    "df_long = pd.read_sql_query(f'select * from {table}', connection)"
   ]
  },
  {
   "cell_type": "code",
   "execution_count": 5,
   "metadata": {},
   "outputs": [],
   "source": [
    "df_backtesting = pd.DataFrame()\n",
    "if \"5m\" not in table:\n",
    "    #df_backtesting[\"time\"] = df_long[\"time\"]\n",
    "    df_backtesting[['Open', 'High', 'Low', 'Close', \"Volume\"]] = df_long[['open', 'high', 'low', 'close', 'volume']]\n",
    "    #df_backtesting = df_backtesting.set_index(\"time\")\n",
    "\n",
    "else:\n",
    "    df_backtesting[['Open', 'High', 'Low', 'Close', \"Volume\"]] = df_long[['open', 'high', 'low', 'close', 'volume']]"
   ]
  },
  {
   "cell_type": "code",
   "execution_count": 6,
   "metadata": {},
   "outputs": [],
   "source": [
    "df_backtesting = df_backtesting[1200000:]\n",
    "df_long = df_long[1200000:]"
   ]
  },
  {
   "cell_type": "code",
   "execution_count": 7,
   "metadata": {},
   "outputs": [],
   "source": [
    "def calculate_osc(data):\n",
    "    \n",
    "   \n",
    "    df_temp = pd.DataFrame()    \n",
    "    stock = StockDataFrame.retype(data)\n",
    "    \n",
    "    df_temp[\"stochastic_oscillator\"] = stock.get('kdjk')\n",
    "    \n",
    "    return df_temp[\"stochastic_oscillator\"]\n",
    "\n",
    "def calucalte_rsi(data):\n",
    "    \n",
    "    df_temp = pd.DataFrame()    \n",
    "    stock = StockDataFrame.retype(data)\n",
    "    \n",
    "    df_temp[\"relative_strength_index\"] = stock.get(\"rsi_30\")\n",
    "    \n",
    "    return df_temp[\"relative_strength_index\"]\n",
    "\n",
    "def momentum(df, lag):\n",
    "    return df[\"close\"].pct_change(periods=lag)\n",
    "\n",
    "def init_close_long_signal(df):\n",
    "    \n",
    "    return df_long['close_indicator']\n",
    "\n",
    "def init_buy_signal(df):\n",
    "    \n",
    "    return df_long['buy_indicator']\n",
    "\n",
    "def init_short_signal(df):\n",
    "    \n",
    "    return df_long['short_indicator']\n",
    "\n",
    "def init_close_short_signal(df):\n",
    "    \n",
    "    return df_long['short_close_indicator']\n",
    "    "
   ]
  },
  {
   "cell_type": "code",
   "execution_count": 8,
   "metadata": {},
   "outputs": [],
   "source": [
    "class OscRsi_5m_long_short(Strategy):\n",
    "   \n",
    "    lag = 4\n",
    "    \n",
    "    def init(self):\n",
    "        # compute the rsi and stochastic oscillator with stockstats and return the buy signal of the current row\n",
    "        \n",
    "        self.osc = self.I(calculate_osc, self.data.df)\n",
    "        self.rsi = self.I(calucalte_rsi, self.data.df)\n",
    "        self.buy_init = self.I(init_buy_signal, self.data.df)\n",
    "        #self.close_buy_init = self.I(init_close_long_signal, self.data.df)\n",
    "        self.short_init = self.I(init_short_signal, self.data.df)\n",
    "        #self.close_short_init = self.I(init_close_short_signal, self.data.df)\n",
    "        self.data.df[['Open', 'High', 'Low', 'Close', \"Volume\",]] = self.data.df[['open', 'high', 'low', 'close', \"volume\"]]\n",
    "        self.returns = self.I(momentum, self.data.df, self.lag)\n",
    "        self.data.df.drop(self.data.df.columns.difference(['Open', 'High', 'Low', 'Close', \"Volume\", \"kdjk\", \"rsi_30\"]), 1, inplace=True)\n",
    "        \n",
    "       \n",
    "    \n",
    "    def next(self):\n",
    "        \n",
    "        if self.buy_init[-1] == 1 and self.position.is_long is False:\n",
    "            self.position.close()\n",
    "            self.buy()\n",
    "            \n",
    "        # elif self.close_buy_init[-1] == 1 and self.position.is_long:\n",
    "        #     self.position.close()\n",
    "             \n",
    "             \n",
    "        elif self.short_init[-1] == -1 and self.position.is_short is False:\n",
    "            self.position.close()\n",
    "            self.sell()\n",
    "            \n",
    "        # elif self.close_short_init[-1] == 1 and self.position.is_short:\n",
    "        #      self.position.close()\n"
   ]
  },
  {
   "cell_type": "code",
   "execution_count": 9,
   "metadata": {},
   "outputs": [
    {
     "name": "stderr",
     "output_type": "stream",
     "text": [
      "<ipython-input-9-96704af4b3b0>:1: UserWarning: Data index is not datetime. Assuming simple periods, but `pd.DateTimeIndex` is advised.\n",
      "  bt = Backtest(df_backtesting, OscRsi_5m_long_short, cash=100_000, commission=.001)\n"
     ]
    },
    {
     "data": {
      "text/plain": [
       "Start                                 1.2e+06\n",
       "End                               3.97947e+06\n",
       "Duration                          2.77947e+06\n",
       "Exposure Time [%]                     99.1168\n",
       "Equity Final [$]                       342938\n",
       "Equity Peak [$]                        773898\n",
       "Return [%]                            242.938\n",
       "Buy & Hold Return [%]                 5867.11\n",
       "Return (Ann.) [%]                           0\n",
       "Volatility (Ann.) [%]                     NaN\n",
       "Sharpe Ratio                              NaN\n",
       "Sortino Ratio                             NaN\n",
       "Calmar Ratio                                0\n",
       "Max. Drawdown [%]                    -73.4746\n",
       "Avg. Drawdown [%]                    -2.33718\n",
       "Max. Drawdown Duration                 801354\n",
       "Avg. Drawdown Duration                3974.77\n",
       "# Trades                                  298\n",
       "Win Rate [%]                          35.2349\n",
       "Best Trade [%]                        123.693\n",
       "Worst Trade [%]                      -17.4264\n",
       "Avg. Trade [%]                       0.419927\n",
       "Max. Trade Duration                    111269\n",
       "Avg. Trade Duration                   9244.71\n",
       "Profit Factor                         1.38378\n",
       "Expectancy [%]                        1.18877\n",
       "SQN                                  0.577422\n",
       "_strategy                 OscRsi_5m_long_s...\n",
       "_equity_curve                             ...\n",
       "_trades                        Size  Entry...\n",
       "dtype: object"
      ]
     },
     "execution_count": 9,
     "metadata": {},
     "output_type": "execute_result"
    }
   ],
   "source": [
    "bt = Backtest(df_backtesting, OscRsi_5m_long_short, cash=100_000, commission=.001)\n",
    "stats = bt.run()\n",
    "stats"
   ]
  },
  {
   "cell_type": "code",
   "execution_count": 10,
   "metadata": {},
   "outputs": [],
   "source": [
    "# bt.plot()"
   ]
  },
  {
   "cell_type": "code",
   "execution_count": 11,
   "metadata": {},
   "outputs": [],
   "source": [
    "# %%time \n",
    "# stats = bt.optimize(lag=[12, 24, 48, 96, 120, 144, 168],\n",
    "#                     sell_ = np.arange(60, 90, 3).tolist(),#sell_threshold = np.arange(0, -0.15, -0.01).tolist(),\n",
    "#                     rsi_lower_bound = np.arange(10, 40, 3).tolist(),\n",
    "#                     rsi_upper_bound = np.arange(12, 50, 3).tolist(),\n",
    "#                     #osc_lower_bound = np.arange(10, 90, 5).tolist(),\n",
    "#                     #osc_upper_bound = np.arange(10, 100, 5).tolist(),\n",
    "#                     #maximize='Equity Final [$]')#,\n",
    "#                     constraint= lambda param: param.rsi_lower_bound < param.rsi_upper_bound)\n",
    "# stats"
   ]
  },
  {
   "cell_type": "code",
   "execution_count": 12,
   "metadata": {},
   "outputs": [
    {
     "data": {
      "text/plain": [
       "<Strategy OscRsi_5m_long_short>"
      ]
     },
     "execution_count": 12,
     "metadata": {},
     "output_type": "execute_result"
    }
   ],
   "source": [
    "stats._strategy"
   ]
  },
  {
   "cell_type": "code",
   "execution_count": 13,
   "metadata": {},
   "outputs": [
    {
     "data": {
      "text/html": [
       "<div>\n",
       "<style scoped>\n",
       "    .dataframe tbody tr th:only-of-type {\n",
       "        vertical-align: middle;\n",
       "    }\n",
       "\n",
       "    .dataframe tbody tr th {\n",
       "        vertical-align: top;\n",
       "    }\n",
       "\n",
       "    .dataframe thead th {\n",
       "        text-align: right;\n",
       "    }\n",
       "</style>\n",
       "<table border=\"1\" class=\"dataframe\">\n",
       "  <thead>\n",
       "    <tr style=\"text-align: right;\">\n",
       "      <th></th>\n",
       "      <th>Size</th>\n",
       "      <th>EntryBar</th>\n",
       "      <th>ExitBar</th>\n",
       "      <th>EntryPrice</th>\n",
       "      <th>ExitPrice</th>\n",
       "      <th>PnL</th>\n",
       "      <th>ReturnPct</th>\n",
       "      <th>EntryTime</th>\n",
       "      <th>ExitTime</th>\n",
       "      <th>Duration</th>\n",
       "    </tr>\n",
       "  </thead>\n",
       "  <tbody>\n",
       "    <tr>\n",
       "      <th>0</th>\n",
       "      <td>-115</td>\n",
       "      <td>24548</td>\n",
       "      <td>24698</td>\n",
       "      <td>869.13000</td>\n",
       "      <td>998.99</td>\n",
       "      <td>-14933.90000</td>\n",
       "      <td>-0.149414</td>\n",
       "      <td>1224548</td>\n",
       "      <td>1224698</td>\n",
       "      <td>150</td>\n",
       "    </tr>\n",
       "    <tr>\n",
       "      <th>1</th>\n",
       "      <td>85</td>\n",
       "      <td>24698</td>\n",
       "      <td>25884</td>\n",
       "      <td>999.98899</td>\n",
       "      <td>887.76</td>\n",
       "      <td>-9539.46415</td>\n",
       "      <td>-0.112230</td>\n",
       "      <td>1224698</td>\n",
       "      <td>1225884</td>\n",
       "      <td>1186</td>\n",
       "    </tr>\n",
       "    <tr>\n",
       "      <th>2</th>\n",
       "      <td>-85</td>\n",
       "      <td>25884</td>\n",
       "      <td>43033</td>\n",
       "      <td>886.87224</td>\n",
       "      <td>895.25</td>\n",
       "      <td>-712.10960</td>\n",
       "      <td>-0.009446</td>\n",
       "      <td>1225884</td>\n",
       "      <td>1243033</td>\n",
       "      <td>17149</td>\n",
       "    </tr>\n",
       "    <tr>\n",
       "      <th>3</th>\n",
       "      <td>83</td>\n",
       "      <td>43033</td>\n",
       "      <td>114095</td>\n",
       "      <td>896.14525</td>\n",
       "      <td>1153.80</td>\n",
       "      <td>21385.34425</td>\n",
       "      <td>0.287514</td>\n",
       "      <td>1243033</td>\n",
       "      <td>1314095</td>\n",
       "      <td>71062</td>\n",
       "    </tr>\n",
       "    <tr>\n",
       "      <th>4</th>\n",
       "      <td>-83</td>\n",
       "      <td>114095</td>\n",
       "      <td>116316</td>\n",
       "      <td>1152.64620</td>\n",
       "      <td>1334.90</td>\n",
       "      <td>-15127.06540</td>\n",
       "      <td>-0.158118</td>\n",
       "      <td>1314095</td>\n",
       "      <td>1316316</td>\n",
       "      <td>2221</td>\n",
       "    </tr>\n",
       "    <tr>\n",
       "      <th>...</th>\n",
       "      <td>...</td>\n",
       "      <td>...</td>\n",
       "      <td>...</td>\n",
       "      <td>...</td>\n",
       "      <td>...</td>\n",
       "      <td>...</td>\n",
       "      <td>...</td>\n",
       "      <td>...</td>\n",
       "      <td>...</td>\n",
       "      <td>...</td>\n",
       "    </tr>\n",
       "    <tr>\n",
       "      <th>293</th>\n",
       "      <td>7</td>\n",
       "      <td>2687205</td>\n",
       "      <td>2715724</td>\n",
       "      <td>37988.91096</td>\n",
       "      <td>41821.00</td>\n",
       "      <td>26824.62328</td>\n",
       "      <td>0.100874</td>\n",
       "      <td>3887205</td>\n",
       "      <td>3915724</td>\n",
       "      <td>28519</td>\n",
       "    </tr>\n",
       "    <tr>\n",
       "      <th>294</th>\n",
       "      <td>-7</td>\n",
       "      <td>2715724</td>\n",
       "      <td>2729724</td>\n",
       "      <td>41779.17900</td>\n",
       "      <td>39369.32</td>\n",
       "      <td>16869.01300</td>\n",
       "      <td>0.057681</td>\n",
       "      <td>3915724</td>\n",
       "      <td>3929724</td>\n",
       "      <td>14000</td>\n",
       "    </tr>\n",
       "    <tr>\n",
       "      <th>295</th>\n",
       "      <td>8</td>\n",
       "      <td>2729724</td>\n",
       "      <td>2741948</td>\n",
       "      <td>39408.68932</td>\n",
       "      <td>38545.09</td>\n",
       "      <td>-6908.79456</td>\n",
       "      <td>-0.021914</td>\n",
       "      <td>3929724</td>\n",
       "      <td>3941948</td>\n",
       "      <td>12224</td>\n",
       "    </tr>\n",
       "    <tr>\n",
       "      <th>296</th>\n",
       "      <td>-8</td>\n",
       "      <td>2741948</td>\n",
       "      <td>2748506</td>\n",
       "      <td>38506.54491</td>\n",
       "      <td>40137.00</td>\n",
       "      <td>-13043.64072</td>\n",
       "      <td>-0.042342</td>\n",
       "      <td>3941948</td>\n",
       "      <td>3948506</td>\n",
       "      <td>6558</td>\n",
       "    </tr>\n",
       "    <tr>\n",
       "      <th>297</th>\n",
       "      <td>7</td>\n",
       "      <td>2748506</td>\n",
       "      <td>2779473</td>\n",
       "      <td>40177.13700</td>\n",
       "      <td>46296.62</td>\n",
       "      <td>42836.38100</td>\n",
       "      <td>0.152313</td>\n",
       "      <td>3948506</td>\n",
       "      <td>3979473</td>\n",
       "      <td>30967</td>\n",
       "    </tr>\n",
       "  </tbody>\n",
       "</table>\n",
       "<p>298 rows × 10 columns</p>\n",
       "</div>"
      ],
      "text/plain": [
       "     Size  EntryBar  ExitBar   EntryPrice  ExitPrice          PnL  ReturnPct  \\\n",
       "0    -115     24548    24698    869.13000     998.99 -14933.90000  -0.149414   \n",
       "1      85     24698    25884    999.98899     887.76  -9539.46415  -0.112230   \n",
       "2     -85     25884    43033    886.87224     895.25   -712.10960  -0.009446   \n",
       "3      83     43033   114095    896.14525    1153.80  21385.34425   0.287514   \n",
       "4     -83    114095   116316   1152.64620    1334.90 -15127.06540  -0.158118   \n",
       "..    ...       ...      ...          ...        ...          ...        ...   \n",
       "293     7   2687205  2715724  37988.91096   41821.00  26824.62328   0.100874   \n",
       "294    -7   2715724  2729724  41779.17900   39369.32  16869.01300   0.057681   \n",
       "295     8   2729724  2741948  39408.68932   38545.09  -6908.79456  -0.021914   \n",
       "296    -8   2741948  2748506  38506.54491   40137.00 -13043.64072  -0.042342   \n",
       "297     7   2748506  2779473  40177.13700   46296.62  42836.38100   0.152313   \n",
       "\n",
       "     EntryTime  ExitTime  Duration  \n",
       "0      1224548   1224698       150  \n",
       "1      1224698   1225884      1186  \n",
       "2      1225884   1243033     17149  \n",
       "3      1243033   1314095     71062  \n",
       "4      1314095   1316316      2221  \n",
       "..         ...       ...       ...  \n",
       "293    3887205   3915724     28519  \n",
       "294    3915724   3929724     14000  \n",
       "295    3929724   3941948     12224  \n",
       "296    3941948   3948506      6558  \n",
       "297    3948506   3979473     30967  \n",
       "\n",
       "[298 rows x 10 columns]"
      ]
     },
     "execution_count": 13,
     "metadata": {},
     "output_type": "execute_result"
    }
   ],
   "source": [
    "stats['_trades']\n"
   ]
  },
  {
   "cell_type": "code",
   "execution_count": 14,
   "metadata": {},
   "outputs": [],
   "source": [
    "trades = pd.DataFrame(stats['_trades'])"
   ]
  },
  {
   "cell_type": "code",
   "execution_count": 15,
   "metadata": {},
   "outputs": [],
   "source": [
    "trades.to_sql(f\"trades_{table}\", connection, if_exists=\"replace\")"
   ]
  },
  {
   "cell_type": "code",
   "execution_count": 16,
   "metadata": {},
   "outputs": [],
   "source": [
    "trades.to_excel(f\"trades_{table}.xlsx\")"
   ]
  },
  {
   "cell_type": "code",
   "execution_count": 17,
   "metadata": {},
   "outputs": [],
   "source": [
    "from risk_metrics import Risk_Metrics"
   ]
  },
  {
   "cell_type": "code",
   "execution_count": 18,
   "metadata": {},
   "outputs": [
    {
     "data": {
      "text/plain": [
       "297    0.717987\n",
       "Name: ReturnPct, dtype: float64"
      ]
     },
     "execution_count": 18,
     "metadata": {},
     "output_type": "execute_result"
    }
   ],
   "source": [
    "Risk_Metrics(trades, df_long, 0).sharpe_ratio(\"momentum_1day\")"
   ]
  },
  {
   "cell_type": "code",
   "execution_count": 19,
   "metadata": {},
   "outputs": [
    {
     "data": {
      "text/plain": [
       "297    7.331461\n",
       "Name: ReturnPct, dtype: float64"
      ]
     },
     "execution_count": 19,
     "metadata": {},
     "output_type": "execute_result"
    }
   ],
   "source": [
    "Risk_Metrics(trades, df_long, 0).sortino_ratio(\"momentum_1day\")"
   ]
  },
  {
   "cell_type": "code",
   "execution_count": 20,
   "metadata": {},
   "outputs": [
    {
     "data": {
      "text/plain": [
       "0.5590275813247902"
      ]
     },
     "execution_count": 20,
     "metadata": {},
     "output_type": "execute_result"
    }
   ],
   "source": [
    "Risk_Metrics(trades, df_long, 0).max_drawdown()"
   ]
  },
  {
   "cell_type": "code",
   "execution_count": 25,
   "metadata": {},
   "outputs": [
    {
     "data": {
      "text/plain": [
       "82.17772851547416"
      ]
     },
     "execution_count": 25,
     "metadata": {},
     "output_type": "execute_result"
    }
   ],
   "source": [
    "Risk_Metrics(trades, df_long, 0).calmar_ratio(stats[\"Return [%]\"]) "
   ]
  }
 ],
 "metadata": {
  "interpreter": {
   "hash": "f7a2edc2e0af523844596de9c639cd0428457baa318d70c85b16ead7cea2cb8f"
  },
  "kernelspec": {
   "display_name": "Python 3.8.3",
   "language": "python",
   "name": "python3"
  },
  "language_info": {
   "codemirror_mode": {
    "name": "ipython",
    "version": 3
   },
   "file_extension": ".py",
   "mimetype": "text/x-python",
   "name": "python",
   "nbconvert_exporter": "python",
   "pygments_lexer": "ipython3",
   "version": "3.8.3"
  },
  "orig_nbformat": 4
 },
 "nbformat": 4,
 "nbformat_minor": 2
}

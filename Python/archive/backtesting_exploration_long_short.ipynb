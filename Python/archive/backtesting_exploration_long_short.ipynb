{
 "cells": [
  {
   "cell_type": "code",
   "execution_count": 14,
   "metadata": {},
   "outputs": [],
   "source": [
    "import pandas as pd\n",
    "import numpy as np\n",
    "from backtesting import Backtest, Strategy\n",
    "from data_storage import create_connection\n",
    "from stockstats import StockDataFrame"
   ]
  },
  {
   "cell_type": "code",
   "execution_count": 15,
   "metadata": {},
   "outputs": [],
   "source": [
    "connection = create_connection(\"../database/crypto_billionairs.db\")"
   ]
  },
  {
   "cell_type": "code",
   "execution_count": 25,
   "metadata": {},
   "outputs": [],
   "source": [
    "table = \"BTC_1min_complete_1day_preprocessed_1day_features\""
   ]
  },
  {
   "cell_type": "code",
   "execution_count": 26,
   "metadata": {},
   "outputs": [],
   "source": [
    "df_temp = pd.read_sql_query(f\"select * from {table}\", connection)\n",
    "df_temp = df_temp[-365:].copy()\n",
    "df_backtesting = pd.DataFrame()\n",
    "df_backtesting[['Open', 'High', 'Low', 'Close', \"Volume\"]] = df_temp[['open', 'high', 'low', 'close', 'volume']]"
   ]
  },
  {
   "cell_type": "code",
   "execution_count": 27,
   "metadata": {},
   "outputs": [],
   "source": [
    "def init_buy_signal(nothing):\n",
    "    return df_temp['buy_indicator']\n",
    "\n",
    "def init_short_signal(nothing):\n",
    "    return df_temp['short_indicator']\n",
    "\n",
    "def init_close_long_signal(nothing):\n",
    "    return df_temp['close_buy_indicator']\n",
    "\n",
    "def init_close_short_signal(nothing):\n",
    "    return df_temp['close_short_indicator']\n",
    "    "
   ]
  },
  {
   "cell_type": "code",
   "execution_count": 28,
   "metadata": {},
   "outputs": [],
   "source": [
    "class Momentum_AR_raw_long_short(Strategy):\n",
    "   \n",
    "    \n",
    "    def init(self):\n",
    "        # compute the rsi and stochastic oscillator with stockstats and return the buy signal of the current row\n",
    "        \n",
    "        self.init_long_signal = self.I(init_buy_signal, self.data.df)\n",
    "        self.init_close_long_signal = self.I(init_close_long_signal, self.data.df)\n",
    "        self.init_short_signal = self.I(init_short_signal, self.data.df)\n",
    "        self.init_close_short_signal = self.I(init_close_short_signal, self.data.df)\n",
    "\n",
    "        self.data.df.drop(self.data.df.columns.difference(['Open', 'High', 'Low', 'Close', \"Volume\"]), 1, inplace=True)\n",
    "        \n",
    "       \n",
    "    \n",
    "    def next(self):\n",
    "        \n",
    "        if self.init_long_signal == 1 and self.position.is_long is False:\n",
    "            self.position.close()\n",
    "            self.buy()\n",
    "            \n",
    "        elif self.init_close_long_signal == 1:\n",
    "             self.position.close()\n",
    "             \n",
    "        elif self.init_short_signal == -1 and self.position.is_short is False:\n",
    "            self.position.close()\n",
    "            self.sell()\n",
    "            \n",
    "        elif self.init_close_short_signal == -1:\n",
    "            self.position.close()\n",
    "            \n"
   ]
  },
  {
   "cell_type": "code",
   "execution_count": 29,
   "metadata": {},
   "outputs": [
    {
     "name": "stderr",
     "output_type": "stream",
     "text": [
      "<ipython-input-29-a85c6ece0b20>:1: UserWarning: Data index is not datetime. Assuming simple periods, but `pd.DateTimeIndex` is advised.\n",
      "  bt = Backtest(df_backtesting, Momentum_AR_raw_long_short, cash=100_000, commission=.001)\n"
     ]
    },
    {
     "data": {
      "text/plain": [
       "Start                                    2912\n",
       "End                                      3276\n",
       "Duration                                  364\n",
       "Exposure Time [%]                     44.9315\n",
       "Equity Final [$]                  1.09018e+07\n",
       "Equity Peak [$]                   1.09111e+07\n",
       "Return [%]                            10801.8\n",
       "Buy & Hold Return [%]                -21.5366\n",
       "Return (Ann.) [%]                           0\n",
       "Volatility (Ann.) [%]                     NaN\n",
       "Sharpe Ratio                              NaN\n",
       "Sortino Ratio                             NaN\n",
       "Calmar Ratio                                0\n",
       "Max. Drawdown [%]                   -0.120824\n",
       "Avg. Drawdown [%]                  -0.0281125\n",
       "Max. Drawdown Duration                     10\n",
       "Avg. Drawdown Duration                  4.325\n",
       "# Trades                                   85\n",
       "Win Rate [%]                              100\n",
       "Best Trade [%]                        14.3263\n",
       "Worst Trade [%]                       2.64133\n",
       "Avg. Trade [%]                        6.03782\n",
       "Max. Trade Duration                         1\n",
       "Avg. Trade Duration                         1\n",
       "Profit Factor                             NaN\n",
       "Expectancy [%]                         6.0718\n",
       "SQN                                   6.53041\n",
       "_strategy                 Momentum_AR_raw_...\n",
       "_equity_curve                         Equi...\n",
       "_trades                       Size  EntryB...\n",
       "dtype: object"
      ]
     },
     "execution_count": 29,
     "metadata": {},
     "output_type": "execute_result"
    }
   ],
   "source": [
    "bt = Backtest(df_backtesting, Momentum_AR_raw_long_short, cash=100_000, commission=.001)\n",
    "stats = bt.run()\n",
    "stats"
   ]
  },
  {
   "cell_type": "code",
   "execution_count": 8,
   "metadata": {},
   "outputs": [
    {
     "data": {
      "text/html": [
       "<div style=\"display: table;\"><div style=\"display: table-row;\"><div style=\"display: table-cell;\"><b title=\"bokeh.models.layouts.Row\">Row</b>(</div><div style=\"display: table-cell;\">id&nbsp;=&nbsp;'1604', <span id=\"2415\" style=\"cursor: pointer;\">&hellip;)</span></div></div><div class=\"2414\" style=\"display: none;\"><div style=\"display: table-cell;\"></div><div style=\"display: table-cell;\">align&nbsp;=&nbsp;'start',</div></div><div class=\"2414\" style=\"display: none;\"><div style=\"display: table-cell;\"></div><div style=\"display: table-cell;\">aspect_ratio&nbsp;=&nbsp;None,</div></div><div class=\"2414\" style=\"display: none;\"><div style=\"display: table-cell;\"></div><div style=\"display: table-cell;\">background&nbsp;=&nbsp;None,</div></div><div class=\"2414\" style=\"display: none;\"><div style=\"display: table-cell;\"></div><div style=\"display: table-cell;\">children&nbsp;=&nbsp;[GridBox(id='1601', ...), ToolbarBox(id='1603', ...)],</div></div><div class=\"2414\" style=\"display: none;\"><div style=\"display: table-cell;\"></div><div style=\"display: table-cell;\">cols&nbsp;=&nbsp;'auto',</div></div><div class=\"2414\" style=\"display: none;\"><div style=\"display: table-cell;\"></div><div style=\"display: table-cell;\">css_classes&nbsp;=&nbsp;[],</div></div><div class=\"2414\" style=\"display: none;\"><div style=\"display: table-cell;\"></div><div style=\"display: table-cell;\">disabled&nbsp;=&nbsp;False,</div></div><div class=\"2414\" style=\"display: none;\"><div style=\"display: table-cell;\"></div><div style=\"display: table-cell;\">height&nbsp;=&nbsp;None,</div></div><div class=\"2414\" style=\"display: none;\"><div style=\"display: table-cell;\"></div><div style=\"display: table-cell;\">height_policy&nbsp;=&nbsp;'auto',</div></div><div class=\"2414\" style=\"display: none;\"><div style=\"display: table-cell;\"></div><div style=\"display: table-cell;\">js_event_callbacks&nbsp;=&nbsp;{},</div></div><div class=\"2414\" style=\"display: none;\"><div style=\"display: table-cell;\"></div><div style=\"display: table-cell;\">js_property_callbacks&nbsp;=&nbsp;{},</div></div><div class=\"2414\" style=\"display: none;\"><div style=\"display: table-cell;\"></div><div style=\"display: table-cell;\">margin&nbsp;=&nbsp;(0, 0, 0, 0),</div></div><div class=\"2414\" style=\"display: none;\"><div style=\"display: table-cell;\"></div><div style=\"display: table-cell;\">max_height&nbsp;=&nbsp;None,</div></div><div class=\"2414\" style=\"display: none;\"><div style=\"display: table-cell;\"></div><div style=\"display: table-cell;\">max_width&nbsp;=&nbsp;None,</div></div><div class=\"2414\" style=\"display: none;\"><div style=\"display: table-cell;\"></div><div style=\"display: table-cell;\">min_height&nbsp;=&nbsp;None,</div></div><div class=\"2414\" style=\"display: none;\"><div style=\"display: table-cell;\"></div><div style=\"display: table-cell;\">min_width&nbsp;=&nbsp;None,</div></div><div class=\"2414\" style=\"display: none;\"><div style=\"display: table-cell;\"></div><div style=\"display: table-cell;\">name&nbsp;=&nbsp;None,</div></div><div class=\"2414\" style=\"display: none;\"><div style=\"display: table-cell;\"></div><div style=\"display: table-cell;\">sizing_mode&nbsp;=&nbsp;'stretch_width',</div></div><div class=\"2414\" style=\"display: none;\"><div style=\"display: table-cell;\"></div><div style=\"display: table-cell;\">spacing&nbsp;=&nbsp;0,</div></div><div class=\"2414\" style=\"display: none;\"><div style=\"display: table-cell;\"></div><div style=\"display: table-cell;\">subscribed_events&nbsp;=&nbsp;[],</div></div><div class=\"2414\" style=\"display: none;\"><div style=\"display: table-cell;\"></div><div style=\"display: table-cell;\">tags&nbsp;=&nbsp;[],</div></div><div class=\"2414\" style=\"display: none;\"><div style=\"display: table-cell;\"></div><div style=\"display: table-cell;\">visible&nbsp;=&nbsp;True,</div></div><div class=\"2414\" style=\"display: none;\"><div style=\"display: table-cell;\"></div><div style=\"display: table-cell;\">width&nbsp;=&nbsp;None,</div></div><div class=\"2414\" style=\"display: none;\"><div style=\"display: table-cell;\"></div><div style=\"display: table-cell;\">width_policy&nbsp;=&nbsp;'auto')</div></div></div>\n",
       "<script>\n",
       "(function() {\n",
       "  var expanded = false;\n",
       "  var ellipsis = document.getElementById(\"2415\");\n",
       "  ellipsis.addEventListener(\"click\", function() {\n",
       "    var rows = document.getElementsByClassName(\"2414\");\n",
       "    for (var i = 0; i < rows.length; i++) {\n",
       "      var el = rows[i];\n",
       "      el.style.display = expanded ? \"none\" : \"table-row\";\n",
       "    }\n",
       "    ellipsis.innerHTML = expanded ? \"&hellip;)\" : \"&lsaquo;&lsaquo;&lsaquo;\";\n",
       "    expanded = !expanded;\n",
       "  });\n",
       "})();\n",
       "</script>\n"
      ],
      "text/plain": [
       "Row(id='1604', ...)"
      ]
     },
     "execution_count": 8,
     "metadata": {},
     "output_type": "execute_result"
    }
   ],
   "source": [
    "bt.plot()"
   ]
  },
  {
   "cell_type": "markdown",
   "metadata": {},
   "source": []
  },
  {
   "cell_type": "code",
   "execution_count": 9,
   "metadata": {},
   "outputs": [],
   "source": [
    "# %%time \n",
    "# stats = bt.optimize(lag=[12, 24, 48, 96, 120, 144, 168],\n",
    "#                     sell_ = np.arange(60, 90, 3).tolist(),#sell_threshold = np.arange(0, -0.15, -0.01).tolist(),\n",
    "#                     rsi_lower_bound = np.arange(10, 40, 3).tolist(),\n",
    "#                     rsi_upper_bound = np.arange(12, 50, 3).tolist(),\n",
    "#                     #osc_lower_bound = np.arange(10, 90, 5).tolist(),\n",
    "#                     #osc_upper_bound = np.arange(10, 100, 5).tolist(),\n",
    "#                     #maximize='Equity Final [$]')#,\n",
    "#                     constraint= lambda param: param.rsi_lower_bound < param.rsi_upper_bound)\n",
    "# stats"
   ]
  },
  {
   "cell_type": "code",
   "execution_count": 30,
   "metadata": {},
   "outputs": [
    {
     "data": {
      "text/plain": [
       "<Strategy Momentum_AR_raw_long_short>"
      ]
     },
     "execution_count": 30,
     "metadata": {},
     "output_type": "execute_result"
    }
   ],
   "source": [
    "stats._strategy"
   ]
  },
  {
   "cell_type": "code",
   "execution_count": 31,
   "metadata": {},
   "outputs": [
    {
     "data": {
      "text/html": [
       "<div>\n",
       "<style scoped>\n",
       "    .dataframe tbody tr th:only-of-type {\n",
       "        vertical-align: middle;\n",
       "    }\n",
       "\n",
       "    .dataframe tbody tr th {\n",
       "        vertical-align: top;\n",
       "    }\n",
       "\n",
       "    .dataframe thead th {\n",
       "        text-align: right;\n",
       "    }\n",
       "</style>\n",
       "<table border=\"1\" class=\"dataframe\">\n",
       "  <thead>\n",
       "    <tr style=\"text-align: right;\">\n",
       "      <th></th>\n",
       "      <th>Size</th>\n",
       "      <th>EntryBar</th>\n",
       "      <th>ExitBar</th>\n",
       "      <th>EntryPrice</th>\n",
       "      <th>ExitPrice</th>\n",
       "      <th>PnL</th>\n",
       "      <th>ReturnPct</th>\n",
       "      <th>EntryTime</th>\n",
       "      <th>ExitTime</th>\n",
       "      <th>Duration</th>\n",
       "    </tr>\n",
       "  </thead>\n",
       "  <tbody>\n",
       "    <tr>\n",
       "      <th>0</th>\n",
       "      <td>-1</td>\n",
       "      <td>5</td>\n",
       "      <td>6</td>\n",
       "      <td>57966.875100</td>\n",
       "      <td>55962.67</td>\n",
       "      <td>2004.205100</td>\n",
       "      <td>0.034575</td>\n",
       "      <td>2917</td>\n",
       "      <td>2918</td>\n",
       "      <td>1</td>\n",
       "    </tr>\n",
       "    <tr>\n",
       "      <th>1</th>\n",
       "      <td>1</td>\n",
       "      <td>11</td>\n",
       "      <td>12</td>\n",
       "      <td>59896.716880</td>\n",
       "      <td>63519.00</td>\n",
       "      <td>3622.283120</td>\n",
       "      <td>0.060475</td>\n",
       "      <td>2923</td>\n",
       "      <td>2924</td>\n",
       "      <td>1</td>\n",
       "    </tr>\n",
       "    <tr>\n",
       "      <th>2</th>\n",
       "      <td>-1</td>\n",
       "      <td>14</td>\n",
       "      <td>15</td>\n",
       "      <td>63165.810960</td>\n",
       "      <td>61451.85</td>\n",
       "      <td>1713.960960</td>\n",
       "      <td>0.027134</td>\n",
       "      <td>2926</td>\n",
       "      <td>2927</td>\n",
       "      <td>1</td>\n",
       "    </tr>\n",
       "    <tr>\n",
       "      <th>3</th>\n",
       "      <td>-1</td>\n",
       "      <td>16</td>\n",
       "      <td>17</td>\n",
       "      <td>59988.771180</td>\n",
       "      <td>56238.60</td>\n",
       "      <td>3750.171180</td>\n",
       "      <td>0.062515</td>\n",
       "      <td>2928</td>\n",
       "      <td>2929</td>\n",
       "      <td>1</td>\n",
       "    </tr>\n",
       "    <tr>\n",
       "      <th>4</th>\n",
       "      <td>-1</td>\n",
       "      <td>19</td>\n",
       "      <td>20</td>\n",
       "      <td>56415.528000</td>\n",
       "      <td>53823.48</td>\n",
       "      <td>2592.048000</td>\n",
       "      <td>0.045946</td>\n",
       "      <td>2931</td>\n",
       "      <td>2932</td>\n",
       "      <td>1</td>\n",
       "    </tr>\n",
       "    <tr>\n",
       "      <th>...</th>\n",
       "      <td>...</td>\n",
       "      <td>...</td>\n",
       "      <td>...</td>\n",
       "      <td>...</td>\n",
       "      <td>...</td>\n",
       "      <td>...</td>\n",
       "      <td>...</td>\n",
       "      <td>...</td>\n",
       "      <td>...</td>\n",
       "      <td>...</td>\n",
       "    </tr>\n",
       "    <tr>\n",
       "      <th>80</th>\n",
       "      <td>-191</td>\n",
       "      <td>336</td>\n",
       "      <td>337</td>\n",
       "      <td>42421.945590</td>\n",
       "      <td>39166.77</td>\n",
       "      <td>621738.537690</td>\n",
       "      <td>0.076733</td>\n",
       "      <td>3248</td>\n",
       "      <td>3249</td>\n",
       "      <td>1</td>\n",
       "    </tr>\n",
       "    <tr>\n",
       "      <th>81</th>\n",
       "      <td>225</td>\n",
       "      <td>341</td>\n",
       "      <td>342</td>\n",
       "      <td>38787.909160</td>\n",
       "      <td>41968.00</td>\n",
       "      <td>715520.439000</td>\n",
       "      <td>0.081987</td>\n",
       "      <td>3253</td>\n",
       "      <td>3254</td>\n",
       "      <td>1</td>\n",
       "    </tr>\n",
       "    <tr>\n",
       "      <th>82</th>\n",
       "      <td>250</td>\n",
       "      <td>346</td>\n",
       "      <td>347</td>\n",
       "      <td>37816.779000</td>\n",
       "      <td>39678.51</td>\n",
       "      <td>465432.750000</td>\n",
       "      <td>0.049230</td>\n",
       "      <td>3258</td>\n",
       "      <td>3259</td>\n",
       "      <td>1</td>\n",
       "    </tr>\n",
       "    <tr>\n",
       "      <th>83</th>\n",
       "      <td>252</td>\n",
       "      <td>348</td>\n",
       "      <td>349</td>\n",
       "      <td>39362.323000</td>\n",
       "      <td>41139.00</td>\n",
       "      <td>447722.604000</td>\n",
       "      <td>0.045136</td>\n",
       "      <td>3260</td>\n",
       "      <td>3261</td>\n",
       "      <td>1</td>\n",
       "    </tr>\n",
       "    <tr>\n",
       "      <th>84</th>\n",
       "      <td>232</td>\n",
       "      <td>359</td>\n",
       "      <td>360</td>\n",
       "      <td>44580.754568</td>\n",
       "      <td>46810.00</td>\n",
       "      <td>517184.940143</td>\n",
       "      <td>0.050005</td>\n",
       "      <td>3271</td>\n",
       "      <td>3272</td>\n",
       "      <td>1</td>\n",
       "    </tr>\n",
       "  </tbody>\n",
       "</table>\n",
       "<p>85 rows × 10 columns</p>\n",
       "</div>"
      ],
      "text/plain": [
       "    Size  EntryBar  ExitBar    EntryPrice  ExitPrice            PnL  \\\n",
       "0     -1         5        6  57966.875100   55962.67    2004.205100   \n",
       "1      1        11       12  59896.716880   63519.00    3622.283120   \n",
       "2     -1        14       15  63165.810960   61451.85    1713.960960   \n",
       "3     -1        16       17  59988.771180   56238.60    3750.171180   \n",
       "4     -1        19       20  56415.528000   53823.48    2592.048000   \n",
       "..   ...       ...      ...           ...        ...            ...   \n",
       "80  -191       336      337  42421.945590   39166.77  621738.537690   \n",
       "81   225       341      342  38787.909160   41968.00  715520.439000   \n",
       "82   250       346      347  37816.779000   39678.51  465432.750000   \n",
       "83   252       348      349  39362.323000   41139.00  447722.604000   \n",
       "84   232       359      360  44580.754568   46810.00  517184.940143   \n",
       "\n",
       "    ReturnPct  EntryTime  ExitTime  Duration  \n",
       "0    0.034575       2917      2918         1  \n",
       "1    0.060475       2923      2924         1  \n",
       "2    0.027134       2926      2927         1  \n",
       "3    0.062515       2928      2929         1  \n",
       "4    0.045946       2931      2932         1  \n",
       "..        ...        ...       ...       ...  \n",
       "80   0.076733       3248      3249         1  \n",
       "81   0.081987       3253      3254         1  \n",
       "82   0.049230       3258      3259         1  \n",
       "83   0.045136       3260      3261         1  \n",
       "84   0.050005       3271      3272         1  \n",
       "\n",
       "[85 rows x 10 columns]"
      ]
     },
     "execution_count": 31,
     "metadata": {},
     "output_type": "execute_result"
    }
   ],
   "source": [
    "stats['_trades']"
   ]
  },
  {
   "cell_type": "code",
   "execution_count": 12,
   "metadata": {},
   "outputs": [],
   "source": [
    "trades = pd.DataFrame(stats['_trades'])"
   ]
  },
  {
   "cell_type": "code",
   "execution_count": 13,
   "metadata": {},
   "outputs": [],
   "source": [
    "trades.to_excel(f\"trades_{table}_short.xlsx\")"
   ]
  },
  {
   "cell_type": "code",
   "execution_count": null,
   "metadata": {},
   "outputs": [],
   "source": []
  }
 ],
 "metadata": {
  "kernelspec": {
   "display_name": "Python 3.8.3",
   "language": "python",
   "name": "python3"
  },
  "language_info": {
   "codemirror_mode": {
    "name": "ipython",
    "version": 3
   },
   "file_extension": ".py",
   "mimetype": "text/x-python",
   "name": "python",
   "nbconvert_exporter": "python",
   "pygments_lexer": "ipython3",
   "version": "3.8.3"
  },
  "orig_nbformat": 4,
  "vscode": {
   "interpreter": {
    "hash": "cf7c0b8ed4c815043e48994c1e64c08f9d96fdc49c73ce762547f36d7ce0a11b"
   }
  }
 },
 "nbformat": 4,
 "nbformat_minor": 2
}

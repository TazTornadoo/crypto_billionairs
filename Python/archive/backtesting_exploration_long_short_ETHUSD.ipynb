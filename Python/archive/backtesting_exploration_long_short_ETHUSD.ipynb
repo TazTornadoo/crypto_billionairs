{
 "cells": [
  {
   "cell_type": "code",
   "execution_count": 1,
   "metadata": {},
   "outputs": [],
   "source": [
    "import pandas as pd\n",
    "import numpy as np\n",
    "from backtesting import Backtest, Strategy\n",
    "from data_storage import create_connection\n",
    "from stockstats import StockDataFrame"
   ]
  },
  {
   "cell_type": "code",
   "execution_count": 2,
   "metadata": {},
   "outputs": [],
   "source": [
    "connection = create_connection(\"../database/crypto_billionairs.db\")"
   ]
  },
  {
   "cell_type": "code",
   "execution_count": 3,
   "metadata": {},
   "outputs": [],
   "source": [
    "table = \"ETHUSDT_1m_complete_history_long_short\""
   ]
  },
  {
   "cell_type": "code",
   "execution_count": 4,
   "metadata": {},
   "outputs": [],
   "source": [
    "df_long = pd.read_sql_query(f'select * from {table}', connection)"
   ]
  },
  {
   "cell_type": "code",
   "execution_count": 5,
   "metadata": {},
   "outputs": [],
   "source": [
    "df_backtesting = pd.DataFrame()\n",
    "if \"5m\" not in table:\n",
    "    #df_backtesting[\"time\"] = df_long[\"time\"]\n",
    "    df_backtesting[['Open', 'High', 'Low', 'Close', \"Volume\"]] = df_long[['open', 'high', 'low', 'close', 'volume']]\n",
    "    #df_backtesting = df_backtesting.set_index(\"time\")\n",
    "\n",
    "else:\n",
    "    df_backtesting[['Open', 'High', 'Low', 'Close', \"Volume\"]] = df_long[['open', 'high', 'low', 'close', 'volume']]"
   ]
  },
  {
   "cell_type": "code",
   "execution_count": 6,
   "metadata": {},
   "outputs": [],
   "source": [
    "# df_backtesting = df_backtesting[:1000000]\n",
    "# df_long = df_long[:1000000]"
   ]
  },
  {
   "cell_type": "code",
   "execution_count": 7,
   "metadata": {},
   "outputs": [],
   "source": [
    "# def calculate_osc(data):\n",
    "    \n",
    "   \n",
    "#     df_temp = pd.DataFrame()    \n",
    "#     stock = StockDataFrame.retype(data)\n",
    "    \n",
    "#     df_temp[\"stochastic_oscillator\"] = stock.get('kdjk')\n",
    "    \n",
    "#     return df_temp[\"stochastic_oscillator\"]\n",
    "\n",
    "# def calucalte_rsi(data):\n",
    "    \n",
    "#     df_temp = pd.DataFrame()    \n",
    "#     stock = StockDataFrame.retype(data)\n",
    "    \n",
    "#     df_temp[\"relative_strength_index\"] = stock.get(\"rsi_30\")\n",
    "    \n",
    "#     return df_temp[\"relative_strength_index\"]\n",
    "\n",
    "# def momentum(df, lag):\n",
    "#     return df[\"close\"].pct_change(periods=lag)\n",
    "\n",
    "def init_close_long_signal(df):\n",
    "    \n",
    "    return df_long['close_indicator']\n",
    "\n",
    "def init_buy_signal(df):\n",
    "    \n",
    "    return df_long['buy_indicator']\n",
    "\n",
    "def init_short_signal(df):\n",
    "    \n",
    "    return df_long['short_indicator']\n",
    "\n",
    "def init_close_short_signal(df):\n",
    "    \n",
    "    return df_long['short_close_indicator']\n",
    "    "
   ]
  },
  {
   "cell_type": "code",
   "execution_count": 8,
   "metadata": {},
   "outputs": [],
   "source": [
    "class OscRsi_5m_long_short(Strategy):\n",
    "   \n",
    "    lag = 4\n",
    "    \n",
    "    def init(self):\n",
    "        # compute the rsi and stochastic oscillator with stockstats and return the buy signal of the current row\n",
    "        \n",
    "        #self.osc = self.I(calculate_osc, self.data.df)\n",
    "        #self.rsi = self.I(calucalte_rsi, self.data.df)\n",
    "        self.buy_init = self.I(init_buy_signal, self.data.df)\n",
    "        #self.close_buy_init = self.I(init_close_long_signal, self.data.df)\n",
    "        self.short_init = self.I(init_short_signal, self.data.df)\n",
    "        #self.close_short_init = self.I(init_close_short_signal, self.data.df)\n",
    "        #self.data.df[['Open', 'High', 'Low', 'Close', \"Volume\",]] = self.data.df[['open', 'high', 'low', 'close', \"volume\"]]\n",
    "        #self.returns = self.I(momentum, self.data.df, self.lag)\n",
    "        self.data.df.drop(self.data.df.columns.difference(['Open', 'High', 'Low', 'Close', \"Volume\"]), 1, inplace=True)\n",
    "        \n",
    "       \n",
    "    \n",
    "    def next(self):\n",
    "        \n",
    "        if self.buy_init[-1] == 1 and self.position.is_long is False:\n",
    "            self.position.close()\n",
    "            self.buy()\n",
    "            \n",
    "        # elif self.close_buy_init[-1] == 1 and self.position.is_long:\n",
    "        #     self.position.close()\n",
    "             \n",
    "             \n",
    "        elif self.short_init[-1] == -1 and self.position.is_short is False:\n",
    "            self.position.close()\n",
    "            self.sell()\n",
    "            \n",
    "        # elif self.close_short_init[-1] == 1 and self.position.is_short:\n",
    "        #      self.position.close()\n"
   ]
  },
  {
   "cell_type": "code",
   "execution_count": 9,
   "metadata": {},
   "outputs": [
    {
     "name": "stderr",
     "output_type": "stream",
     "text": [
      "<ipython-input-9-8d03f2706277>:1: UserWarning: Data index is not datetime. Assuming simple periods, but `pd.DateTimeIndex` is advised.\n",
      "  bt = Backtest(df_backtesting, OscRsi_5m_long_short, cash=10_000, commission=.001)\n"
     ]
    },
    {
     "data": {
      "text/plain": [
       "Start                                       0\n",
       "End                               2.74946e+06\n",
       "Duration                          2.74946e+06\n",
       "Exposure Time [%]                     99.6333\n",
       "Equity Final [$]                  1.00714e+07\n",
       "Equity Peak [$]                   1.71785e+07\n",
       "Return [%]                             100614\n",
       "Buy & Hold Return [%]                 29047.7\n",
       "Return (Ann.) [%]                           0\n",
       "Volatility (Ann.) [%]                     NaN\n",
       "Sharpe Ratio                              NaN\n",
       "Sortino Ratio                             NaN\n",
       "Calmar Ratio                                0\n",
       "Max. Drawdown [%]                    -73.9174\n",
       "Avg. Drawdown [%]                    -1.84287\n",
       "Max. Drawdown Duration                 323467\n",
       "Avg. Drawdown Duration                1671.69\n",
       "# Trades                                  270\n",
       "Win Rate [%]                          42.5926\n",
       "Best Trade [%]                        436.049\n",
       "Worst Trade [%]                      -19.8608\n",
       "Avg. Trade [%]                        2.59473\n",
       "Max. Trade Duration                     69022\n",
       "Avg. Trade Duration                   10145.9\n",
       "Profit Factor                         2.38723\n",
       "Expectancy [%]                        5.11303\n",
       "SQN                                  0.865352\n",
       "_strategy                 OscRsi_5m_long_s...\n",
       "_equity_curve                            E...\n",
       "_trades                        Size  Entry...\n",
       "dtype: object"
      ]
     },
     "execution_count": 9,
     "metadata": {},
     "output_type": "execute_result"
    }
   ],
   "source": [
    "bt = Backtest(df_backtesting, OscRsi_5m_long_short, cash=10_000, commission=.001)\n",
    "stats = bt.run()\n",
    "stats"
   ]
  },
  {
   "cell_type": "code",
   "execution_count": 23,
   "metadata": {},
   "outputs": [
    {
     "data": {
      "text/html": [
       "<div>\n",
       "<style scoped>\n",
       "    .dataframe tbody tr th:only-of-type {\n",
       "        vertical-align: middle;\n",
       "    }\n",
       "\n",
       "    .dataframe tbody tr th {\n",
       "        vertical-align: top;\n",
       "    }\n",
       "\n",
       "    .dataframe thead th {\n",
       "        text-align: right;\n",
       "    }\n",
       "</style>\n",
       "<table border=\"1\" class=\"dataframe\">\n",
       "  <thead>\n",
       "    <tr style=\"text-align: right;\">\n",
       "      <th></th>\n",
       "      <th>Equity</th>\n",
       "      <th>DrawdownPct</th>\n",
       "      <th>DrawdownDuration</th>\n",
       "    </tr>\n",
       "  </thead>\n",
       "  <tbody>\n",
       "    <tr>\n",
       "      <th>0</th>\n",
       "      <td>1.000000e+04</td>\n",
       "      <td>0.000000</td>\n",
       "      <td>NaN</td>\n",
       "    </tr>\n",
       "    <tr>\n",
       "      <th>1</th>\n",
       "      <td>1.000000e+04</td>\n",
       "      <td>0.000000</td>\n",
       "      <td>NaN</td>\n",
       "    </tr>\n",
       "    <tr>\n",
       "      <th>2</th>\n",
       "      <td>1.000000e+04</td>\n",
       "      <td>0.000000</td>\n",
       "      <td>NaN</td>\n",
       "    </tr>\n",
       "    <tr>\n",
       "      <th>3</th>\n",
       "      <td>1.000000e+04</td>\n",
       "      <td>0.000000</td>\n",
       "      <td>NaN</td>\n",
       "    </tr>\n",
       "    <tr>\n",
       "      <th>4</th>\n",
       "      <td>1.000000e+04</td>\n",
       "      <td>0.000000</td>\n",
       "      <td>NaN</td>\n",
       "    </tr>\n",
       "    <tr>\n",
       "      <th>...</th>\n",
       "      <td>...</td>\n",
       "      <td>...</td>\n",
       "      <td>...</td>\n",
       "    </tr>\n",
       "    <tr>\n",
       "      <th>2749458</th>\n",
       "      <td>1.004510e+07</td>\n",
       "      <td>0.415251</td>\n",
       "      <td>NaN</td>\n",
       "    </tr>\n",
       "    <tr>\n",
       "      <th>2749459</th>\n",
       "      <td>1.005839e+07</td>\n",
       "      <td>0.414477</td>\n",
       "      <td>NaN</td>\n",
       "    </tr>\n",
       "    <tr>\n",
       "      <th>2749460</th>\n",
       "      <td>1.006762e+07</td>\n",
       "      <td>0.413940</td>\n",
       "      <td>NaN</td>\n",
       "    </tr>\n",
       "    <tr>\n",
       "      <th>2749461</th>\n",
       "      <td>1.007147e+07</td>\n",
       "      <td>0.413716</td>\n",
       "      <td>NaN</td>\n",
       "    </tr>\n",
       "    <tr>\n",
       "      <th>2749462</th>\n",
       "      <td>1.007144e+07</td>\n",
       "      <td>0.413718</td>\n",
       "      <td>298604.0</td>\n",
       "    </tr>\n",
       "  </tbody>\n",
       "</table>\n",
       "<p>2749463 rows × 3 columns</p>\n",
       "</div>"
      ],
      "text/plain": [
       "               Equity  DrawdownPct  DrawdownDuration\n",
       "0        1.000000e+04     0.000000               NaN\n",
       "1        1.000000e+04     0.000000               NaN\n",
       "2        1.000000e+04     0.000000               NaN\n",
       "3        1.000000e+04     0.000000               NaN\n",
       "4        1.000000e+04     0.000000               NaN\n",
       "...               ...          ...               ...\n",
       "2749458  1.004510e+07     0.415251               NaN\n",
       "2749459  1.005839e+07     0.414477               NaN\n",
       "2749460  1.006762e+07     0.413940               NaN\n",
       "2749461  1.007147e+07     0.413716               NaN\n",
       "2749462  1.007144e+07     0.413718          298604.0\n",
       "\n",
       "[2749463 rows x 3 columns]"
      ]
     },
     "execution_count": 23,
     "metadata": {},
     "output_type": "execute_result"
    }
   ],
   "source": [
    "stats[\"_equity_curve\"]"
   ]
  },
  {
   "cell_type": "code",
   "execution_count": 11,
   "metadata": {},
   "outputs": [],
   "source": [
    "#bt.plot()"
   ]
  },
  {
   "cell_type": "code",
   "execution_count": 12,
   "metadata": {},
   "outputs": [],
   "source": [
    "# %%time \n",
    "# stats = bt.optimize(lag=[12, 24, 48, 96, 120, 144, 168],\n",
    "#                     sell_ = np.arange(60, 90, 3).tolist(),#sell_threshold = np.arange(0, -0.15, -0.01).tolist(),\n",
    "#                     rsi_lower_bound = np.arange(10, 40, 3).tolist(),\n",
    "#                     rsi_upper_bound = np.arange(12, 50, 3).tolist(),\n",
    "#                     #osc_lower_bound = np.arange(10, 90, 5).tolist(),\n",
    "#                     #osc_upper_bound = np.arange(10, 100, 5).tolist(),\n",
    "#                     #maximize='Equity Final [$]')#,\n",
    "#                     constraint= lambda param: param.rsi_lower_bound < param.rsi_upper_bound)\n",
    "# stats"
   ]
  },
  {
   "cell_type": "code",
   "execution_count": 13,
   "metadata": {},
   "outputs": [
    {
     "data": {
      "text/plain": [
       "<Strategy OscRsi_5m_long_short>"
      ]
     },
     "execution_count": 13,
     "metadata": {},
     "output_type": "execute_result"
    }
   ],
   "source": [
    "stats._strategy"
   ]
  },
  {
   "cell_type": "code",
   "execution_count": 14,
   "metadata": {},
   "outputs": [
    {
     "data": {
      "text/html": [
       "<div>\n",
       "<style scoped>\n",
       "    .dataframe tbody tr th:only-of-type {\n",
       "        vertical-align: middle;\n",
       "    }\n",
       "\n",
       "    .dataframe tbody tr th {\n",
       "        vertical-align: top;\n",
       "    }\n",
       "\n",
       "    .dataframe thead th {\n",
       "        text-align: right;\n",
       "    }\n",
       "</style>\n",
       "<table border=\"1\" class=\"dataframe\">\n",
       "  <thead>\n",
       "    <tr style=\"text-align: right;\">\n",
       "      <th></th>\n",
       "      <th>Size</th>\n",
       "      <th>EntryBar</th>\n",
       "      <th>ExitBar</th>\n",
       "      <th>EntryPrice</th>\n",
       "      <th>ExitPrice</th>\n",
       "      <th>PnL</th>\n",
       "      <th>ReturnPct</th>\n",
       "      <th>EntryTime</th>\n",
       "      <th>ExitTime</th>\n",
       "      <th>Duration</th>\n",
       "    </tr>\n",
       "  </thead>\n",
       "  <tbody>\n",
       "    <tr>\n",
       "      <th>0</th>\n",
       "      <td>-1093</td>\n",
       "      <td>10082</td>\n",
       "      <td>17301</td>\n",
       "      <td>9.144846</td>\n",
       "      <td>9.950</td>\n",
       "      <td>-8.800333e+02</td>\n",
       "      <td>-0.088045</td>\n",
       "      <td>10082</td>\n",
       "      <td>17301</td>\n",
       "      <td>7219</td>\n",
       "    </tr>\n",
       "    <tr>\n",
       "      <th>1</th>\n",
       "      <td>915</td>\n",
       "      <td>17301</td>\n",
       "      <td>31945</td>\n",
       "      <td>9.959950</td>\n",
       "      <td>13.733</td>\n",
       "      <td>3.452341e+03</td>\n",
       "      <td>0.378822</td>\n",
       "      <td>17301</td>\n",
       "      <td>31945</td>\n",
       "      <td>14644</td>\n",
       "    </tr>\n",
       "    <tr>\n",
       "      <th>2</th>\n",
       "      <td>-916</td>\n",
       "      <td>31945</td>\n",
       "      <td>32438</td>\n",
       "      <td>13.719267</td>\n",
       "      <td>13.940</td>\n",
       "      <td>-2.021914e+02</td>\n",
       "      <td>-0.016089</td>\n",
       "      <td>31945</td>\n",
       "      <td>32438</td>\n",
       "      <td>493</td>\n",
       "    </tr>\n",
       "    <tr>\n",
       "      <th>3</th>\n",
       "      <td>886</td>\n",
       "      <td>32438</td>\n",
       "      <td>42010</td>\n",
       "      <td>13.953940</td>\n",
       "      <td>12.659</td>\n",
       "      <td>-1.147317e+03</td>\n",
       "      <td>-0.092801</td>\n",
       "      <td>32438</td>\n",
       "      <td>42010</td>\n",
       "      <td>9572</td>\n",
       "    </tr>\n",
       "    <tr>\n",
       "      <th>4</th>\n",
       "      <td>-887</td>\n",
       "      <td>42010</td>\n",
       "      <td>45728</td>\n",
       "      <td>12.646341</td>\n",
       "      <td>14.890</td>\n",
       "      <td>-1.990126e+03</td>\n",
       "      <td>-0.177416</td>\n",
       "      <td>42010</td>\n",
       "      <td>45728</td>\n",
       "      <td>3718</td>\n",
       "    </tr>\n",
       "    <tr>\n",
       "      <th>...</th>\n",
       "      <td>...</td>\n",
       "      <td>...</td>\n",
       "      <td>...</td>\n",
       "      <td>...</td>\n",
       "      <td>...</td>\n",
       "      <td>...</td>\n",
       "      <td>...</td>\n",
       "      <td>...</td>\n",
       "      <td>...</td>\n",
       "      <td>...</td>\n",
       "    </tr>\n",
       "    <tr>\n",
       "      <th>265</th>\n",
       "      <td>2522</td>\n",
       "      <td>2685604</td>\n",
       "      <td>2688504</td>\n",
       "      <td>3117.754640</td>\n",
       "      <td>2973.600</td>\n",
       "      <td>-3.635580e+05</td>\n",
       "      <td>-0.046237</td>\n",
       "      <td>2685604</td>\n",
       "      <td>2688504</td>\n",
       "      <td>2900</td>\n",
       "    </tr>\n",
       "    <tr>\n",
       "      <th>266</th>\n",
       "      <td>-2525</td>\n",
       "      <td>2688504</td>\n",
       "      <td>2701299</td>\n",
       "      <td>2970.626400</td>\n",
       "      <td>2775.100</td>\n",
       "      <td>4.937042e+05</td>\n",
       "      <td>0.065820</td>\n",
       "      <td>2688504</td>\n",
       "      <td>2701299</td>\n",
       "      <td>12795</td>\n",
       "    </tr>\n",
       "    <tr>\n",
       "      <th>267</th>\n",
       "      <td>2878</td>\n",
       "      <td>2701299</td>\n",
       "      <td>2710628</td>\n",
       "      <td>2777.875100</td>\n",
       "      <td>2603.480</td>\n",
       "      <td>-5.019091e+05</td>\n",
       "      <td>-0.062780</td>\n",
       "      <td>2701299</td>\n",
       "      <td>2710628</td>\n",
       "      <td>9329</td>\n",
       "    </tr>\n",
       "    <tr>\n",
       "      <th>268</th>\n",
       "      <td>-2880</td>\n",
       "      <td>2710628</td>\n",
       "      <td>2722360</td>\n",
       "      <td>2600.876520</td>\n",
       "      <td>2585.000</td>\n",
       "      <td>4.572438e+04</td>\n",
       "      <td>0.006104</td>\n",
       "      <td>2710628</td>\n",
       "      <td>2722360</td>\n",
       "      <td>11732</td>\n",
       "    </tr>\n",
       "    <tr>\n",
       "      <th>269</th>\n",
       "      <td>2913</td>\n",
       "      <td>2722360</td>\n",
       "      <td>2749462</td>\n",
       "      <td>2587.585000</td>\n",
       "      <td>3457.040</td>\n",
       "      <td>2.532722e+06</td>\n",
       "      <td>0.336010</td>\n",
       "      <td>2722360</td>\n",
       "      <td>2749462</td>\n",
       "      <td>27102</td>\n",
       "    </tr>\n",
       "  </tbody>\n",
       "</table>\n",
       "<p>270 rows × 10 columns</p>\n",
       "</div>"
      ],
      "text/plain": [
       "     Size  EntryBar  ExitBar   EntryPrice  ExitPrice           PnL  ReturnPct  \\\n",
       "0   -1093     10082    17301     9.144846      9.950 -8.800333e+02  -0.088045   \n",
       "1     915     17301    31945     9.959950     13.733  3.452341e+03   0.378822   \n",
       "2    -916     31945    32438    13.719267     13.940 -2.021914e+02  -0.016089   \n",
       "3     886     32438    42010    13.953940     12.659 -1.147317e+03  -0.092801   \n",
       "4    -887     42010    45728    12.646341     14.890 -1.990126e+03  -0.177416   \n",
       "..    ...       ...      ...          ...        ...           ...        ...   \n",
       "265  2522   2685604  2688504  3117.754640   2973.600 -3.635580e+05  -0.046237   \n",
       "266 -2525   2688504  2701299  2970.626400   2775.100  4.937042e+05   0.065820   \n",
       "267  2878   2701299  2710628  2777.875100   2603.480 -5.019091e+05  -0.062780   \n",
       "268 -2880   2710628  2722360  2600.876520   2585.000  4.572438e+04   0.006104   \n",
       "269  2913   2722360  2749462  2587.585000   3457.040  2.532722e+06   0.336010   \n",
       "\n",
       "     EntryTime  ExitTime  Duration  \n",
       "0        10082     17301      7219  \n",
       "1        17301     31945     14644  \n",
       "2        31945     32438       493  \n",
       "3        32438     42010      9572  \n",
       "4        42010     45728      3718  \n",
       "..         ...       ...       ...  \n",
       "265    2685604   2688504      2900  \n",
       "266    2688504   2701299     12795  \n",
       "267    2701299   2710628      9329  \n",
       "268    2710628   2722360     11732  \n",
       "269    2722360   2749462     27102  \n",
       "\n",
       "[270 rows x 10 columns]"
      ]
     },
     "execution_count": 14,
     "metadata": {},
     "output_type": "execute_result"
    }
   ],
   "source": [
    "stats['_trades']\n"
   ]
  },
  {
   "cell_type": "code",
   "execution_count": 15,
   "metadata": {},
   "outputs": [],
   "source": [
    "trades = pd.DataFrame(stats['_trades'])"
   ]
  },
  {
   "cell_type": "code",
   "execution_count": 16,
   "metadata": {},
   "outputs": [],
   "source": [
    "trades.to_sql(f\"trades_{table}\", connection, if_exists=\"replace\")"
   ]
  },
  {
   "cell_type": "code",
   "execution_count": 17,
   "metadata": {},
   "outputs": [],
   "source": [
    "trades.to_excel(f\"trades_{table}.xlsx\")"
   ]
  },
  {
   "cell_type": "code",
   "execution_count": 18,
   "metadata": {},
   "outputs": [],
   "source": [
    "from risk_metrics import Risk_Metrics"
   ]
  },
  {
   "cell_type": "code",
   "execution_count": 19,
   "metadata": {},
   "outputs": [
    {
     "data": {
      "text/plain": [
       "201.72893688204582"
      ]
     },
     "execution_count": 19,
     "metadata": {},
     "output_type": "execute_result"
    }
   ],
   "source": [
    "Risk_Metrics(trades, df_long, 0).sharpe_ratio(\"momentum_1day\")"
   ]
  },
  {
   "cell_type": "code",
   "execution_count": 20,
   "metadata": {},
   "outputs": [
    {
     "data": {
      "text/plain": [
       "1344.5846765038534"
      ]
     },
     "execution_count": 20,
     "metadata": {},
     "output_type": "execute_result"
    }
   ],
   "source": [
    "Risk_Metrics(trades, df_long, 0).sortino_ratio(\"momentum_1day\")"
   ]
  },
  {
   "cell_type": "code",
   "execution_count": 21,
   "metadata": {},
   "outputs": [
    {
     "data": {
      "text/plain": [
       "0.572594501784519"
      ]
     },
     "execution_count": 21,
     "metadata": {},
     "output_type": "execute_result"
    }
   ],
   "source": [
    "Risk_Metrics(trades, df_long, 0).max_drawdown()"
   ]
  },
  {
   "cell_type": "code",
   "execution_count": 22,
   "metadata": {},
   "outputs": [
    {
     "data": {
      "text/plain": [
       "33590.79721836723"
      ]
     },
     "execution_count": 22,
     "metadata": {},
     "output_type": "execute_result"
    }
   ],
   "source": [
    "Risk_Metrics(trades, df_long, 0).calmar_ratio(stats[\"Return [%]\"]) "
   ]
  }
 ],
 "metadata": {
  "interpreter": {
   "hash": "f7a2edc2e0af523844596de9c639cd0428457baa318d70c85b16ead7cea2cb8f"
  },
  "kernelspec": {
   "display_name": "Python 3.8.3",
   "language": "python",
   "name": "python3"
  },
  "language_info": {
   "codemirror_mode": {
    "name": "ipython",
    "version": 3
   },
   "file_extension": ".py",
   "mimetype": "text/x-python",
   "name": "python",
   "nbconvert_exporter": "python",
   "pygments_lexer": "ipython3",
   "version": "3.8.3"
  },
  "orig_nbformat": 4
 },
 "nbformat": 4,
 "nbformat_minor": 2
}

{
 "cells": [
  {
   "cell_type": "code",
   "execution_count": 49,
   "metadata": {},
   "outputs": [],
   "source": [
    "import pandas as pd\n",
    "import numpy as np\n",
    "from backtesting import Backtest, Strategy\n",
    "from data_storage import create_connection\n",
    "from stockstats import StockDataFrame\n",
    "from risk_metrics import Risk_Metrics\n",
    "import os\n",
    "import logging"
   ]
  },
  {
   "cell_type": "code",
   "execution_count": 50,
   "metadata": {},
   "outputs": [],
   "source": [
    "connection = create_connection(\"../database/crypto_billionairs.db\")"
   ]
  },
  {
   "cell_type": "code",
   "execution_count": 51,
   "metadata": {},
   "outputs": [],
   "source": [
    "headers = [\"time\", \"open\", \"high\", \"low\", \"close\", \"volume\"]"
   ]
  },
  {
   "cell_type": "code",
   "execution_count": 52,
   "metadata": {},
   "outputs": [],
   "source": [
    "def momentum(df, lag):\n",
    "    return df.pct_change(periods=lag)"
   ]
  },
  {
   "cell_type": "code",
   "execution_count": 59,
   "metadata": {},
   "outputs": [],
   "source": [
    "def prepare_files(path, db_connection, header_list):\n",
    "    \n",
    "    for file in os.listdir(path):\n",
    "            \n",
    "            if file[-3:] == 'txt':\n",
    "                file_name = str(file).replace(\"-\", \"_\")\n",
    "                df = pd.read_csv(f'./{path}/{file}', names = header_list)\n",
    "                \n",
    "                df.to_sql(f'{file_name[:-4]}_complete_raw', con=db_connection, if_exists=\"replace\", index=False)\n",
    "             \n",
    "                df[\"momentum_1week\"] = momentum(df[\"close\"], 10080)\n",
    "                \n",
    "                df['time_str'] = df['time']\n",
    "                df['time'] = pd.to_datetime(df['time'])\n",
    "                \n",
    "                df = df.set_index('time')\n",
    "                \n",
    "                df = df.resample('1T').mean().interpolate()\n",
    "                df['time'] = df.index\n",
    "                df[\"year\"] = df[\"time\"].astype(str).str[:4]\n",
    "                df[\"month\"] = df[\"time\"].astype(str).str[5:7]\n",
    "                df[\"day\"] = df[\"time\"].astype(str).str[8:10]\n",
    "                \n",
    "                \n",
    "\n",
    "                df_ti = pd.DataFrame()\n",
    "                df_ti[\"time\"] = df[\"time\"]\n",
    "                df_ti[\"open\"] = df[\"open\"]\n",
    "                df_ti[\"close\"] = df[\"close\"]\n",
    "                df_ti[\"high\"] = df[\"high\"]\n",
    "                df_ti[\"low\"] = df[\"low\"]\n",
    "                df_ti[\"volume\"] = df[\"volume\"]\n",
    "                \n",
    "                stock = StockDataFrame.retype(df_ti)\n",
    "                df[\"stochastic_oscillator\"] = stock.get(\"kdjk\")\n",
    "                df[\"relative_strength_index\"] = stock.get(\"rsi_30\")\n",
    "                df[\"moving_average_convergence_divergence\"] = stock.get(\"macd\")\n",
    "                df[\"moving_average_convergence_divergence\"] = df[\"moving_average_convergence_divergence\"].astype(int)\n",
    "                df[\"so_group\"] = df[\"stochastic_oscillator\"].astype(str).str[0]\n",
    "                df[\"rsi_group\"] = df[\"relative_strength_index\"].astype(str).str[0]\n",
    "                df[\"technical_indicators\"] = df[\"so_group\"] + \"/\" + df[\"rsi_group\"]\n",
    "                df.to_sql(f'{file_name[:-4]}_complete_history_preprocessed', con=db_connection, if_exists=\"replace\", index=False)\n",
    "\n",
    "                df[\"buy_indicator\"] = 0\n",
    "                df.loc[df[\"technical_indicators\"] == \"1/1\", 'buy_indicator'] = 1\n",
    "                df.loc[df[\"technical_indicators\"] == \"2/1\", 'buy_indicator'] = 1\n",
    "                df.loc[df[\"technical_indicators\"] == \"3/1\", 'buy_indicator'] = 1\n",
    "                df.loc[df[\"technical_indicators\"] == \"4/1\", 'buy_indicator'] = 1\n",
    "                df.loc[df[\"technical_indicators\"] == \"5/7\", 'buy_indicator'] = 1\n",
    "                df.loc[df[\"technical_indicators\"] == \"6/1\", 'buy_indicator'] = 1\n",
    "                df.loc[df[\"technical_indicators\"] == \"8/1\", 'buy_indicator'] = 1\n",
    "                \n",
    "                df[\"close_indicator\"] = 0\n",
    "                df.loc[df[\"technical_indicators\"].shift(10080) == \"1/1\", 'close_indicator'] = 2\n",
    "                df.loc[df[\"technical_indicators\"].shift(10080) == \"2/1\", 'close_indicator'] = 2\n",
    "                df.loc[df[\"technical_indicators\"].shift(10080) == \"3/1\", 'close_indicator'] = 2\n",
    "                df.loc[df[\"technical_indicators\"].shift(10080) == \"4/1\", 'close_indicator'] = 2\n",
    "                df.loc[df[\"technical_indicators\"].shift(10080) == \"5/7\", 'close_indicator'] = 2\n",
    "                df.loc[df[\"technical_indicators\"].shift(10080) == \"6/1\", 'close_indicator'] = 2\n",
    "                df.loc[df[\"technical_indicators\"].shift(10080) == \"8/1\", 'close_indicator'] = 2\n",
    "                \n",
    "                \n",
    "                short_signals = df.index[df[\"moving_average_convergence_divergence\"] >= 55].tolist()\n",
    "                df[\"short_indicator\"] = 0\n",
    "                df[\"short_indicator\"].loc[short_signals] = 1\n",
    "            \n",
    "                \n",
    "                df.to_sql(f'{file_name[:-4]}_complete_history_long_short_rsi', con=db_connection, if_exists=\"replace\", index=False)\n",
    "                #os.remove(f'{path}/{file}')\n",
    "        "
   ]
  },
  {
   "cell_type": "code",
   "execution_count": 60,
   "metadata": {},
   "outputs": [],
   "source": [
    "prepare_files(\"../database/\", connection, headers)"
   ]
  },
  {
   "cell_type": "code",
   "execution_count": 55,
   "metadata": {},
   "outputs": [],
   "source": [
    "class Momentum_RSI_long_short(Strategy):\n",
    "   \n",
    "    \n",
    "    def init(self):\n",
    "        # compute the rsi and stochastic oscillator with stockstats and return the buy signal of the current row\n",
    "        \n",
    "        self.buy_init = self.I(init_buy_signal, self.data.df)\n",
    "        self.close_buy_init = self.I(init_close_long_signal, self.data.df)\n",
    "        self.short_init = self.I(init_short_signal, self.data.df)\n",
    "        self.data.df.drop(self.data.df.columns.difference(['Open', 'High', 'Low', 'Close', \"Volume\"]), 1, inplace=True)\n",
    "        \n",
    "       \n",
    "    \n",
    "    def next(self):\n",
    "        \n",
    "        if self.buy_init[-1] == 1 and self.position.is_long is False:\n",
    "            self.position.close()\n",
    "            self.buy()\n",
    "            \n",
    "        elif self.close_buy_init[-1] == 2 and self.position.is_long:\n",
    "             self.position.close()\n",
    "             \n",
    "        elif self.short_init[-1] == -1 and self.position.is_short is False:\n",
    "            self.position.close()\n",
    "            self.sell()"
   ]
  },
  {
   "cell_type": "code",
   "execution_count": 56,
   "metadata": {},
   "outputs": [],
   "source": [
    "def init_buy_signal(trash):\n",
    "    return df_temp['buy_indicator']\n",
    "\n",
    "def init_short_signal(trash):\n",
    "    return df_temp['short_indicator']\n",
    "\n",
    "def init_close_long_signal(df):\n",
    "    return df_temp['close_indicator']"
   ]
  },
  {
   "cell_type": "code",
   "execution_count": 57,
   "metadata": {},
   "outputs": [],
   "source": [
    "def run_backtesting(db_connection):\n",
    "    \n",
    "    global df_temp\n",
    "    \n",
    "    table_names = pd.read_sql_query(\"SELECT name FROM sqlite_master WHERE type='table' ORDER BY name;\", db_connection)\n",
    "    \n",
    "    table_names_list = table_names['name'].tolist()\n",
    "\n",
    "    filtered_table_names = [name for name in table_names_list if \"1min_complete_history_long_short_rsi\" in name and 'trades' not in name]\n",
    "    print(filtered_table_names)\n",
    "    df_risk = pd.DataFrame(columns = range(10))\n",
    "    df_risk.columns = [\"table_name\", \"timehorizon\", \"return\", \"annualized_return\", \"sharpe_ratio_annualized\", \"sortino_ratio_annualized\", \"maximum_drawdown\", \"calmar_ratio_annualized\", \"trades_count\", \"win_rate\"]\n",
    "    \n",
    "    for table in filtered_table_names:\n",
    "        \n",
    "        df_temp = pd.read_sql_query(f\"select * from {table}\", db_connection)\n",
    "        \n",
    "        df_backtesting = pd.DataFrame()\n",
    "        df_backtesting[['Open', 'High', 'Low', 'Close', \"Volume\"]] = df_temp[['open', 'high', 'low', 'close', 'volume']]\n",
    "        \n",
    "        \n",
    "        bt = Backtest(df_backtesting, Momentum_RSI_long_short, cash=100_000, commission=.001)\n",
    "        stats = bt.run()\n",
    "        trades = pd.DataFrame(stats['_trades'])\n",
    "        trades.to_sql(f\"trades_{table}\", db_connection, if_exists=\"replace\")\n",
    "        \n",
    "        risk = Risk_Metrics(trades, df_temp[10080:], 0)\n",
    "        risk_metrics_list = [f\"{table}\", len(df_backtesting), stats[\"Return [%]\"], risk._annualize(stats[\"Return [%]\"]),\n",
    "                             risk.sharpe_ratio(\"momentum_1week\"), risk.sortino_ratio(\"momentum_1week\"),\n",
    "                             risk.max_drawdown(), risk.calmar_ratio(stats[\"Return [%]\"]), len(trades), stats[\"Win Rate [%]\"]]\n",
    "        print(risk_metrics_list)\n",
    "        #df_risk.append(risk_metrics_list)\n",
    "        df_risk.loc[len(df_risk)] = risk_metrics_list\n",
    "        \n",
    "    \n",
    "    df_risk.to_sql(\"cryptocurrencies_risk_metrics_1m_rsi\", db_connection, if_exists=\"replace\")"
   ]
  },
  {
   "cell_type": "code",
   "execution_count": 58,
   "metadata": {},
   "outputs": [
    {
     "name": "stdout",
     "output_type": "stream",
     "text": [
      "['BTC_1min_complete_history_long_short_rsi', 'DOGE_1min_complete_history_long_short_rsi', 'ETH_1min_complete_history_long_short_rsi']\n"
     ]
    },
    {
     "name": "stderr",
     "output_type": "stream",
     "text": [
      "<ipython-input-57-769d60451720>:22: UserWarning: Data index is not datetime. Assuming simple periods, but `pd.DateTimeIndex` is advised.\n",
      "  bt = Backtest(df_backtesting, Momentum_RSI_long_short, cash=100_000, commission=.001)\n"
     ]
    },
    {
     "name": "stdout",
     "output_type": "stream",
     "text": [
      "['BTC_1min_complete_history_long_short_rsi', 4734689, 487.27126964684635, 54.20761365149633, nan, 4.983118900216542, 0.8258539760947463, 65.63825472855427, 2131, 40.73205068043172]\n",
      "['DOGE_1min_complete_history_long_short_rsi', 2541831, 73.1544149130391, 15.187101922066331, nan, 1.7959858038742451, 0.8701626668212298, 17.45317571201482, 1559, 40.089801154586276]\n",
      "['ETH_1min_complete_history_long_short_rsi', 3186368, -9.440112395313786, -1.562113723622331, nan, 0.8406501243423516, 0.07476613829489084, -20.893331650500375, 2162, 36.35522664199815]\n"
     ]
    }
   ],
   "source": [
    "run_backtesting(connection)"
   ]
  }
 ],
 "metadata": {
  "interpreter": {
   "hash": "cf7c0b8ed4c815043e48994c1e64c08f9d96fdc49c73ce762547f36d7ce0a11b"
  },
  "kernelspec": {
   "display_name": "Python 3.8.3",
   "language": "python",
   "name": "python3"
  },
  "language_info": {
   "codemirror_mode": {
    "name": "ipython",
    "version": 3
   },
   "file_extension": ".py",
   "mimetype": "text/x-python",
   "name": "python",
   "nbconvert_exporter": "python",
   "pygments_lexer": "ipython3",
   "version": "3.8.3"
  },
  "orig_nbformat": 4
 },
 "nbformat": 4,
 "nbformat_minor": 2
}

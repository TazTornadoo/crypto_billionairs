{
 "cells": [
  {
   "cell_type": "code",
   "execution_count": 1,
   "metadata": {},
   "outputs": [],
   "source": [
    "from data_storage import create_connection\n",
    "import pandas as pd\n",
    "import matplotlib.pyplot as plt\n",
    "import numpy as np\n",
    "from pandas_profiling import ProfileReport"
   ]
  },
  {
   "cell_type": "code",
   "execution_count": 2,
   "metadata": {},
   "outputs": [],
   "source": [
    "connection = create_connection(\"../database/crypto_billionairs.db\")"
   ]
  },
  {
   "cell_type": "code",
   "execution_count": 3,
   "metadata": {},
   "outputs": [
    {
     "data": {
      "text/plain": [
       "756761"
      ]
     },
     "execution_count": 3,
     "metadata": {},
     "output_type": "execute_result"
    }
   ],
   "source": [
    "df_btc = pd.read_sql_query(\"select * from BTC_1min_complete_raw\", connection)\n",
    "df_btc[\"time\"] = pd.to_datetime(df_btc['time'])\n",
    "df_btc = df_btc.set_index('time')      \n",
    "df_btc = df_btc.resample('1T').mean()\n",
    "df_btc[\"close\"].isna().sum()"
   ]
  },
  {
   "cell_type": "code",
   "execution_count": 4,
   "metadata": {},
   "outputs": [
    {
     "data": {
      "text/plain": [
       "437067"
      ]
     },
     "execution_count": 4,
     "metadata": {},
     "output_type": "execute_result"
    }
   ],
   "source": [
    "df_eth = pd.read_sql_query(\"select * from ETH_1min_complete_raw\", connection)\n",
    "df_eth[\"time\"] = pd.to_datetime(df_eth['time'])\n",
    "df_eth = df_eth.set_index('time')      \n",
    "df_eth = df_eth.resample('1T').mean()\n",
    "df_eth[\"close\"].isna().sum()"
   ]
  },
  {
   "cell_type": "code",
   "execution_count": 5,
   "metadata": {},
   "outputs": [
    {
     "data": {
      "text/plain": [
       "112162"
      ]
     },
     "execution_count": 5,
     "metadata": {},
     "output_type": "execute_result"
    }
   ],
   "source": [
    "df_ltc = pd.read_sql_query(\"select * from LTC_1min_complete_raw\", connection)\n",
    "df_ltc[\"time\"] = pd.to_datetime(df_ltc['time'])\n",
    "df_ltc = df_ltc.set_index('time')      \n",
    "df_ltc = df_ltc.resample('1T').mean()\n",
    "df_ltc[\"close\"].isna().sum()"
   ]
  },
  {
   "cell_type": "code",
   "execution_count": 6,
   "metadata": {},
   "outputs": [
    {
     "data": {
      "text/plain": [
       "598008"
      ]
     },
     "execution_count": 6,
     "metadata": {},
     "output_type": "execute_result"
    }
   ],
   "source": [
    "df_doge = pd.read_sql_query(\"select * from DOGE_1min_complete_raw\", connection)\n",
    "df_doge[\"time\"] = pd.to_datetime(df_doge['time'])\n",
    "df_doge = df_doge.set_index('time')      \n",
    "df_doge = df_doge.resample('1T').mean()\n",
    "df_doge[\"close\"].isna().sum()"
   ]
  },
  {
   "cell_type": "code",
   "execution_count": 7,
   "metadata": {},
   "outputs": [],
   "source": [
    "df_btc = pd.read_sql_query(\"select * from BTC_1min_complete_1day_preproce_1day_features\", connection)\n",
    "df_eth = pd.read_sql_query(\"select * from ETH_1min_complete_1day_preproce_1day_features\", connection)\n",
    "df_ltc = pd.read_sql_query(\"select * from LTC_1min_complete_1day_preproce_1day_features\", connection)\n",
    "df_doge = pd.read_sql_query(\"select * from DOGE_1min_complete_1day_preproce_1day_features\", connection)"
   ]
  },
  {
   "cell_type": "code",
   "execution_count": 8,
   "metadata": {},
   "outputs": [
    {
     "name": "stderr",
     "output_type": "stream",
     "text": [
      "Summarize dataset: 100%|██████████| 45/45 [01:24<00:00,  1.87s/it, Completed]                              \n",
      "Generate report structure: 100%|██████████| 1/1 [00:10<00:00, 10.07s/it]\n",
      "Render HTML: 100%|██████████| 1/1 [00:15<00:00, 15.78s/it]\n",
      "Export report to file: 100%|██████████| 1/1 [00:00<00:00,  9.65it/s]\n"
     ]
    }
   ],
   "source": [
    "prof = ProfileReport(df_btc)\n",
    "prof.to_file(output_file='data_profile_BTC.html')"
   ]
  },
  {
   "cell_type": "code",
   "execution_count": 9,
   "metadata": {},
   "outputs": [
    {
     "name": "stderr",
     "output_type": "stream",
     "text": [
      "Summarize dataset: 100%|██████████| 45/45 [01:20<00:00,  1.78s/it, Completed]                              \n",
      "Generate report structure: 100%|██████████| 1/1 [00:08<00:00,  8.94s/it]\n",
      "Render HTML: 100%|██████████| 1/1 [00:14<00:00, 14.62s/it]\n",
      "Export report to file: 100%|██████████| 1/1 [00:00<00:00, 11.23it/s]\n"
     ]
    }
   ],
   "source": [
    "prof = ProfileReport(df_btc)\n",
    "prof.to_file(output_file='data_profile_ETH.html')"
   ]
  },
  {
   "cell_type": "code",
   "execution_count": 10,
   "metadata": {},
   "outputs": [
    {
     "name": "stderr",
     "output_type": "stream",
     "text": [
      "Summarize dataset: 100%|██████████| 45/45 [01:15<00:00,  1.68s/it, Completed]                              \n",
      "Generate report structure: 100%|██████████| 1/1 [00:09<00:00,  9.43s/it]\n",
      "Render HTML: 100%|██████████| 1/1 [00:14<00:00, 14.70s/it]\n",
      "Export report to file: 100%|██████████| 1/1 [00:00<00:00, 10.42it/s]\n"
     ]
    }
   ],
   "source": [
    "prof = ProfileReport(df_btc)\n",
    "prof.to_file(output_file='data_profile_LTC.html')"
   ]
  },
  {
   "cell_type": "code",
   "execution_count": 11,
   "metadata": {},
   "outputs": [
    {
     "name": "stderr",
     "output_type": "stream",
     "text": [
      "Summarize dataset: 100%|██████████| 45/45 [01:16<00:00,  1.71s/it, Completed]                              \n",
      "Generate report structure: 100%|██████████| 1/1 [00:09<00:00,  9.26s/it]\n",
      "Render HTML: 100%|██████████| 1/1 [00:15<00:00, 15.06s/it]\n",
      "Export report to file: 100%|██████████| 1/1 [00:00<00:00, 10.30it/s]\n"
     ]
    }
   ],
   "source": [
    "prof = ProfileReport(df_btc)\n",
    "prof.to_file(output_file='data_profile_DOGE.html')"
   ]
  }
 ],
 "metadata": {
  "interpreter": {
   "hash": "cf7c0b8ed4c815043e48994c1e64c08f9d96fdc49c73ce762547f36d7ce0a11b"
  },
  "kernelspec": {
   "display_name": "Python 3.8.3",
   "language": "python",
   "name": "python3"
  },
  "language_info": {
   "codemirror_mode": {
    "name": "ipython",
    "version": 3
   },
   "file_extension": ".py",
   "mimetype": "text/x-python",
   "name": "python",
   "nbconvert_exporter": "python",
   "pygments_lexer": "ipython3",
   "version": "3.8.3"
  },
  "orig_nbformat": 4
 },
 "nbformat": 4,
 "nbformat_minor": 2
}

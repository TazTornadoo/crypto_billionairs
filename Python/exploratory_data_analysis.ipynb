{
 "cells": [
  {
   "cell_type": "code",
   "execution_count": 2,
   "metadata": {},
   "outputs": [],
   "source": [
    "from data_storage import create_connection\n",
    "import pandas as pd\n",
    "import matplotlib.pyplot as plt\n",
    "import numpy as np\n",
    "from pandas_profiling import ProfileReport"
   ]
  },
  {
   "cell_type": "code",
   "execution_count": 3,
   "metadata": {},
   "outputs": [],
   "source": [
    "connection = create_connection(\"../database/crypto_billionairs.db\")"
   ]
  },
  {
   "cell_type": "code",
   "execution_count": 3,
   "metadata": {},
   "outputs": [
    {
     "data": {
      "text/plain": [
       "756761"
      ]
     },
     "execution_count": 3,
     "metadata": {},
     "output_type": "execute_result"
    }
   ],
   "source": [
    "df_btc = pd.read_sql_query(\"select * from BTC_1min_complete_raw\", connection)\n",
    "df_btc[\"time\"] = pd.to_datetime(df_btc['time'])\n",
    "df_btc = df_btc.set_index('time')      \n",
    "df_btc = df_btc.resample('1T').mean()\n",
    "df_btc[\"close\"].isna().sum()"
   ]
  },
  {
   "cell_type": "code",
   "execution_count": 4,
   "metadata": {},
   "outputs": [
    {
     "data": {
      "text/plain": [
       "437067"
      ]
     },
     "execution_count": 4,
     "metadata": {},
     "output_type": "execute_result"
    }
   ],
   "source": [
    "df_eth = pd.read_sql_query(\"select * from ETH_1min_complete_raw\", connection)\n",
    "df_eth[\"time\"] = pd.to_datetime(df_eth['time'])\n",
    "df_eth = df_eth.set_index('time')      \n",
    "df_eth = df_eth.resample('1T').mean()\n",
    "df_eth[\"close\"].isna().sum()"
   ]
  },
  {
   "cell_type": "code",
   "execution_count": 6,
   "metadata": {},
   "outputs": [
    {
     "data": {
      "text/plain": [
       "112162"
      ]
     },
     "execution_count": 6,
     "metadata": {},
     "output_type": "execute_result"
    }
   ],
   "source": [
    "df_ltc = pd.read_sql_query(\"select * from LTC_1min_complete_raw\", connection)\n",
    "df_ltc[\"time\"] = pd.to_datetime(df_ltc['time'])\n",
    "df_ltc = df_ltc.set_index('time')      \n",
    "df_ltc = df_ltc.resample('1T').mean()\n",
    "df_ltc[\"close\"].isna().sum()"
   ]
  },
  {
   "cell_type": "code",
   "execution_count": 7,
   "metadata": {},
   "outputs": [
    {
     "data": {
      "text/plain": [
       "598008"
      ]
     },
     "execution_count": 7,
     "metadata": {},
     "output_type": "execute_result"
    }
   ],
   "source": [
    "df_doge = pd.read_sql_query(\"select * from DOGE_1min_complete_raw\", connection)\n",
    "df_doge[\"time\"] = pd.to_datetime(df_doge['time'])\n",
    "df_doge = df_doge.set_index('time')      \n",
    "df_doge = df_doge.resample('1T').mean()\n",
    "df_doge[\"close\"].isna().sum()"
   ]
  },
  {
   "cell_type": "code",
   "execution_count": 4,
   "metadata": {},
   "outputs": [],
   "source": [
    "df_btc = pd.read_sql_query(\"select * from BTC_1min_complete_1day_preprocessed_1day_features\", connection)\n",
    "df_eth = pd.read_sql_query(\"select * from ETH_1min_complete_1day_preprocessed_1day_features\", connection)\n",
    "df_ltc = pd.read_sql_query(\"select * from LTC_1min_complete_1day_preprocessed_1day_features\", connection)\n",
    "df_doge = pd.read_sql_query(\"select * from DOGE_1min_complete_1day_preprocessed_1day_features\", connection)\n",
    "df_pool = pd.read_sql_query(\"select * from cryptocurrency_pooling_dataset\", connection)"
   ]
  },
  {
   "cell_type": "code",
   "execution_count": 21,
   "metadata": {},
   "outputs": [],
   "source": [
    "df_btc_last_year = df_btc[-365:]\n",
    "df_eth_last_year = df_eth[-365:]\n",
    "df_ltc_last_year = df_ltc[-365:]\n",
    "df_doge_last_year = df_doge[-365:]"
   ]
  },
  {
   "cell_type": "code",
   "execution_count": 9,
   "metadata": {},
   "outputs": [
    {
     "name": "stderr",
     "output_type": "stream",
     "text": [
      "Summarize dataset: 100%|██████████| 47/47 [01:33<00:00,  1.99s/it, Completed]                              \n",
      "Generate report structure: 100%|██████████| 1/1 [00:10<00:00, 10.53s/it]\n",
      "Render HTML: 100%|██████████| 1/1 [00:17<00:00, 17.83s/it]\n",
      "Export report to file: 100%|██████████| 1/1 [00:00<00:00,  8.61it/s]\n"
     ]
    }
   ],
   "source": [
    "prof = ProfileReport(df_btc)\n",
    "prof.to_file(output_file='data_profile_BTC.html')"
   ]
  },
  {
   "cell_type": "code",
   "execution_count": 10,
   "metadata": {},
   "outputs": [
    {
     "name": "stderr",
     "output_type": "stream",
     "text": [
      "Summarize dataset: 100%|██████████| 47/47 [01:30<00:00,  1.93s/it, Completed]                              \n",
      "Generate report structure: 100%|██████████| 1/1 [00:10<00:00, 10.14s/it]\n",
      "Render HTML: 100%|██████████| 1/1 [00:16<00:00, 16.93s/it]\n",
      "Export report to file: 100%|██████████| 1/1 [00:00<00:00,  5.62it/s]\n"
     ]
    }
   ],
   "source": [
    "prof = ProfileReport(df_eth)\n",
    "prof.to_file(output_file='data_profile_ETH.html')"
   ]
  },
  {
   "cell_type": "code",
   "execution_count": 11,
   "metadata": {},
   "outputs": [
    {
     "name": "stderr",
     "output_type": "stream",
     "text": [
      "Summarize dataset: 100%|██████████| 47/47 [01:27<00:00,  1.87s/it, Completed]                              \n",
      "Generate report structure: 100%|██████████| 1/1 [00:10<00:00, 10.30s/it]\n",
      "Render HTML: 100%|██████████| 1/1 [00:16<00:00, 16.88s/it]\n",
      "Export report to file: 100%|██████████| 1/1 [00:00<00:00,  6.02it/s]\n"
     ]
    }
   ],
   "source": [
    "prof = ProfileReport(df_ltc)\n",
    "prof.to_file(output_file='data_profile_LTC.html')"
   ]
  },
  {
   "cell_type": "code",
   "execution_count": 7,
   "metadata": {},
   "outputs": [
    {
     "name": "stderr",
     "output_type": "stream",
     "text": [
      "Summarize dataset: 100%|██████████| 49/49 [01:47<00:00,  2.19s/it, Completed]                               \n",
      "Generate report structure: 100%|██████████| 1/1 [00:11<00:00, 11.69s/it]\n",
      "Render HTML: 100%|██████████| 1/1 [00:25<00:00, 26.00s/it]\n",
      "Export report to file: 100%|██████████| 1/1 [00:00<00:00,  4.57it/s]\n"
     ]
    }
   ],
   "source": [
    "prof = ProfileReport(df_doge)\n",
    "prof.to_file(output_file='data_profile_DOGE.html')"
   ]
  },
  {
   "cell_type": "code",
   "execution_count": 6,
   "metadata": {},
   "outputs": [
    {
     "name": "stderr",
     "output_type": "stream",
     "text": [
      "Summarize dataset: 100%|██████████| 49/49 [01:59<00:00,  2.43s/it, Completed]                              \n",
      "Generate report structure: 100%|██████████| 1/1 [00:11<00:00, 11.72s/it]\n",
      "Render HTML: 100%|██████████| 1/1 [00:20<00:00, 20.48s/it]\n",
      "Export report to file: 100%|██████████| 1/1 [00:00<00:00,  7.58it/s]\n"
     ]
    }
   ],
   "source": [
    "prof = ProfileReport(df_pool)\n",
    "prof.to_file(output_file='data_profile_POOL.html')"
   ]
  },
  {
   "cell_type": "code",
   "execution_count": 55,
   "metadata": {},
   "outputs": [],
   "source": [
    "df = pd.DataFrame()\n",
    "df[\"btc_close\"] = df_btc_last_year[\"close\"].tolist()\n",
    "df[\"eth_close\"] = df_eth_last_year[\"close\"].tolist()\n",
    "df[\"ltc_close\"] = df_ltc_last_year[\"close\"].tolist()\n",
    "df[\"doge_close\"] = df_doge_last_year[\"close\"].tolist()\n"
   ]
  },
  {
   "cell_type": "code",
   "execution_count": 57,
   "metadata": {},
   "outputs": [
    {
     "data": {
      "text/html": [
       "<div>\n",
       "<style scoped>\n",
       "    .dataframe tbody tr th:only-of-type {\n",
       "        vertical-align: middle;\n",
       "    }\n",
       "\n",
       "    .dataframe tbody tr th {\n",
       "        vertical-align: top;\n",
       "    }\n",
       "\n",
       "    .dataframe thead th {\n",
       "        text-align: right;\n",
       "    }\n",
       "</style>\n",
       "<table border=\"1\" class=\"dataframe\">\n",
       "  <thead>\n",
       "    <tr style=\"text-align: right;\">\n",
       "      <th></th>\n",
       "      <th>btc_close</th>\n",
       "      <th>eth_close</th>\n",
       "      <th>ltc_close</th>\n",
       "      <th>doge_close</th>\n",
       "    </tr>\n",
       "  </thead>\n",
       "  <tbody>\n",
       "    <tr>\n",
       "      <th>btc_close</th>\n",
       "      <td>1.000000</td>\n",
       "      <td>0.692602</td>\n",
       "      <td>0.684339</td>\n",
       "      <td>0.198240</td>\n",
       "    </tr>\n",
       "    <tr>\n",
       "      <th>eth_close</th>\n",
       "      <td>0.692602</td>\n",
       "      <td>1.000000</td>\n",
       "      <td>0.345435</td>\n",
       "      <td>0.212622</td>\n",
       "    </tr>\n",
       "    <tr>\n",
       "      <th>ltc_close</th>\n",
       "      <td>0.684339</td>\n",
       "      <td>0.345435</td>\n",
       "      <td>1.000000</td>\n",
       "      <td>0.617441</td>\n",
       "    </tr>\n",
       "    <tr>\n",
       "      <th>doge_close</th>\n",
       "      <td>0.198240</td>\n",
       "      <td>0.212622</td>\n",
       "      <td>0.617441</td>\n",
       "      <td>1.000000</td>\n",
       "    </tr>\n",
       "  </tbody>\n",
       "</table>\n",
       "</div>"
      ],
      "text/plain": [
       "            btc_close  eth_close  ltc_close  doge_close\n",
       "btc_close    1.000000   0.692602   0.684339    0.198240\n",
       "eth_close    0.692602   1.000000   0.345435    0.212622\n",
       "ltc_close    0.684339   0.345435   1.000000    0.617441\n",
       "doge_close   0.198240   0.212622   0.617441    1.000000"
      ]
     },
     "execution_count": 57,
     "metadata": {},
     "output_type": "execute_result"
    }
   ],
   "source": [
    "df.corr()"
   ]
  },
  {
   "cell_type": "code",
   "execution_count": null,
   "metadata": {},
   "outputs": [],
   "source": []
  }
 ],
 "metadata": {
  "interpreter": {
   "hash": "cf7c0b8ed4c815043e48994c1e64c08f9d96fdc49c73ce762547f36d7ce0a11b"
  },
  "kernelspec": {
   "display_name": "Python 3.8.3",
   "language": "python",
   "name": "python3"
  },
  "language_info": {
   "codemirror_mode": {
    "name": "ipython",
    "version": 3
   },
   "file_extension": ".py",
   "mimetype": "text/x-python",
   "name": "python",
   "nbconvert_exporter": "python",
   "pygments_lexer": "ipython3",
   "version": "3.8.3"
  },
  "orig_nbformat": 4
 },
 "nbformat": 4,
 "nbformat_minor": 2
}

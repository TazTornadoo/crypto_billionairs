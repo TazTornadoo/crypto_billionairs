{
 "cells": [
  {
   "cell_type": "code",
   "execution_count": 42,
   "metadata": {},
   "outputs": [],
   "source": [
    "import pandas as pd\n",
    "import numpy as np\n",
    "from backtesting import Backtest, Strategy\n",
    "from data_storage import create_connection\n",
    "from stockstats import StockDataFrame"
   ]
  },
  {
   "cell_type": "code",
   "execution_count": 43,
   "metadata": {},
   "outputs": [],
   "source": [
    "connection = create_connection(\"../database/crypto_billionairs.db\")"
   ]
  },
  {
   "cell_type": "code",
   "execution_count": 44,
   "metadata": {},
   "outputs": [],
   "source": [
    "table = \"ETHUSDT_1m_complete_history_long\"\n",
    "table_short = \"ETHUSDT_1m_complete_history_short\""
   ]
  },
  {
   "cell_type": "code",
   "execution_count": 45,
   "metadata": {},
   "outputs": [],
   "source": [
    "df_long = pd.read_sql_query(f'select * from {table}', connection)\n",
    "df_short = pd.read_sql_query(f'select * from {table_short}', connection)"
   ]
  },
  {
   "cell_type": "code",
   "execution_count": 46,
   "metadata": {},
   "outputs": [],
   "source": [
    "df_backtesting = pd.DataFrame()\n",
    "if \"5m\" not in table:\n",
    "    #df_backtesting[\"time\"] = df_long[\"time\"]\n",
    "    df_backtesting[['Open', 'High', 'Low', 'Close', \"Volume\"]] = df_long[['open', 'high', 'low', 'close', 'volume']]\n",
    "    #df_backtesting = df_backtesting.set_index(\"time\")\n",
    "\n",
    "else:\n",
    "    df_backtesting[['Open', 'High', 'Low', 'Close', \"Volume\"]] = df_long[['open', 'high', 'low', 'close', 'volume']]"
   ]
  },
  {
   "cell_type": "code",
   "execution_count": 47,
   "metadata": {},
   "outputs": [],
   "source": [
    "def calculate_osc(data):\n",
    "    \n",
    "   \n",
    "    df_temp = pd.DataFrame()    \n",
    "    stock = StockDataFrame.retype(data)\n",
    "    \n",
    "    df_temp[\"stochastic_oscillator\"] = stock.get('kdjk')\n",
    "    \n",
    "    return df_temp[\"stochastic_oscillator\"]\n",
    "\n",
    "def calucalte_rsi(data):\n",
    "    \n",
    "    df_temp = pd.DataFrame()    \n",
    "    stock = StockDataFrame.retype(data)\n",
    "    \n",
    "    df_temp[\"relative_strength_index\"] = stock.get(\"rsi_30\")\n",
    "    \n",
    "    return df_temp[\"relative_strength_index\"]\n",
    "\n",
    "def momentum(df, lag):\n",
    "    return df[\"close\"].pct_change(periods=lag)\n",
    "\n",
    "def init_close_long_signal(df):\n",
    "    \n",
    "    return df_long['close_indicator']\n",
    "\n",
    "def init_buy_signal(df):\n",
    "    \n",
    "    return df_long['buy_indicator']\n",
    "\n",
    "def init_short_signal(df):\n",
    "    \n",
    "    return df_short['short_signals']\n",
    "\n",
    "def init_close_short_signal(df):\n",
    "    \n",
    "    return df_short['short_close_signals']\n",
    "    "
   ]
  },
  {
   "cell_type": "code",
   "execution_count": 48,
   "metadata": {},
   "outputs": [],
   "source": [
    "class OscRsi_5m_long_short(Strategy):\n",
    "   \n",
    "    lag = 4\n",
    "    \n",
    "    def init(self):\n",
    "        # compute the rsi and stochastic oscillator with stockstats and return the buy signal of the current row\n",
    "        \n",
    "        self.osc = self.I(calculate_osc, self.data.df)\n",
    "        self.rsi = self.I(calucalte_rsi, self.data.df)\n",
    "        self.buy_init = self.I(init_buy_signal, self.data.df)\n",
    "        self.close_buy_init = self.I(init_close_long_signal, self.data.df)\n",
    "        self.short_init = self.I(init_short_signal, self.data.df)\n",
    "        self.close_short_init = self.I(init_close_short_signal, self.data.df)\n",
    "        self.data.df[['Open', 'High', 'Low', 'Close', \"Volume\",]] = self.data.df[['open', 'high', 'low', 'close', \"volume\"]]\n",
    "        self.returns = self.I(momentum, self.data.df, self.lag)\n",
    "        self.data.df.drop(self.data.df.columns.difference(['Open', 'High', 'Low', 'Close', \"Volume\", \"kdjk\", \"rsi_30\"]), 1, inplace=True)\n",
    "        \n",
    "       \n",
    "    \n",
    "    def next(self):\n",
    "        \n",
    "        if self.buy_init[-1] == 1 and self.position.is_long is False:\n",
    "            self.position.close()\n",
    "            self.buy()\n",
    "            \n",
    "        elif self.close_buy_init[-1] == 1 and self.position.is_long:\n",
    "             self.position.close()\n",
    "             \n",
    "             \n",
    "        elif self.short_init == 1 and self.position.is_short is False:\n",
    "            self.position.close()\n",
    "            self.sell()\n"
   ]
  },
  {
   "cell_type": "code",
   "execution_count": 49,
   "metadata": {},
   "outputs": [
    {
     "name": "stderr",
     "output_type": "stream",
     "text": [
      "<ipython-input-49-8d03f2706277>:1: UserWarning: Data index is not datetime. Assuming simple periods, but `pd.DateTimeIndex` is advised.\n",
      "  bt = Backtest(df_backtesting, OscRsi_5m_long_short, cash=10_000, commission=.001)\n"
     ]
    },
    {
     "data": {
      "text/plain": [
       "Start                                       0\n",
       "End                               2.74946e+06\n",
       "Duration                          2.74946e+06\n",
       "Exposure Time [%]                      32.191\n",
       "Equity Final [$]                      44169.6\n",
       "Equity Peak [$]                        176244\n",
       "Return [%]                            341.696\n",
       "Buy & Hold Return [%]                 29047.7\n",
       "Return (Ann.) [%]                           0\n",
       "Volatility (Ann.) [%]                     NaN\n",
       "Sharpe Ratio                              NaN\n",
       "Sortino Ratio                             NaN\n",
       "Calmar Ratio                                0\n",
       "Max. Drawdown [%]                     -93.838\n",
       "Avg. Drawdown [%]                    -1.80242\n",
       "Max. Drawdown Duration            2.20442e+06\n",
       "Avg. Drawdown Duration                 4716.6\n",
       "# Trades                                  691\n",
       "Win Rate [%]                          48.4805\n",
       "Best Trade [%]                        45.1384\n",
       "Worst Trade [%]                       -25.282\n",
       "Avg. Trade [%]                       0.220525\n",
       "Max. Trade Duration                     24263\n",
       "Avg. Trade Duration                   1279.87\n",
       "Profit Factor                          1.2265\n",
       "Expectancy [%]                       0.419363\n",
       "SQN                                   0.37787\n",
       "_strategy                 OscRsi_5m_long_s...\n",
       "_equity_curve                            E...\n",
       "_trades                        Size  Entry...\n",
       "dtype: object"
      ]
     },
     "execution_count": 49,
     "metadata": {},
     "output_type": "execute_result"
    }
   ],
   "source": [
    "bt = Backtest(df_backtesting, OscRsi_5m_long_short, cash=10_000, commission=.001)\n",
    "stats = bt.run()\n",
    "stats"
   ]
  },
  {
   "cell_type": "code",
   "execution_count": 50,
   "metadata": {},
   "outputs": [
    {
     "data": {
      "text/html": [
       "<div style=\"display: table;\"><div style=\"display: table-row;\"><div style=\"display: table-cell;\"><b title=\"bokeh.models.layouts.Row\">Row</b>(</div><div style=\"display: table-cell;\">id&nbsp;=&nbsp;'1797', <span id=\"2866\" style=\"cursor: pointer;\">&hellip;)</span></div></div><div class=\"2865\" style=\"display: none;\"><div style=\"display: table-cell;\"></div><div style=\"display: table-cell;\">align&nbsp;=&nbsp;'start',</div></div><div class=\"2865\" style=\"display: none;\"><div style=\"display: table-cell;\"></div><div style=\"display: table-cell;\">aspect_ratio&nbsp;=&nbsp;None,</div></div><div class=\"2865\" style=\"display: none;\"><div style=\"display: table-cell;\"></div><div style=\"display: table-cell;\">background&nbsp;=&nbsp;None,</div></div><div class=\"2865\" style=\"display: none;\"><div style=\"display: table-cell;\"></div><div style=\"display: table-cell;\">children&nbsp;=&nbsp;[GridBox(id='1794', ...), ToolbarBox(id='1796', ...)],</div></div><div class=\"2865\" style=\"display: none;\"><div style=\"display: table-cell;\"></div><div style=\"display: table-cell;\">cols&nbsp;=&nbsp;'auto',</div></div><div class=\"2865\" style=\"display: none;\"><div style=\"display: table-cell;\"></div><div style=\"display: table-cell;\">css_classes&nbsp;=&nbsp;[],</div></div><div class=\"2865\" style=\"display: none;\"><div style=\"display: table-cell;\"></div><div style=\"display: table-cell;\">disabled&nbsp;=&nbsp;False,</div></div><div class=\"2865\" style=\"display: none;\"><div style=\"display: table-cell;\"></div><div style=\"display: table-cell;\">height&nbsp;=&nbsp;None,</div></div><div class=\"2865\" style=\"display: none;\"><div style=\"display: table-cell;\"></div><div style=\"display: table-cell;\">height_policy&nbsp;=&nbsp;'auto',</div></div><div class=\"2865\" style=\"display: none;\"><div style=\"display: table-cell;\"></div><div style=\"display: table-cell;\">js_event_callbacks&nbsp;=&nbsp;{},</div></div><div class=\"2865\" style=\"display: none;\"><div style=\"display: table-cell;\"></div><div style=\"display: table-cell;\">js_property_callbacks&nbsp;=&nbsp;{},</div></div><div class=\"2865\" style=\"display: none;\"><div style=\"display: table-cell;\"></div><div style=\"display: table-cell;\">margin&nbsp;=&nbsp;(0, 0, 0, 0),</div></div><div class=\"2865\" style=\"display: none;\"><div style=\"display: table-cell;\"></div><div style=\"display: table-cell;\">max_height&nbsp;=&nbsp;None,</div></div><div class=\"2865\" style=\"display: none;\"><div style=\"display: table-cell;\"></div><div style=\"display: table-cell;\">max_width&nbsp;=&nbsp;None,</div></div><div class=\"2865\" style=\"display: none;\"><div style=\"display: table-cell;\"></div><div style=\"display: table-cell;\">min_height&nbsp;=&nbsp;None,</div></div><div class=\"2865\" style=\"display: none;\"><div style=\"display: table-cell;\"></div><div style=\"display: table-cell;\">min_width&nbsp;=&nbsp;None,</div></div><div class=\"2865\" style=\"display: none;\"><div style=\"display: table-cell;\"></div><div style=\"display: table-cell;\">name&nbsp;=&nbsp;None,</div></div><div class=\"2865\" style=\"display: none;\"><div style=\"display: table-cell;\"></div><div style=\"display: table-cell;\">sizing_mode&nbsp;=&nbsp;'stretch_width',</div></div><div class=\"2865\" style=\"display: none;\"><div style=\"display: table-cell;\"></div><div style=\"display: table-cell;\">spacing&nbsp;=&nbsp;0,</div></div><div class=\"2865\" style=\"display: none;\"><div style=\"display: table-cell;\"></div><div style=\"display: table-cell;\">subscribed_events&nbsp;=&nbsp;[],</div></div><div class=\"2865\" style=\"display: none;\"><div style=\"display: table-cell;\"></div><div style=\"display: table-cell;\">tags&nbsp;=&nbsp;[],</div></div><div class=\"2865\" style=\"display: none;\"><div style=\"display: table-cell;\"></div><div style=\"display: table-cell;\">visible&nbsp;=&nbsp;True,</div></div><div class=\"2865\" style=\"display: none;\"><div style=\"display: table-cell;\"></div><div style=\"display: table-cell;\">width&nbsp;=&nbsp;None,</div></div><div class=\"2865\" style=\"display: none;\"><div style=\"display: table-cell;\"></div><div style=\"display: table-cell;\">width_policy&nbsp;=&nbsp;'auto')</div></div></div>\n",
       "<script>\n",
       "(function() {\n",
       "  var expanded = false;\n",
       "  var ellipsis = document.getElementById(\"2866\");\n",
       "  ellipsis.addEventListener(\"click\", function() {\n",
       "    var rows = document.getElementsByClassName(\"2865\");\n",
       "    for (var i = 0; i < rows.length; i++) {\n",
       "      var el = rows[i];\n",
       "      el.style.display = expanded ? \"none\" : \"table-row\";\n",
       "    }\n",
       "    ellipsis.innerHTML = expanded ? \"&hellip;)\" : \"&lsaquo;&lsaquo;&lsaquo;\";\n",
       "    expanded = !expanded;\n",
       "  });\n",
       "})();\n",
       "</script>\n"
      ],
      "text/plain": [
       "Row(id='1797', ...)"
      ]
     },
     "execution_count": 50,
     "metadata": {},
     "output_type": "execute_result"
    }
   ],
   "source": [
    "bt.plot()"
   ]
  },
  {
   "cell_type": "markdown",
   "metadata": {},
   "source": []
  },
  {
   "cell_type": "code",
   "execution_count": 51,
   "metadata": {},
   "outputs": [],
   "source": [
    "# %%time \n",
    "# stats = bt.optimize(lag=[12, 24, 48, 96, 120, 144, 168],\n",
    "#                     sell_ = np.arange(60, 90, 3).tolist(),#sell_threshold = np.arange(0, -0.15, -0.01).tolist(),\n",
    "#                     rsi_lower_bound = np.arange(10, 40, 3).tolist(),\n",
    "#                     rsi_upper_bound = np.arange(12, 50, 3).tolist(),\n",
    "#                     #osc_lower_bound = np.arange(10, 90, 5).tolist(),\n",
    "#                     #osc_upper_bound = np.arange(10, 100, 5).tolist(),\n",
    "#                     #maximize='Equity Final [$]')#,\n",
    "#                     constraint= lambda param: param.rsi_lower_bound < param.rsi_upper_bound)\n",
    "# stats"
   ]
  },
  {
   "cell_type": "code",
   "execution_count": 52,
   "metadata": {},
   "outputs": [
    {
     "data": {
      "text/plain": [
       "<Strategy OscRsi_5m_long_short>"
      ]
     },
     "execution_count": 52,
     "metadata": {},
     "output_type": "execute_result"
    }
   ],
   "source": [
    "stats._strategy"
   ]
  },
  {
   "cell_type": "code",
   "execution_count": 53,
   "metadata": {},
   "outputs": [
    {
     "data": {
      "text/html": [
       "<div>\n",
       "<style scoped>\n",
       "    .dataframe tbody tr th:only-of-type {\n",
       "        vertical-align: middle;\n",
       "    }\n",
       "\n",
       "    .dataframe tbody tr th {\n",
       "        vertical-align: top;\n",
       "    }\n",
       "\n",
       "    .dataframe thead th {\n",
       "        text-align: right;\n",
       "    }\n",
       "</style>\n",
       "<table border=\"1\" class=\"dataframe\">\n",
       "  <thead>\n",
       "    <tr style=\"text-align: right;\">\n",
       "      <th></th>\n",
       "      <th>Size</th>\n",
       "      <th>EntryBar</th>\n",
       "      <th>ExitBar</th>\n",
       "      <th>EntryPrice</th>\n",
       "      <th>ExitPrice</th>\n",
       "      <th>PnL</th>\n",
       "      <th>ReturnPct</th>\n",
       "      <th>EntryTime</th>\n",
       "      <th>ExitTime</th>\n",
       "      <th>Duration</th>\n",
       "    </tr>\n",
       "  </thead>\n",
       "  <tbody>\n",
       "    <tr>\n",
       "      <th>0</th>\n",
       "      <td>868</td>\n",
       "      <td>3057</td>\n",
       "      <td>5073</td>\n",
       "      <td>11.515504</td>\n",
       "      <td>11.8340</td>\n",
       "      <td>276.454528</td>\n",
       "      <td>0.027658</td>\n",
       "      <td>3057</td>\n",
       "      <td>5073</td>\n",
       "      <td>2016</td>\n",
       "    </tr>\n",
       "    <tr>\n",
       "      <th>1</th>\n",
       "      <td>1108</td>\n",
       "      <td>7268</td>\n",
       "      <td>9284</td>\n",
       "      <td>9.271262</td>\n",
       "      <td>8.1986</td>\n",
       "      <td>-1188.509496</td>\n",
       "      <td>-0.115698</td>\n",
       "      <td>7268</td>\n",
       "      <td>9284</td>\n",
       "      <td>2016</td>\n",
       "    </tr>\n",
       "    <tr>\n",
       "      <th>2</th>\n",
       "      <td>1107</td>\n",
       "      <td>13572</td>\n",
       "      <td>15588</td>\n",
       "      <td>8.207399</td>\n",
       "      <td>9.7370</td>\n",
       "      <td>1693.268086</td>\n",
       "      <td>0.186369</td>\n",
       "      <td>13572</td>\n",
       "      <td>15588</td>\n",
       "      <td>2016</td>\n",
       "    </tr>\n",
       "    <tr>\n",
       "      <th>3</th>\n",
       "      <td>778</td>\n",
       "      <td>34960</td>\n",
       "      <td>36976</td>\n",
       "      <td>13.841828</td>\n",
       "      <td>16.9100</td>\n",
       "      <td>2387.037816</td>\n",
       "      <td>0.221659</td>\n",
       "      <td>34960</td>\n",
       "      <td>36976</td>\n",
       "      <td>2016</td>\n",
       "    </tr>\n",
       "    <tr>\n",
       "      <th>4</th>\n",
       "      <td>780</td>\n",
       "      <td>38118</td>\n",
       "      <td>40134</td>\n",
       "      <td>16.876860</td>\n",
       "      <td>20.6230</td>\n",
       "      <td>2921.989200</td>\n",
       "      <td>0.221969</td>\n",
       "      <td>38118</td>\n",
       "      <td>40134</td>\n",
       "      <td>2016</td>\n",
       "    </tr>\n",
       "    <tr>\n",
       "      <th>...</th>\n",
       "      <td>...</td>\n",
       "      <td>...</td>\n",
       "      <td>...</td>\n",
       "      <td>...</td>\n",
       "      <td>...</td>\n",
       "      <td>...</td>\n",
       "      <td>...</td>\n",
       "      <td>...</td>\n",
       "      <td>...</td>\n",
       "      <td>...</td>\n",
       "    </tr>\n",
       "    <tr>\n",
       "      <th>686</th>\n",
       "      <td>16</td>\n",
       "      <td>2715151</td>\n",
       "      <td>2715221</td>\n",
       "      <td>2717.544830</td>\n",
       "      <td>2721.7900</td>\n",
       "      <td>67.922720</td>\n",
       "      <td>0.001562</td>\n",
       "      <td>2715151</td>\n",
       "      <td>2715221</td>\n",
       "      <td>70</td>\n",
       "    </tr>\n",
       "    <tr>\n",
       "      <th>687</th>\n",
       "      <td>17</td>\n",
       "      <td>2720252</td>\n",
       "      <td>2722268</td>\n",
       "      <td>2611.889280</td>\n",
       "      <td>2528.3200</td>\n",
       "      <td>-1420.677760</td>\n",
       "      <td>-0.031996</td>\n",
       "      <td>2720252</td>\n",
       "      <td>2722268</td>\n",
       "      <td>2016</td>\n",
       "    </tr>\n",
       "    <tr>\n",
       "      <th>688</th>\n",
       "      <td>16</td>\n",
       "      <td>2722369</td>\n",
       "      <td>2724055</td>\n",
       "      <td>2589.446860</td>\n",
       "      <td>2524.5300</td>\n",
       "      <td>-1038.669760</td>\n",
       "      <td>-0.025070</td>\n",
       "      <td>2722369</td>\n",
       "      <td>2724055</td>\n",
       "      <td>1686</td>\n",
       "    </tr>\n",
       "    <tr>\n",
       "      <th>689</th>\n",
       "      <td>16</td>\n",
       "      <td>2724703</td>\n",
       "      <td>2726719</td>\n",
       "      <td>2654.752100</td>\n",
       "      <td>2767.3800</td>\n",
       "      <td>1802.046400</td>\n",
       "      <td>0.042425</td>\n",
       "      <td>2724703</td>\n",
       "      <td>2726719</td>\n",
       "      <td>2016</td>\n",
       "    </tr>\n",
       "    <tr>\n",
       "      <th>690</th>\n",
       "      <td>15</td>\n",
       "      <td>2730643</td>\n",
       "      <td>2732659</td>\n",
       "      <td>2912.799890</td>\n",
       "      <td>2889.1600</td>\n",
       "      <td>-354.598350</td>\n",
       "      <td>-0.008116</td>\n",
       "      <td>2730643</td>\n",
       "      <td>2732659</td>\n",
       "      <td>2016</td>\n",
       "    </tr>\n",
       "  </tbody>\n",
       "</table>\n",
       "<p>691 rows × 10 columns</p>\n",
       "</div>"
      ],
      "text/plain": [
       "     Size  EntryBar  ExitBar   EntryPrice  ExitPrice          PnL  ReturnPct  \\\n",
       "0     868      3057     5073    11.515504    11.8340   276.454528   0.027658   \n",
       "1    1108      7268     9284     9.271262     8.1986 -1188.509496  -0.115698   \n",
       "2    1107     13572    15588     8.207399     9.7370  1693.268086   0.186369   \n",
       "3     778     34960    36976    13.841828    16.9100  2387.037816   0.221659   \n",
       "4     780     38118    40134    16.876860    20.6230  2921.989200   0.221969   \n",
       "..    ...       ...      ...          ...        ...          ...        ...   \n",
       "686    16   2715151  2715221  2717.544830  2721.7900    67.922720   0.001562   \n",
       "687    17   2720252  2722268  2611.889280  2528.3200 -1420.677760  -0.031996   \n",
       "688    16   2722369  2724055  2589.446860  2524.5300 -1038.669760  -0.025070   \n",
       "689    16   2724703  2726719  2654.752100  2767.3800  1802.046400   0.042425   \n",
       "690    15   2730643  2732659  2912.799890  2889.1600  -354.598350  -0.008116   \n",
       "\n",
       "     EntryTime  ExitTime  Duration  \n",
       "0         3057      5073      2016  \n",
       "1         7268      9284      2016  \n",
       "2        13572     15588      2016  \n",
       "3        34960     36976      2016  \n",
       "4        38118     40134      2016  \n",
       "..         ...       ...       ...  \n",
       "686    2715151   2715221        70  \n",
       "687    2720252   2722268      2016  \n",
       "688    2722369   2724055      1686  \n",
       "689    2724703   2726719      2016  \n",
       "690    2730643   2732659      2016  \n",
       "\n",
       "[691 rows x 10 columns]"
      ]
     },
     "execution_count": 53,
     "metadata": {},
     "output_type": "execute_result"
    }
   ],
   "source": [
    "stats['_trades']"
   ]
  },
  {
   "cell_type": "code",
   "execution_count": 54,
   "metadata": {},
   "outputs": [],
   "source": [
    "trades = pd.DataFrame(stats['_trades'])"
   ]
  },
  {
   "cell_type": "code",
   "execution_count": 55,
   "metadata": {},
   "outputs": [],
   "source": [
    "trades.to_excel(f\"trades_{table}_short.xlsx\")"
   ]
  },
  {
   "cell_type": "code",
   "execution_count": null,
   "metadata": {},
   "outputs": [],
   "source": []
  }
 ],
 "metadata": {
  "interpreter": {
   "hash": "f7a2edc2e0af523844596de9c639cd0428457baa318d70c85b16ead7cea2cb8f"
  },
  "kernelspec": {
   "display_name": "Python 3.8.3",
   "language": "python",
   "name": "python3"
  },
  "language_info": {
   "codemirror_mode": {
    "name": "ipython",
    "version": 3
   },
   "file_extension": ".py",
   "mimetype": "text/x-python",
   "name": "python",
   "nbconvert_exporter": "python",
   "pygments_lexer": "ipython3",
   "version": "3.8.3"
  },
  "orig_nbformat": 4
 },
 "nbformat": 4,
 "nbformat_minor": 2
}
